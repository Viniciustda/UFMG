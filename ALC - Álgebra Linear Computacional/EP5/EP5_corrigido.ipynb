{
  "nbformat": 4,
  "nbformat_minor": 5,
  "metadata": {
    "colab": {
      "name": "EP5_corrigido.ipynb",
      "provenance": [],
      "collapsed_sections": []
    },
    "kernelspec": {
      "display_name": "Python 3",
      "language": "python",
      "name": "python3"
    },
    "language_info": {
      "codemirror_mode": {
        "name": "ipython",
        "version": 3
      },
      "file_extension": ".py",
      "mimetype": "text/x-python",
      "name": "python",
      "nbconvert_exporter": "python",
      "pygments_lexer": "ipython3",
      "version": "3.8.5"
    }
  },
  "cells": [
    {
      "cell_type": "markdown",
      "source": [
        "# Exercício de Programação 5\n",
        "\n",
        "<font color=\"red\">**Prazo de submissão: 23:55 do dia 23.08.2021** </font>\n",
        "\n",
        "2021.1 Álgebra Linear Computacional - DCC - UFMG\n",
        "\n",
        "Erickson - Fabricio\n",
        "\n",
        "Instruções:\n",
        "* Antes de submeter suas soluções, certifique-se de que tudo roda como esperado. Primeiro, **reinicie o kernel** no menu, selecione Kernel$\\rightarrow$Restart e então execute **todas as células** (no menu, Cell$\\rightarrow$Run All)\n",
        "* Apenas o arquivo .ipynb deve ser submetido. Ele não deve ser compactado.\n",
        "* Não deixe de preencher seu nome e número de matrícula na célula a seguir"
      ],
      "metadata": {
        "id": "settled-diversity"
      }
    },
    {
      "cell_type": "markdown",
      "source": [
        "**Nome do aluno:** VINICIUS TRINDADE DIAS ABEL\r\n",
        "\r\n",
        "**Matricula:** 2020007112"
      ],
      "metadata": {
        "id": "rational-architecture"
      }
    },
    {
      "cell_type": "markdown",
      "source": [
        "## Introdução\n",
        "Esse EP será dividido em 2 partes:\n",
        "\n",
        "1. Métodos iterativos para calcular autovalores e singular values.\n",
        "3. Métodos iterativos para solução de sistemas $Ax = b$ (Jacob e Seidel)\n",
        "\n",
        "Os conceitos cobrados aqui são discutidos nas aulas que abrangem o conteúdo de cada parte e elas devem ser a principal fonte de consulta para suas soluções."
      ],
      "metadata": {
        "id": "committed-lecture"
      }
    },
    {
      "cell_type": "code",
      "execution_count": null,
      "source": [
        "import matplotlib.pyplot as plt\r\n",
        "import numpy as np"
      ],
      "outputs": [],
      "metadata": {
        "id": "lesbian-intent"
      }
    },
    {
      "cell_type": "markdown",
      "source": [
        "### Questão 1 - Cálculo de autovalores e valores singulares\n"
      ],
      "metadata": {
        "id": "computational-birth"
      }
    },
    {
      "cell_type": "markdown",
      "source": [
        "Nessa primeira parte, vamos implementar o algoritmo QR para obtenção dos autovalores de uma matriz A, como foi descrito nas aulas.\n",
        "\n",
        "Abaixo temos a matriz A:"
      ],
      "metadata": {
        "id": "itffvRYMizM_"
      }
    },
    {
      "cell_type": "code",
      "execution_count": null,
      "source": [
        "# ATENÇÃO: Não editar esta célula\n",
        "A = np.vander(np.array([5, 4, 3, 2, 1]))\n",
        "print(A)"
      ],
      "outputs": [
        {
          "output_type": "stream",
          "name": "stdout",
          "text": [
            "[[625 125  25   5   1]\n",
            " [256  64  16   4   1]\n",
            " [ 81  27   9   3   1]\n",
            " [ 16   8   4   2   1]\n",
            " [  1   1   1   1   1]]\n"
          ]
        }
      ],
      "metadata": {
        "colab": {
          "base_uri": "https://localhost:8080/"
        },
        "id": "4ckXBj9JhBlM",
        "outputId": "296266a1-afa1-40bd-b632-6d7e8cf800db"
      }
    },
    {
      "cell_type": "markdown",
      "source": [
        "**1.1.1** Implemente o algoritmo QR, utilizando um **while loop** até satisfazer a condição: $A_i[1][0] < 10^{-10}$. Para tanto, lembre-se dos passos do algoritmo discutidos em aula:\n",
        "\n",
        "Inicializando:\n",
        "$A_0 = A$ \\\\\n",
        "Em cada loop: \\\\\n",
        "$A_0 = Q_0R_0$ \\\\\n",
        "$A_1 = Q_0^T A_0 Q_0$ \\\\\n",
        "$A_0 \\leftarrow A_1$ \\\\\n",
        "\n",
        "\n",
        "Para a decomposição QR, utilize o comando [`np.linalg.qr`](https://numpy.org/doc/stable/reference/generated/numpy.linalg.qr.html).\n",
        "\n",
        "Ao final do loop imprima os resultados: \\\\\n",
        "\n",
        "print(iter, A[1][0], A)\n",
        "\n",
        "iter = número de iterações necessárias para convergência."
      ],
      "metadata": {
        "id": "ASEwRvSftOgf"
      }
    },
    {
      "cell_type": "code",
      "execution_count": null,
      "source": [
        "# Insira seu código aqui"
      ],
      "outputs": [],
      "metadata": {
        "id": "ppRu8_59ZtMk"
      }
    },
    {
      "cell_type": "markdown",
      "source": [
        "**1.1.2** Repita o exercício anterior, agora simplificando o algoritmo QR, considerando a relação:\n",
        "\n",
        "$$Q_0^TA_0 = R_0$$\n",
        "\n",
        "Ao final do loop imprima os resultados: \\\\\n",
        "\n",
        "print(iter, R_0, A[1][0], A)\n",
        "\n",
        "iter = número de iterações necessárias para convergência."
      ],
      "metadata": {
        "id": "vy5pInNj3mY1"
      }
    },
    {
      "cell_type": "code",
      "execution_count": null,
      "source": [
        "# Insira seu código aqui"
      ],
      "outputs": [],
      "metadata": {
        "id": "V4MG2RCiJGFP"
      }
    },
    {
      "cell_type": "markdown",
      "source": [
        "O próximo passo agora é utilizar o algoritmo QR para encontrar valores singulares de matrizes não quadradas. Considere para este exercício as matrizes B e C abaixo:"
      ],
      "metadata": {
        "id": "p-8x7-bAla2h"
      }
    },
    {
      "cell_type": "code",
      "execution_count": null,
      "source": [
        "B = np.array([[4, 5, 6], [7, 8, 9]])\n",
        "C = np.array([[1, 2, 3, 4], [5, 6, 7, 8], [10, 10, 7, 2]])\n",
        "print('B:', '\\n', B)\n",
        "print('C:', '\\n', C)"
      ],
      "outputs": [
        {
          "output_type": "stream",
          "name": "stdout",
          "text": [
            "B: \n",
            " [[4 5 6]\n",
            " [7 8 9]]\n",
            "C: \n",
            " [[ 1  2  3  4]\n",
            " [ 5  6  7  8]\n",
            " [10 10  7  2]]\n"
          ]
        }
      ],
      "metadata": {
        "colab": {
          "base_uri": "https://localhost:8080/"
        },
        "id": "rXRV-y2T7FVv",
        "outputId": "5137a010-e195-42cc-e36b-60379c739032"
      }
    },
    {
      "cell_type": "markdown",
      "source": [
        "**1.2.1** Para resolver essa questão, lembre-se que para qualquer matriz não quadrada B:\n",
        "\n",
        "1. Existe uma decomposição $B = U \\Sigma V^T$ \n",
        "\n",
        "1. $B^T B$ é quadrada, simétrica e admite decomposição espectral da forma: $B^T B = Q \\Lambda Q^T$\n",
        "\n",
        "3. Substituindo 1 em 2, temos: $B^T B = V \\Sigma^2 V^T$\n",
        "\n",
        "A nível de algoritmo, crie uma função generalista que retorna os valores singulares de qualquer matriz real, não quadrada seguindo os passos:\n",
        "\n",
        "1. Calcule $S =B^T B$\n",
        "2. Use o algoritmo QR para obter autovalores de $S$ (loop com 10 iterações).\n",
        "3. Tire a raiz quadrada dos autovalores de S para obter os valores singulares de B.\n",
        "4. Retorne um vetor **apenas com os valores singulares não nulos** (dica: [`np.diag`](https://numpy.org/doc/stable/reference/generated/numpy.diag.html)).\n",
        "\n",
        "Imprima a saída da sua função para B e C."
      ],
      "metadata": {
        "id": "h_ZBCsZLnmXk"
      }
    },
    {
      "cell_type": "code",
      "execution_count": null,
      "source": [
        "# Insira seu código aqui"
      ],
      "outputs": [],
      "metadata": {
        "id": "Xba2RhWLlZuq"
      }
    },
    {
      "cell_type": "markdown",
      "source": [
        "### Questão 2 -Gauss-Jacobi e Gauss Seidel\n",
        "\n",
        "Nesta seçãoo, vamos implementar os algoritmos de Gauss-Jacobi e Gauss Seidel para resolver o sistema $Ax = b$, tal como foi descrito nas aulas.\n",
        "\n",
        "Dica 1:\n",
        "\n",
        "Passos iterativos do método Gauss-Jacobi para uma matriz 3x3:\n",
        "\n",
        "Dado um valor inicial para x: $\\vec{x}^{k = 0} = [1, 1, 1]$\n",
        "\n",
        "Realize a iteração:\n",
        "\n",
        "$x_1^{k+1} = (b_1 - a_{12} x_2^{(k)} - a_{13}x_3^{(k)})/a_{11}$\n",
        "\n",
        "$x_2^{k+1} = (b_2 - a_{21} x_1^{(k)} - a_{23}x_3^{(k)})/a_{22}$\n",
        "\n",
        "$x_3^{k+1} = (b_3 - a_{31} x_1^{(k)} - a_{32}x_2^{(k)})/a_{33}$\n",
        "\n",
        "Dica 2:\n",
        "\n",
        "Passos iterativos do método Gauss-Seidel para uma matriz 3x3:\n",
        "\n",
        "Dado um valor inicial para x: $\\vec{x}^{k = 0} = [1, 1, 1]$\n",
        "\n",
        "Realize a iteração:\n",
        "\n",
        "$x_1^{k+1} = (b_1 - a_{12} x_2^{(k)} - a_{13}x_3^{(k)})/a_{11}$\n",
        "\n",
        "$x_2^{k+1} = (b_2 - a_{21} x_1^{(k+1)} - a_{23}x_3^{(k)})/a_{22}$\n",
        "\n",
        "$x_3^{k+1} = (b_3 - a_{31} x_1^{(k+1)} - a_{32}x_2^{(k+1)})/a_{33}$\n",
        "\n",
        "Dica 3:\n",
        "\n",
        "Ao fazer o exercício no Colab tive problemas de arredondamento ao criar o vetor x_iter com o comando np.array. Caso tenham este problema, basta declarar x_iter como uma lista."
      ],
      "metadata": {
        "id": "pV7TJX-Qn43E"
      }
    },
    {
      "cell_type": "markdown",
      "source": [
        "**2.1** Encontre a solução do sistema $Ax = b$, pelo método de Gauss-Jacobi realizando a iteração do método 5 vezes. A cada iteração, realize o print da sua estimativa para x. Neste exercício, considere a primeira estimativa de $x = [1, 1, 1]$, com A e b definidos abaixo.\n",
        "\n",
        "Após rodar o algoritmo, faça um print da sua solução, comparando com a saída do método numpy: np.linalg.solve(A,b)"
      ],
      "metadata": {
        "id": "N3uhDT9a2kch"
      }
    },
    {
      "cell_type": "code",
      "execution_count": null,
      "source": [
        "# ATENÇÃO: Não editar esta célula\n",
        "A = np.array([[27, 6, -2], [6, 15, 2], [1, 1, 54]])\n",
        "b = np.array([85, 72, 110])\n",
        "print('A: \\n', A)\n",
        "print('b: \\n', b)"
      ],
      "outputs": [
        {
          "output_type": "stream",
          "name": "stdout",
          "text": [
            "A: \n",
            " [[27  6 -2]\n",
            " [ 6 15  2]\n",
            " [ 1  1 54]]\n",
            "b: \n",
            " [ 85  72 110]\n"
          ]
        }
      ],
      "metadata": {
        "colab": {
          "base_uri": "https://localhost:8080/"
        },
        "id": "jeu9nVWeudje",
        "outputId": "816c1e09-c50b-46d5-c1c7-618b1f8127b8"
      }
    },
    {
      "cell_type": "code",
      "execution_count": null,
      "source": [
        "# Insira seu código aqui"
      ],
      "outputs": [],
      "metadata": {
        "id": "BxN9Xf3gI__S"
      }
    },
    {
      "cell_type": "markdown",
      "source": [
        "**2.2** Repita o exercício anterior, agora pelo método de Gauss-Seidel"
      ],
      "metadata": {
        "id": "OE0zIPudHtKJ"
      }
    },
    {
      "cell_type": "code",
      "execution_count": null,
      "source": [
        "# Insira seu código aqui"
      ],
      "outputs": [],
      "metadata": {
        "id": "hyypho6iJDO9"
      }
    }
  ]
}