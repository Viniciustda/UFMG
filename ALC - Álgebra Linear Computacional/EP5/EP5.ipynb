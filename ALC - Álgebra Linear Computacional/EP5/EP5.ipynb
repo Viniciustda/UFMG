{
 "cells": [
  {
   "cell_type": "markdown",
   "source": [
    "# Exercício de Programação 5: Regressão\n",
    "\n",
    "<font color=\"red\">**Prazo de submissão: 23:55 do dia 16/03/2021** </font>\n",
    "\n",
    "2020.2 Álgebra Linear Computacional - DCC - UFMG\n",
    "\n",
    "Erickson - Fabricio\n",
    "\n",
    "Instruções:\n",
    "* Antes de submeter suas soluções, certifique-se de que tudo roda como esperado. Primeiro, **reinicie o kernel** no menu, selecione Kernel$\\rightarrow$Restart e então execute **todas as células** (no menu, Cell$\\rightarrow$Run All)\n",
    "* Apenas o arquivo .ipynb deve ser submetido. Ele não deve ser compactado.\n",
    "* Não deixe de preencher seu nome e número de matrícula na célula a seguir\n",
    "\n",
    "**Nome do aluno:** VINICIUS TRINDADE DIAS ABEL\n",
    "\n",
    "**Matricula:** 2020007112"
   ],
   "metadata": {}
  },
  {
   "cell_type": "markdown",
   "source": [
    "## Carregando os dados\n",
    "\n",
    "Iremos carregar os dados usando a biblioteca ```pandas```. Não se preocupe se você não conhece a biblioteca, pois o nosso objetivo é apenas extrair a matriz de dados $X$. Segue uma descrição do dataset, retirada [daqui](http://statweb.stanford.edu/~owen/courses/202/Cereals.txt).\n",
    "\n",
    "* Datafile Name: Cereals\n",
    "* Datafile Subjects: Food , Health\n",
    "* Story Names: Healthy Breakfast\n",
    "* Reference: Data available at many grocery stores\n",
    "* Authorization: free use\n",
    "* Description: Data on several variable of different brands of cereal.\n",
    "\n",
    "A value of -1 for nutrients indicates a missing observation.\n",
    "Number of cases: 77\n",
    "Variable Names:\n",
    "\n",
    "  1. Name: Name of cereal\n",
    "  2. mfr: Manufacturer of cereal where A = American Home Food Products; G =\n",
    "     General Mills; K = Kelloggs; N = Nabisco; P = Post; Q = Quaker Oats; R\n",
    "     = Ralston Purina\n",
    "  3. type: cold or hot\n",
    "  4. calories: calories per serving\n",
    "  5. protein: grams of protein\n",
    "  6. fat: grams of fat\n",
    "  7. sodium: milligrams of sodium\n",
    "  8. fiber: grams of dietary fiber\n",
    "  9. carbo: grams of complex carbohydrates\n",
    "  10. sugars: grams of sugars\n",
    "  11. potass: milligrams of potassium\n",
    "  12. vitamins: vitamins and minerals - 0, 25, or 100, indicating the typical percentage of FDA recommended\n",
    "  13. shelf: display shelf (1, 2, or 3, counting from the floor)\n",
    "  14. weight: weight in ounces of one serving\n",
    "  15. cups: number of cups in one serving\n",
    "  16. rating: a rating of the cereals"
   ],
   "metadata": {}
  },
  {
   "cell_type": "code",
   "execution_count": 1,
   "source": [
    "#Execute esta célula para instalar o pandas caso já não tenha instalado\r\n",
    "# import sys\r\n",
    "# !{sys.executable} -m pip install --user pandas"
   ],
   "outputs": [],
   "metadata": {}
  },
  {
   "cell_type": "code",
   "execution_count": null,
   "source": [
    "import pandas as pd\r\n",
    "df = pd.read_table('cereal.txt',sep='\\s+',index_col='name')\r\n",
    "df"
   ],
   "outputs": [],
   "metadata": {}
  },
  {
   "cell_type": "markdown",
   "source": [
    "A seguir iremos remover as linhas correspondentes aos cereais que possuem dados faltantes, representados pelo valor -1.\n",
    "Também iremos remover as colunas com dados categóricos 'mfr' e 'type', e os dados numéricos, 'shelf', 'weight' e 'cups'."
   ],
   "metadata": {}
  },
  {
   "cell_type": "code",
   "execution_count": null,
   "source": [
    "import numpy as np\r\n",
    "new_df = df.replace(-1,np.nan)\r\n",
    "new_df = new_df.dropna()\r\n",
    "new_df = new_df.drop(['mfr','type','shelf','weight','cups'],axis=1)\r\n",
    "new_df"
   ],
   "outputs": [],
   "metadata": {}
  },
  {
   "cell_type": "markdown",
   "source": [
    "Finalmente, iremos converter os dados nutricionais numéricos de ```new_df``` para uma matriz ```dados``` e as avaliações (ratings) para um vetor $y$. Os nomes dos cereais serão salvos em uma lista ```cereral_names``` e os nomes das colunas em uma lista ```col_names```."
   ],
   "metadata": {}
  },
  {
   "cell_type": "code",
   "execution_count": null,
   "source": [
    "cereral_names = list(new_df.index)\r\n",
    "print('Cereais:',cereral_names)\r\n",
    "col_names = list(new_df.columns)\r\n",
    "print('Colunas:',col_names)\r\n",
    "\r\n",
    "dados = new_df.drop('rating', axis=1).values\r\n",
    "print('As dimensões de dados são:',dados.shape)\r\n",
    "y = new_df['rating'].values\r\n",
    "print('As dimensões de y são:',y.shape)"
   ],
   "outputs": [],
   "metadata": {}
  },
  {
   "cell_type": "markdown",
   "source": [
    "## Estimando os parâmetros da regressão linear simples\n",
    "\n",
    "Qual será a relação entre a avaliação $y$ e o número de calorias $x$ de um cereal? Para responder esta pergunta, considere uma regressão linear simples\n",
    "$$\n",
    "y = \\beta_0 + \\beta_1 x.\n",
    "$$\n",
    "Para encontrar os coeficientes $\\beta_0$ e $\\beta_1$ utilizando o método dos mínimos quadrados, basta resolver o sistema\n",
    "$$\n",
    "\\begin{bmatrix}\n",
    "n & \\sum_i x^{(i)} \\\\\n",
    "\\sum_i x^{(i)} & \\sum_i (x^{(i)})^2\n",
    "\\end{bmatrix}\n",
    "\\begin{bmatrix}\n",
    "\\beta_0 \\\\ \\beta_1\n",
    "\\end{bmatrix}\n",
    "=\n",
    "\\begin{bmatrix}\n",
    "\\sum_i y^{(i)} \\\\ \\sum_i x^{(i)} y^{(i)}\n",
    "\\end{bmatrix}\n",
    "$$\n",
    "\n",
    "Portanto, para encontrar $\\beta_0$ e $\\beta_1$, você precisa\n",
    "1. Calcular a matriz\n",
    "$$\n",
    "A = \\begin{bmatrix}\n",
    "n & \\sum_i x^{(i)} \\\\\n",
    "\\sum_i x^{(i)} & \\sum_i (x^{(i)})^2\n",
    "\\end{bmatrix}\n",
    "$$\n",
    "e o vetor\n",
    "$$\n",
    "c = \\begin{bmatrix}\n",
    "\\sum_i y^{(i)} \\\\ \\sum_i x^{(i)} y^{(i)}\n",
    "\\end{bmatrix}\n",
    "$$\n",
    "2. Resolver $A \\beta = c$, onde $\\beta$ é o vetor de coeficientes."
   ],
   "metadata": {}
  },
  {
   "cell_type": "markdown",
   "source": [
    "**Exercício 1 - Regressão simples:** Encontre os coeficientes $\\beta_0$ e $\\beta_1$ quando a variável independente é ```calories```. Dica: A variavel X abaixo já armazena os valores deste atributo."
   ],
   "metadata": {}
  },
  {
   "cell_type": "code",
   "execution_count": null,
   "source": [
    "X = new_df['calories'].values\r\n",
    "\r\n",
    "n = len( X )\r\n",
    "s_x = X.sum()\r\n",
    "s_x2 = np.sum( X**2 )\r\n",
    "A = np.array( [[n, s_x], [s_x, s_x2]] )\r\n",
    "s_y = y.sum()\r\n",
    "s_x_y = np.sum( X*y )\r\n",
    "c = np.array( [[s_y], [( s_x_y )]] )\r\n",
    "beta = np.dot( np.linalg.inv( A ), c )\r\n",
    "y1 = beta[0] + X * beta[1]\r\n",
    "beta"
   ],
   "outputs": [],
   "metadata": {}
  },
  {
   "cell_type": "markdown",
   "source": [
    "**Exercício 2 - Regressão múltipla:** Considerando a nova tabela de dados X abaixo com os atributos 'calories', 'protein', 'fat', 'sugars' e 'vitamins' selecionados, estime os parâmetros da regressão múltipla para obter a variavel resposta ```rating``` "
   ],
   "metadata": {}
  },
  {
   "cell_type": "code",
   "execution_count": null,
   "source": [
    "import sklearn.model_selection as ms\r\n",
    "import sklearn.linear_model as lm\r\n",
    "\r\n",
    "X = new_df.loc[:,['calories', 'protein', 'fat', 'sugars', 'vitamins']].values\r\n",
    "\r\n",
    "x = np.hstack( ( np.ones( ( X.shape[0], 1 ) ), X ) )\r\n",
    "cs = np.linalg.inv( x.T @ X1 ) @ x.T @ y\r\n",
    "y2 = x @ cs\r\n",
    "cs"
   ],
   "outputs": [],
   "metadata": {}
  },
  {
   "cell_type": "markdown",
   "source": [
    "**Exercício 3:** Nossos modelos de regressão linear são bons preditores da nota de avaliação do cereal? Qual o melhor modelo? Calcule os coeficientes de determinação e faça uma análise dos valores obtidos para responder a estas perguntas."
   ],
   "metadata": {}
  },
  {
   "cell_type": "code",
   "execution_count": null,
   "source": [
    "import sklearn.metrics \r\n",
    "\r\n",
    "R2_a = r2_score( y, y1 )\r\n",
    "print( R2_a )\r\n",
    "R2_b = r2_score( y, y2 )\r\n",
    "R2_b"
   ],
   "outputs": [],
   "metadata": {}
  }
 ],
 "metadata": {
  "kernelspec": {
   "name": "python3",
   "display_name": "Python 3.8.2 32-bit",
   "metadata": {
    "interpreter": {
     "hash": "dd7e0ed335e2463498c35f35bf683c0fbd1a41e66f87d80b58c8d43b0fcac5b3"
    }
   }
  },
  "language_info": {
   "codemirror_mode": {
    "name": "ipython",
    "version": 3
   },
   "file_extension": ".py",
   "mimetype": "text/x-python",
   "name": "python",
   "nbconvert_exporter": "python",
   "pygments_lexer": "ipython3",
   "version": "3.8.2-final"
  }
 },
 "nbformat": 4,
 "nbformat_minor": 2
}