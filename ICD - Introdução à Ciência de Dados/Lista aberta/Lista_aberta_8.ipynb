{
  "cells": [
    {
      "cell_type": "markdown",
      "metadata": {
        "deletable": false,
        "editable": false,
        "nbgrader": {
          "checksum": "796114292f40d93792b787b19fbed7ee",
          "grade": false,
          "grade_id": "cellc-a00",
          "locked": true,
          "schema_version": 1,
          "solution": false
        },
        "id": "9DX52SnYm63_"
      },
      "source": [
        "# Lista Aberta do Módulo 4 - Comparando Classificadores"
      ]
    },
    {
      "cell_type": "markdown",
      "source": [
        "**Regras para envio:**\n",
        "\n",
        "1. Faça uma cópia deste arquivo\n",
        "2. Deixe o arquivo aberto para qualquer pessoa com o link (Share > Anyone with the link)\n",
        "3. Garanta que as saídas do notebook estão salvas (Settings > deixe desligada a opção (New notebooks use private outputs (omit outputs when saving)), e acesse o link depois em outro navegador para garantir que estão!)\n",
        "4. Digite seu nome ##Vinicius Trindade Dias Abel###\n",
        "5. Após finalizar o exercício, poste o link (apenas o link!) no moodle.\n",
        "\n",
        "**Atenção**: como temos pouco tempo para o fechamento do semestre, por favor garantam que seus links estão corretos! Não teremos tempo para correções. É essencial que os alunos de ICD saibam usar o Google Colab."
      ],
      "metadata": {
        "id": "rHUqhVKioqnO"
      }
    },
    {
      "cell_type": "markdown",
      "source": [
        "## Identificação de malignidade em tumores de mama - UCI ML Breast Cancer Wisconsin (Diagnostic)"
      ],
      "metadata": {
        "id": "DeaO2FXyGjNL"
      }
    },
    {
      "cell_type": "markdown",
      "source": [
        "Neste trabalho você deverá realizar uma comparação entre o k-Nearest Neighbors (KNN) e o Random Forest para classificação de pacientes com tumores na mama (maligno = 1 vs benigno = 0). Para isso, usaremos o dataset de câncer de mama de UCI (já embutido no sklearn).\n",
        "\n",
        "A avaliação dos métodos deverá ser feito usando precisão, revocação e F1. Você também deve reportar a matriz de confusão.\n",
        "\n",
        "Você não precisa implementar os métodos, já que estão disponíveis na biblioteca scikit-learn da linguagem Python. Se necessário, pode fazer mais importações de bibliotecas."
      ],
      "metadata": {
        "id": "XWz0JIVkAiGv"
      }
    },
    {
      "cell_type": "markdown",
      "source": [
        "## Importando módulos e baixando dataset"
      ],
      "metadata": {
        "id": "3TVWlLvOLhR0"
      }
    },
    {
      "cell_type": "code",
      "source": [
        "from sklearn.datasets import load_breast_cancer\n",
        "import pandas as pd\n",
        "import numpy as np\n",
        "from sklearn import metrics\n",
        "from sklearn.metrics import precision_score, recall_score, f1_score, confusion_matrix\n",
        "from sklearn.ensemble import RandomForestClassifier\n",
        "from sklearn.neighbors import KNeighborsClassifier\n",
        "from sklearn.model_selection import StratifiedKFold, cross_val_predict\n",
        "from sklearn.feature_selection import SelectKBest, f_classif\n",
        "import matplotlib.pyplot as plt"
      ],
      "metadata": {
        "id": "TABP0905EhnN"
      },
      "execution_count": 71,
      "outputs": []
    },
    {
      "cell_type": "code",
      "source": [
        "cancer = load_breast_cancer()\n",
        "df = pd.DataFrame(cancer.data,columns =[cancer.feature_names])"
      ],
      "metadata": {
        "id": "D4K2s0aPEilP"
      },
      "execution_count": 72,
      "outputs": []
    },
    {
      "cell_type": "code",
      "source": [
        "print(cancer.DESCR)"
      ],
      "metadata": {
        "colab": {
          "base_uri": "https://localhost:8080/"
        },
        "id": "DsVjiyU1FRYi",
        "outputId": "de5a504f-e5db-40ac-c6b4-9f87d103b4b0"
      },
      "execution_count": 73,
      "outputs": [
        {
          "output_type": "stream",
          "name": "stdout",
          "text": [
            ".. _breast_cancer_dataset:\n",
            "\n",
            "Breast cancer wisconsin (diagnostic) dataset\n",
            "--------------------------------------------\n",
            "\n",
            "**Data Set Characteristics:**\n",
            "\n",
            "    :Number of Instances: 569\n",
            "\n",
            "    :Number of Attributes: 30 numeric, predictive attributes and the class\n",
            "\n",
            "    :Attribute Information:\n",
            "        - radius (mean of distances from center to points on the perimeter)\n",
            "        - texture (standard deviation of gray-scale values)\n",
            "        - perimeter\n",
            "        - area\n",
            "        - smoothness (local variation in radius lengths)\n",
            "        - compactness (perimeter^2 / area - 1.0)\n",
            "        - concavity (severity of concave portions of the contour)\n",
            "        - concave points (number of concave portions of the contour)\n",
            "        - symmetry\n",
            "        - fractal dimension (\"coastline approximation\" - 1)\n",
            "\n",
            "        The mean, standard error, and \"worst\" or largest (mean of the three\n",
            "        worst/largest values) of these features were computed for each image,\n",
            "        resulting in 30 features.  For instance, field 0 is Mean Radius, field\n",
            "        10 is Radius SE, field 20 is Worst Radius.\n",
            "\n",
            "        - class:\n",
            "                - WDBC-Malignant\n",
            "                - WDBC-Benign\n",
            "\n",
            "    :Summary Statistics:\n",
            "\n",
            "    ===================================== ====== ======\n",
            "                                           Min    Max\n",
            "    ===================================== ====== ======\n",
            "    radius (mean):                        6.981  28.11\n",
            "    texture (mean):                       9.71   39.28\n",
            "    perimeter (mean):                     43.79  188.5\n",
            "    area (mean):                          143.5  2501.0\n",
            "    smoothness (mean):                    0.053  0.163\n",
            "    compactness (mean):                   0.019  0.345\n",
            "    concavity (mean):                     0.0    0.427\n",
            "    concave points (mean):                0.0    0.201\n",
            "    symmetry (mean):                      0.106  0.304\n",
            "    fractal dimension (mean):             0.05   0.097\n",
            "    radius (standard error):              0.112  2.873\n",
            "    texture (standard error):             0.36   4.885\n",
            "    perimeter (standard error):           0.757  21.98\n",
            "    area (standard error):                6.802  542.2\n",
            "    smoothness (standard error):          0.002  0.031\n",
            "    compactness (standard error):         0.002  0.135\n",
            "    concavity (standard error):           0.0    0.396\n",
            "    concave points (standard error):      0.0    0.053\n",
            "    symmetry (standard error):            0.008  0.079\n",
            "    fractal dimension (standard error):   0.001  0.03\n",
            "    radius (worst):                       7.93   36.04\n",
            "    texture (worst):                      12.02  49.54\n",
            "    perimeter (worst):                    50.41  251.2\n",
            "    area (worst):                         185.2  4254.0\n",
            "    smoothness (worst):                   0.071  0.223\n",
            "    compactness (worst):                  0.027  1.058\n",
            "    concavity (worst):                    0.0    1.252\n",
            "    concave points (worst):               0.0    0.291\n",
            "    symmetry (worst):                     0.156  0.664\n",
            "    fractal dimension (worst):            0.055  0.208\n",
            "    ===================================== ====== ======\n",
            "\n",
            "    :Missing Attribute Values: None\n",
            "\n",
            "    :Class Distribution: 212 - Malignant, 357 - Benign\n",
            "\n",
            "    :Creator:  Dr. William H. Wolberg, W. Nick Street, Olvi L. Mangasarian\n",
            "\n",
            "    :Donor: Nick Street\n",
            "\n",
            "    :Date: November, 1995\n",
            "\n",
            "This is a copy of UCI ML Breast Cancer Wisconsin (Diagnostic) datasets.\n",
            "https://goo.gl/U2Uwz2\n",
            "\n",
            "Features are computed from a digitized image of a fine needle\n",
            "aspirate (FNA) of a breast mass.  They describe\n",
            "characteristics of the cell nuclei present in the image.\n",
            "\n",
            "Separating plane described above was obtained using\n",
            "Multisurface Method-Tree (MSM-T) [K. P. Bennett, \"Decision Tree\n",
            "Construction Via Linear Programming.\" Proceedings of the 4th\n",
            "Midwest Artificial Intelligence and Cognitive Science Society,\n",
            "pp. 97-101, 1992], a classification method which uses linear\n",
            "programming to construct a decision tree.  Relevant features\n",
            "were selected using an exhaustive search in the space of 1-4\n",
            "features and 1-3 separating planes.\n",
            "\n",
            "The actual linear program used to obtain the separating plane\n",
            "in the 3-dimensional space is that described in:\n",
            "[K. P. Bennett and O. L. Mangasarian: \"Robust Linear\n",
            "Programming Discrimination of Two Linearly Inseparable Sets\",\n",
            "Optimization Methods and Software 1, 1992, 23-34].\n",
            "\n",
            "This database is also available through the UW CS ftp server:\n",
            "\n",
            "ftp ftp.cs.wisc.edu\n",
            "cd math-prog/cpo-dataset/machine-learn/WDBC/\n",
            "\n",
            ".. topic:: References\n",
            "\n",
            "   - W.N. Street, W.H. Wolberg and O.L. Mangasarian. Nuclear feature extraction \n",
            "     for breast tumor diagnosis. IS&T/SPIE 1993 International Symposium on \n",
            "     Electronic Imaging: Science and Technology, volume 1905, pages 861-870,\n",
            "     San Jose, CA, 1993.\n",
            "   - O.L. Mangasarian, W.N. Street and W.H. Wolberg. Breast cancer diagnosis and \n",
            "     prognosis via linear programming. Operations Research, 43(4), pages 570-577, \n",
            "     July-August 1995.\n",
            "   - W.H. Wolberg, W.N. Street, and O.L. Mangasarian. Machine learning techniques\n",
            "     to diagnose breast cancer from fine-needle aspirates. Cancer Letters 77 (1994) \n",
            "     163-171.\n"
          ]
        }
      ]
    },
    {
      "cell_type": "code",
      "source": [
        "#Para acessar as labels\n",
        "cancer.target"
      ],
      "metadata": {
        "id": "X8MSrfbN5PF_",
        "colab": {
          "base_uri": "https://localhost:8080/"
        },
        "outputId": "0cfd1fc2-bb28-4c3d-a7bd-b8832fe5e748"
      },
      "execution_count": 74,
      "outputs": [
        {
          "output_type": "execute_result",
          "data": {
            "text/plain": [
              "array([0, 0, 0, 0, 0, 0, 0, 0, 0, 0, 0, 0, 0, 0, 0, 0, 0, 0, 0, 1, 1, 1,\n",
              "       0, 0, 0, 0, 0, 0, 0, 0, 0, 0, 0, 0, 0, 0, 0, 1, 0, 0, 0, 0, 0, 0,\n",
              "       0, 0, 1, 0, 1, 1, 1, 1, 1, 0, 0, 1, 0, 0, 1, 1, 1, 1, 0, 1, 0, 0,\n",
              "       1, 1, 1, 1, 0, 1, 0, 0, 1, 0, 1, 0, 0, 1, 1, 1, 0, 0, 1, 0, 0, 0,\n",
              "       1, 1, 1, 0, 1, 1, 0, 0, 1, 1, 1, 0, 0, 1, 1, 1, 1, 0, 1, 1, 0, 1,\n",
              "       1, 1, 1, 1, 1, 1, 1, 0, 0, 0, 1, 0, 0, 1, 1, 1, 0, 0, 1, 0, 1, 0,\n",
              "       0, 1, 0, 0, 1, 1, 0, 1, 1, 0, 1, 1, 1, 1, 0, 1, 1, 1, 1, 1, 1, 1,\n",
              "       1, 1, 0, 1, 1, 1, 1, 0, 0, 1, 0, 1, 1, 0, 0, 1, 1, 0, 0, 1, 1, 1,\n",
              "       1, 0, 1, 1, 0, 0, 0, 1, 0, 1, 0, 1, 1, 1, 0, 1, 1, 0, 0, 1, 0, 0,\n",
              "       0, 0, 1, 0, 0, 0, 1, 0, 1, 0, 1, 1, 0, 1, 0, 0, 0, 0, 1, 1, 0, 0,\n",
              "       1, 1, 1, 0, 1, 1, 1, 1, 1, 0, 0, 1, 1, 0, 1, 1, 0, 0, 1, 0, 1, 1,\n",
              "       1, 1, 0, 1, 1, 1, 1, 1, 0, 1, 0, 0, 0, 0, 0, 0, 0, 0, 0, 0, 0, 0,\n",
              "       0, 0, 1, 1, 1, 1, 1, 1, 0, 1, 0, 1, 1, 0, 1, 1, 0, 1, 0, 0, 1, 1,\n",
              "       1, 1, 1, 1, 1, 1, 1, 1, 1, 1, 1, 0, 1, 1, 0, 1, 0, 1, 1, 1, 1, 1,\n",
              "       1, 1, 1, 1, 1, 1, 1, 1, 1, 0, 1, 1, 1, 0, 1, 0, 1, 1, 1, 1, 0, 0,\n",
              "       0, 1, 1, 1, 1, 0, 1, 0, 1, 0, 1, 1, 1, 0, 1, 1, 1, 1, 1, 1, 1, 0,\n",
              "       0, 0, 1, 1, 1, 1, 1, 1, 1, 1, 1, 1, 1, 0, 0, 1, 0, 0, 0, 1, 0, 0,\n",
              "       1, 1, 1, 1, 1, 0, 1, 1, 1, 1, 1, 0, 1, 1, 1, 0, 1, 1, 0, 0, 1, 1,\n",
              "       1, 1, 1, 1, 0, 1, 1, 1, 1, 1, 1, 1, 0, 1, 1, 1, 1, 1, 0, 1, 1, 0,\n",
              "       1, 1, 1, 1, 1, 1, 1, 1, 1, 1, 1, 1, 0, 1, 0, 0, 1, 0, 1, 1, 1, 1,\n",
              "       1, 0, 1, 1, 0, 1, 0, 1, 1, 0, 1, 0, 1, 1, 1, 1, 1, 1, 1, 1, 0, 0,\n",
              "       1, 1, 1, 1, 1, 1, 0, 1, 1, 1, 1, 1, 1, 1, 1, 1, 1, 0, 1, 1, 1, 1,\n",
              "       1, 1, 1, 0, 1, 0, 1, 1, 0, 1, 1, 1, 1, 1, 0, 0, 1, 0, 1, 0, 1, 1,\n",
              "       1, 1, 1, 0, 1, 1, 0, 1, 0, 1, 0, 0, 1, 1, 1, 0, 1, 1, 1, 1, 1, 1,\n",
              "       1, 1, 1, 1, 1, 0, 1, 0, 0, 1, 1, 1, 1, 1, 1, 1, 1, 1, 1, 1, 1, 1,\n",
              "       1, 1, 1, 1, 1, 1, 1, 1, 1, 1, 1, 1, 0, 0, 0, 0, 0, 0, 1])"
            ]
          },
          "metadata": {},
          "execution_count": 74
        }
      ]
    },
    {
      "cell_type": "code",
      "source": [
        "#Pegar as colunas que serão usadas na classificação\n",
        "features = df.columns\n",
        "\n",
        "# Número de folds da validação cruzada\n",
        "SPLITS = 5"
      ],
      "metadata": {
        "id": "1R6vdwi-_rKB"
      },
      "execution_count": 75,
      "outputs": []
    },
    {
      "cell_type": "markdown",
      "source": [
        "Se tiver dúvidas sobre a validação cruzada, recomendo :https://towardsdatascience.com/what-is-stratified-cross-validation-in-machine-learning-8844f3e7ae8e . Para regressão, vocês usaram o kfold, agora recomendo a utilização do StratifiedKFold."
      ],
      "metadata": {
        "id": "wbYGm3DUNyGj"
      }
    },
    {
      "cell_type": "markdown",
      "metadata": {
        "deletable": false,
        "editable": false,
        "nbgrader": {
          "checksum": "c77a6c3fedbe648e6e209ba6323f711e",
          "grade": false,
          "grade_id": "cell-acd6c643a4ce1477",
          "locked": true,
          "schema_version": 1,
          "solution": false
        },
        "id": "cV0uYQxcm64E"
      },
      "source": [
        "# Exercício 01:\n",
        "\n",
        "Use o RandomForest para classificar as pacientes com e sem câncer.\n",
        "\n",
        "Para a questão, faça as seguintes tarefas:\n",
        "* Varie a o número de árvores (n_estimators) e a profundidade máxima da árvore (n_estimators). Faça pelo menos 4 configurações.\n",
        "* Realize validação cruzada, com k-fold igual a 5\n",
        "* Reporte a precisão, revocação, F1 e a matriz de confusão para cada configuração\n"
      ]
    },
    {
      "cell_type": "code",
      "source": [
        "configuracoes = [\n",
        "    {'num_arvores': 10, 'profundidade_maxima': 5},\n",
        "    {'num_arvores': 50, 'profundidade_maxima': 10},\n",
        "    {'num_arvores': 100, 'profundidade_maxima': None},\n",
        "    {'num_arvores': 200, 'profundidade_maxima': 15}\n",
        "]\n",
        "\n",
        "skf = StratifiedKFold(n_splits=SPLITS)\n",
        "\n",
        "resultados_fa = []\n",
        "\n",
        "for configuracao in configuracoes:\n",
        "    rf = RandomForestClassifier(n_estimators=configuracao['num_arvores'], max_depth=configuracao['profundidade_maxima'], random_state=42)\n",
        "    y_pred = cross_val_predict(rf, cancer.data, cancer.target, cv=skf)\n",
        "\n",
        "    precisao = precision_score(cancer.target, y_pred)\n",
        "    revocacao = recall_score(cancer.target, y_pred)\n",
        "    f1 = f1_score(cancer.target, y_pred)\n",
        "    mc = confusion_matrix(cancer.target, y_pred)\n",
        "\n",
        "    resultados_fa.append({\n",
        "        'configuracao': configuracao,\n",
        "        'precisao': precisao,\n",
        "        'revocacao': revocacao,\n",
        "        'f1': f1,\n",
        "        'matriz_confusao': mc\n",
        "    })\n",
        "\n",
        "for result in resultados_fa:\n",
        "    print(f\"Configuracao: {result['configuracao']}\")\n",
        "    print(f\"Precisao: {result['precisao']:.4f} \\nRevocacao: {result['revocacao']:.4f} \\nF1: {result['f1']:.4f}\")\n",
        "    print(f\"Matriz de confusao:\\n{result['matriz_confusao']}\\n\")"
      ],
      "metadata": {
        "colab": {
          "base_uri": "https://localhost:8080/"
        },
        "id": "f8swHusWI7Hd",
        "outputId": "58e7ddf2-bc3b-4cb5-e47e-efc5e2eff004"
      },
      "execution_count": 76,
      "outputs": [
        {
          "output_type": "stream",
          "name": "stdout",
          "text": [
            "Configuracao: {'num_arvores': 10, 'profundidade_maxima': 5}\n",
            "Precisao: 0.9586 \n",
            "Revocacao: 0.9720 \n",
            "F1: 0.9652\n",
            "Matriz de confusao:\n",
            "[[197  15]\n",
            " [ 10 347]]\n",
            "\n",
            "Configuracao: {'num_arvores': 50, 'profundidade_maxima': 10}\n",
            "Precisao: 0.9610 \n",
            "Revocacao: 0.9664 \n",
            "F1: 0.9637\n",
            "Matriz de confusao:\n",
            "[[198  14]\n",
            " [ 12 345]]\n",
            "\n",
            "Configuracao: {'num_arvores': 100, 'profundidade_maxima': None}\n",
            "Precisao: 0.9586 \n",
            "Revocacao: 0.9720 \n",
            "F1: 0.9652\n",
            "Matriz de confusao:\n",
            "[[197  15]\n",
            " [ 10 347]]\n",
            "\n",
            "Configuracao: {'num_arvores': 200, 'profundidade_maxima': 15}\n",
            "Precisao: 0.9612 \n",
            "Revocacao: 0.9720 \n",
            "F1: 0.9666\n",
            "Matriz de confusao:\n",
            "[[198  14]\n",
            " [ 10 347]]\n",
            "\n"
          ]
        }
      ]
    },
    {
      "cell_type": "markdown",
      "metadata": {
        "deletable": false,
        "editable": false,
        "nbgrader": {
          "checksum": "c5c0a788bafbd1227adf600b857ee636",
          "grade": false,
          "grade_id": "cell-b8fab7f24e1b2a35",
          "locked": true,
          "schema_version": 1,
          "solution": false
        },
        "id": "27nDGLBAm64H"
      },
      "source": [
        "# Exercício 02:\n",
        "\n",
        "Use a knn para classificar as pacientes com e sem câncer.\n",
        "\n",
        "Para a questão, faça as seguintes tarefas:\n",
        "\n",
        "* Escolha e reporte resultados com 3 números de vizinhos diferentes (k)\n",
        "* Realize validação cruzada, com k-fold igual a 5 (para cada um dos k vizinhos)\n",
        "* Reporte a precisão, revocação, F1 e a matriz de confusão para cada configuração\n"
      ]
    },
    {
      "cell_type": "code",
      "source": [
        "configuracoes_vizinhos = [3, 5, 7]\n",
        "\n",
        "resultados_knn = []\n",
        "\n",
        "for k in configuracoes_vizinhos:\n",
        "    knn = KNeighborsClassifier(n_neighbors=k)\n",
        "    y_pred = cross_val_predict(knn, cancer.data, cancer.target, cv=skf)\n",
        "\n",
        "    precisao = precision_score(cancer.target, y_pred)\n",
        "    revocacao = recall_score(cancer.target, y_pred)\n",
        "    f1 = f1_score(cancer.target, y_pred)\n",
        "    mc = confusion_matrix(cancer.target, y_pred)\n",
        "\n",
        "    resultados_knn.append({\n",
        "        'n_vizinhos': k,\n",
        "        'precisao': precisao,\n",
        "        'revocacao': revocacao,\n",
        "        'f1': f1,\n",
        "        'matriz_confusao': mc\n",
        "    })\n",
        "\n",
        "for result in resultados_knn:\n",
        "    print(f\"Numero de vizinhos: {result['n_vizinhos']}\")\n",
        "    print(f\"Precisao: {result['precisao']:.4f} \\nRevocacao: {result['revocacao']:.4f} \\nF1: {result['f1']:.4f}\")\n",
        "    print(f\"Matriz de confusao:\\n{result['matriz_confusao']}\\n\")"
      ],
      "metadata": {
        "id": "r5uQmMpPM2Q0",
        "colab": {
          "base_uri": "https://localhost:8080/"
        },
        "outputId": "258dd5fd-a3b4-44e1-978b-0f02b120b533"
      },
      "execution_count": 77,
      "outputs": [
        {
          "output_type": "stream",
          "name": "stdout",
          "text": [
            "Numero de vizinhos: 3\n",
            "Precisao: 0.9214 \n",
            "Revocacao: 0.9524 \n",
            "F1: 0.9366\n",
            "Matriz de confusao:\n",
            "[[183  29]\n",
            " [ 17 340]]\n",
            "\n",
            "Numero de vizinhos: 5\n",
            "Precisao: 0.9270 \n",
            "Revocacao: 0.9608 \n",
            "F1: 0.9436\n",
            "Matriz de confusao:\n",
            "[[185  27]\n",
            " [ 14 343]]\n",
            "\n",
            "Numero de vizinhos: 7\n",
            "Precisao: 0.9223 \n",
            "Revocacao: 0.9636 \n",
            "F1: 0.9425\n",
            "Matriz de confusao:\n",
            "[[183  29]\n",
            " [ 13 344]]\n",
            "\n"
          ]
        }
      ]
    },
    {
      "cell_type": "markdown",
      "source": [
        "# Exercício 03:\n",
        "\n",
        "Compare os resultados (F1 de cada método com cada configuração) em um gráfico. Qual foi o melhor método? Houve diferença significativa com as variações de parâmetros?"
      ],
      "metadata": {
        "id": "QWcCZPJtM2v3"
      }
    },
    {
      "cell_type": "code",
      "source": [
        "fa_f1 = [result['f1'] for resultado in resultados_fa]\n",
        "knn_f1 = [result['f1'] for resultado in resultados_knn]\n",
        "\n",
        "plt.figure(figsize=(12, 6))\n",
        "plt.plot([str(configuracao['num_arvores']) + '-' + str(configuracao['profundidade_maxima']) for configuracao in configuracoes], fa_f1, marker='o', label='Floresta aleatoria')\n",
        "plt.plot([str(k) for k in configuracoes_vizinhos], knn_f1, marker='o', label='KNN')\n",
        "plt.xlabel('Configuracoes')\n",
        "plt.ylabel('F1')\n",
        "plt.title('Comparacao do F1 entre Floresta aleatoria e KNN')\n",
        "plt.legend()\n",
        "plt.show()"
      ],
      "metadata": {
        "colab": {
          "base_uri": "https://localhost:8080/",
          "height": 564
        },
        "id": "1TIdZTRZKtgB",
        "outputId": "fe3daedd-bd77-4449-fbd8-4cc56d4d9f50"
      },
      "execution_count": 78,
      "outputs": [
        {
          "output_type": "display_data",
          "data": {
            "text/plain": [
              "<Figure size 1200x600 with 1 Axes>"
            ],
            "image/png": "[encoded data removed]"
          },
          "metadata": {}
        }
      ]
    },
    {
      "cell_type": "markdown",
      "source": [
        "Não houve diferenças significativas."
      ],
      "metadata": {
        "id": "wwaQIpT3UKsu"
      }
    },
    {
      "cell_type": "markdown",
      "source": [
        "# Exercício 04:\n",
        "\n",
        "Escolha a melhor configuração/método e refaça o modelo, agora usando apenas 5 features. (Você pode selecionar aleatoriamente ou usar alguma metodologia de feature selection). O que aconteceu com a F1? Por quê?"
      ],
      "metadata": {
        "id": "mQEFIeXb83CT"
      }
    },
    {
      "cell_type": "code",
      "source": [
        "melhor_fa_config = {'n_estimators': 200, 'max_depth': None}\n",
        "\n",
        "seletor = SelectKBest(score_func=f_classif, k=5)\n",
        "X_novo = seletor.fit_transform(cancer.data, cancer.target)\n",
        "\n",
        "melhor_fa = RandomForestClassifier(n_estimators=melhor_fa_config['n_estimators'], max_depth=melhor_fa_config['max_depth'], random_state=42)\n",
        "y_pred_melhor_fa = cross_val_predict(melhor_fa, X_novo, cancer.target, cv=skf)\n",
        "\n",
        "precision_melhor_fa = precision_score(cancer.target, y_pred_melhor_fa)\n",
        "revocacao_melhor_fa = recall_score(cancer.target, y_pred_melhor_fa)\n",
        "f1_melhor_fa = f1_score(cancer.target, y_pred_melhor_fa)\n",
        "mc_melhor_fa = confusion_matrix(cancer.target, y_pred_melhor_fa)\n",
        "\n",
        "print(f\"Melhor configuracao para Floresta aleatoria com selecao de Feature:\")\n",
        "print(f\"Precisao: {precision_melhor_fa:.4f} \\nRevocacao: {revocacao_melhor_fa:.4f} \\nF1: {f1_melhor_fa:.4f}\")\n",
        "print(f\"Matriz de confusao:\\n{mc_melhor_fa}\\n\")"
      ],
      "metadata": {
        "colab": {
          "base_uri": "https://localhost:8080/"
        },
        "id": "qqf5KLjYK6MZ",
        "outputId": "52f52546-880c-4bd0-c439-ff1d0c5c31d3"
      },
      "execution_count": 79,
      "outputs": [
        {
          "output_type": "stream",
          "name": "stdout",
          "text": [
            "Melhor configuracao para Floresta aleatoria com selecao de Feature:\n",
            "Precisao: 0.9500 \n",
            "Revocacao: 0.9580 \n",
            "F1: 0.9540\n",
            "Matriz de confusao:\n",
            "[[194  18]\n",
            " [ 15 342]]\n",
            "\n"
          ]
        }
      ]
    },
    {
      "cell_type": "markdown",
      "source": [
        "O F1 ficou entre o F1 da primeira e da segunda questao. Isso indica que, para este caso, foi possível obter um bom desempenho com um número menor de features."
      ],
      "metadata": {
        "id": "pn8Heq3lVRNR"
      }
    }
  ],
  "metadata": {
    "kernelspec": {
      "display_name": "Python 3",
      "language": "python",
      "name": "python3"
    },
    "language_info": {
      "codemirror_mode": {
        "name": "ipython",
        "version": 3
      },
      "file_extension": ".py",
      "mimetype": "text/x-python",
      "name": "python",
      "nbconvert_exporter": "python",
      "pygments_lexer": "ipython3",
      "version": "3.6.6"
    },
    "colab": {
      "provenance": []
    }
  },
  "nbformat": 4,
  "nbformat_minor": 0
}