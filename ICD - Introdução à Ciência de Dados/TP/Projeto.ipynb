{
  "nbformat": 4,
  "nbformat_minor": 0,
  "metadata": {
    "colab": {
      "provenance": [],
      "toc_visible": true
    },
    "kernelspec": {
      "name": "python3",
      "display_name": "Python 3"
    },
    "language_info": {
      "name": "python"
    }
  },
  "cells": [
    {
      "cell_type": "markdown",
      "source": [
        "# Grupo"
      ],
      "metadata": {
        "id": "nzE5oYPfc55H"
      }
    },
    {
      "cell_type": "markdown",
      "source": [
        "Matheus Guimarães Couto de Melo Afonso - matheusgcma@ufmg.br - 2021039450\n",
        "\n",
        "Pedro Henrique Freitas - freitaas@ufmg.br - 2021039409\n",
        "\n",
        "Vinicius Trindade Dias Abel - viniciustda@ufmg.br - 2020007112"
      ],
      "metadata": {
        "id": "eO37GzNmc87s"
      }
    },
    {
      "cell_type": "markdown",
      "source": [
        "# Introdução"
      ],
      "metadata": {
        "id": "NX68QbiAIyQE"
      }
    },
    {
      "cell_type": "markdown",
      "source": [
        "## Proposta"
      ],
      "metadata": {
        "id": "bP3Jf4AOeMpP"
      }
    },
    {
      "cell_type": "markdown",
      "source": [
        "O nosso projeto consiste na análise de dois datasets relacionados a futebol, com foco na liga inglesa, a Premier League. Estabelecemos as seguintes perguntas no início do projeto:\n",
        "\n",
        "1. É possível prever quem será o campeão de uma competição baseado no desempenho de competições anteriores?\n",
        "2. Ser rebaixado/campeão/meio de tabela é um indicador relevante para o futuro de uma equipe?\n",
        "3. Se a ofensividade/defensividade, ou qualquer outra característica tática marcante de um time, é um indicador relevante para o futuro da equipe?\n",
        "\n",
        "Os datasets utilizados estão descritos a seguir."
      ],
      "metadata": {
        "id": "eKx3uouUI0ok"
      }
    },
    {
      "cell_type": "markdown",
      "source": [
        "## Descrição dos datasets:"
      ],
      "metadata": {
        "id": "XWw9Q_o9I3vD"
      }
    },
    {
      "cell_type": "markdown",
      "source": [
        "## EPL Standings 2000-2022.csv"
      ],
      "metadata": {
        "id": "_MVHBpl5I6N0"
      }
    },
    {
      "cell_type": "markdown",
      "source": [
        "Esse dataset reflete as classificações da Premier League, das temporadas a partir dos anos 200 até o ano de 2018.\n",
        "\n",
        "Descrição das colunas:\n",
        "\n",
        "* _**Season**_: temporada referente.\n",
        "* _**Pos**_: posição da qual o time da linha terminou na temporada.\n",
        "* _**Team**_: o nome do time referente a campanha da linha.\n",
        "* _**Pld**_: partidas jogadas.\n",
        "* _**W**_: vitórias.\n",
        "* _**L**_: derrotas.\n",
        "* _**D**_: empates.\n",
        "* _**GF**_: gols feitos.\n",
        "* _**GA**_: gols sofridos.\n",
        "* _**GD**_: saldo de gols (GF-GA).\n",
        "* _**Pts**_: total de pontos feitos.\n",
        "* _**Qualification or relegation**_: status do qual o time terminou a competição (i.e. classificou para champions, rebaixado a segunda divisão ...)"
      ],
      "metadata": {
        "id": "Ooy-25i9I8uw"
      }
    },
    {
      "cell_type": "markdown",
      "source": [
        "## all_players.csv"
      ],
      "metadata": {
        "id": "7RDHT8x4I_5A"
      }
    },
    {
      "cell_type": "markdown",
      "source": [
        "Esse dataset reflete alguns dados de jogadores que com muita probabilidade estavam na Premier League, de 2015 a 2018. (Esses dados foram coletados do jogo FIFA).\n",
        "\n",
        "O intuito é incorporar os dados de classificação (nota), idade e valor médio de mercado de transferência nos modelos de classificação.\n",
        "\n",
        "Descrição das colunas:\n",
        "\n",
        "* _**Year**_: ano do FIFA referente.\n",
        "* _**short_name**_: nome curto do jogador em questão.\n",
        "* _**club_name**_: o nome do time ao qual o jogador estava atuando.\n",
        "* _**overall**_: nota do jogador de 0 a 100.\n",
        "* _**value_eur**_: valor do jogador, em euros, de mercado.\n",
        "* _**age**_: idade do jogador em questão."
      ],
      "metadata": {
        "id": "HKdWtaQbJDlW"
      }
    },
    {
      "cell_type": "markdown",
      "source": [
        "# Desenvolvimento"
      ],
      "metadata": {
        "id": "TlmzITemOhfZ"
      }
    },
    {
      "cell_type": "markdown",
      "source": [
        "## Dependências"
      ],
      "metadata": {
        "id": "xbHvrEgQJHrg"
      }
    },
    {
      "cell_type": "code",
      "execution_count": 28,
      "metadata": {
        "id": "tjklbFjSgVZe"
      },
      "outputs": [],
      "source": [
        "import numpy as np\n",
        "import pandas as pd\n",
        "import matplotlib.pyplot as plt\n",
        "import seaborn as sns\n",
        "from scipy import stats\n",
        "import statsmodels.api as sm\n",
        "from sklearn.model_selection import train_test_split, GridSearchCV\n",
        "from sklearn.ensemble import RandomForestClassifier\n",
        "from sklearn.metrics import classification_report, confusion_matrix, ConfusionMatrixDisplay, accuracy_score, precision_score, recall_score, f1_score, classification_report, mean_squared_error\n",
        "from sklearn.preprocessing import StandardScaler\n",
        "from sklearn.neighbors import KNeighborsRegressor"
      ]
    },
    {
      "cell_type": "markdown",
      "source": [
        "## DF com tabelas de pontos corridos da Premier League"
      ],
      "metadata": {
        "id": "i2nI_WpPCYJL"
      }
    },
    {
      "cell_type": "code",
      "source": [
        "#lendo df de posição na tabela\n",
        "# descrição: https://www.kaggle.com/datasets/quadeer15sh/premier-league-standings-11-seasons-20102021?resource=download\n",
        "standings = pd.read_csv(\"EPL Standings 2000-2022.csv\")\n",
        "standings.head()"
      ],
      "metadata": {
        "colab": {
          "base_uri": "https://localhost:8080/",
          "height": 206
        },
        "id": "27IivILBj4VY",
        "outputId": "e7a3bd2c-eed7-403f-99ac-85317a3d2ed1"
      },
      "execution_count": 29,
      "outputs": [
        {
          "output_type": "execute_result",
          "data": {
            "text/plain": [
              "    Season  Pos               Team  Pld   W   D   L  GF  GA  GD  Pts  \\\n",
              "0  2000-01    1  Manchester United   38  24   8   6  79  31  48   80   \n",
              "1  2000-01    2            Arsenal   38  20  10   8  63  38  25   70   \n",
              "2  2000-01    3          Liverpool   38  20   9   9  71  39  32   69   \n",
              "3  2000-01    4       Leeds United   38  20   8  10  64  43  21   68   \n",
              "4  2000-01    5       Ipswich Town   38  20   6  12  57  42  15   66   \n",
              "\n",
              "                         Qualification or relegation  \n",
              "0  Qualification for the Champions League first g...  \n",
              "1  Qualification for the Champions League first g...  \n",
              "2  Qualification for the Champions League third q...  \n",
              "3      Qualification for the UEFA Cup first round[a]  \n",
              "4      Qualification for the UEFA Cup first round[a]  "
            ],
            "text/html": [
              "\n",
              "  <div id=\"df-cd5768da-6cfc-407d-afc4-fee7d4ab2b4a\" class=\"colab-df-container\">\n",
              "    <div>\n",
              "<style scoped>\n",
              "    .dataframe tbody tr th:only-of-type {\n",
              "        vertical-align: middle;\n",
              "    }\n",
              "\n",
              "    .dataframe tbody tr th {\n",
              "        vertical-align: top;\n",
              "    }\n",
              "\n",
              "    .dataframe thead th {\n",
              "        text-align: right;\n",
              "    }\n",
              "</style>\n",
              "<table border=\"1\" class=\"dataframe\">\n",
              "  <thead>\n",
              "    <tr style=\"text-align: right;\">\n",
              "      <th></th>\n",
              "      <th>Season</th>\n",
              "      <th>Pos</th>\n",
              "      <th>Team</th>\n",
              "      <th>Pld</th>\n",
              "      <th>W</th>\n",
              "      <th>D</th>\n",
              "      <th>L</th>\n",
              "      <th>GF</th>\n",
              "      <th>GA</th>\n",
              "      <th>GD</th>\n",
              "      <th>Pts</th>\n",
              "      <th>Qualification or relegation</th>\n",
              "    </tr>\n",
              "  </thead>\n",
              "  <tbody>\n",
              "    <tr>\n",
              "      <th>0</th>\n",
              "      <td>2000-01</td>\n",
              "      <td>1</td>\n",
              "      <td>Manchester United</td>\n",
              "      <td>38</td>\n",
              "      <td>24</td>\n",
              "      <td>8</td>\n",
              "      <td>6</td>\n",
              "      <td>79</td>\n",
              "      <td>31</td>\n",
              "      <td>48</td>\n",
              "      <td>80</td>\n",
              "      <td>Qualification for the Champions League first g...</td>\n",
              "    </tr>\n",
              "    <tr>\n",
              "      <th>1</th>\n",
              "      <td>2000-01</td>\n",
              "      <td>2</td>\n",
              "      <td>Arsenal</td>\n",
              "      <td>38</td>\n",
              "      <td>20</td>\n",
              "      <td>10</td>\n",
              "      <td>8</td>\n",
              "      <td>63</td>\n",
              "      <td>38</td>\n",
              "      <td>25</td>\n",
              "      <td>70</td>\n",
              "      <td>Qualification for the Champions League first g...</td>\n",
              "    </tr>\n",
              "    <tr>\n",
              "      <th>2</th>\n",
              "      <td>2000-01</td>\n",
              "      <td>3</td>\n",
              "      <td>Liverpool</td>\n",
              "      <td>38</td>\n",
              "      <td>20</td>\n",
              "      <td>9</td>\n",
              "      <td>9</td>\n",
              "      <td>71</td>\n",
              "      <td>39</td>\n",
              "      <td>32</td>\n",
              "      <td>69</td>\n",
              "      <td>Qualification for the Champions League third q...</td>\n",
              "    </tr>\n",
              "    <tr>\n",
              "      <th>3</th>\n",
              "      <td>2000-01</td>\n",
              "      <td>4</td>\n",
              "      <td>Leeds United</td>\n",
              "      <td>38</td>\n",
              "      <td>20</td>\n",
              "      <td>8</td>\n",
              "      <td>10</td>\n",
              "      <td>64</td>\n",
              "      <td>43</td>\n",
              "      <td>21</td>\n",
              "      <td>68</td>\n",
              "      <td>Qualification for the UEFA Cup first round[a]</td>\n",
              "    </tr>\n",
              "    <tr>\n",
              "      <th>4</th>\n",
              "      <td>2000-01</td>\n",
              "      <td>5</td>\n",
              "      <td>Ipswich Town</td>\n",
              "      <td>38</td>\n",
              "      <td>20</td>\n",
              "      <td>6</td>\n",
              "      <td>12</td>\n",
              "      <td>57</td>\n",
              "      <td>42</td>\n",
              "      <td>15</td>\n",
              "      <td>66</td>\n",
              "      <td>Qualification for the UEFA Cup first round[a]</td>\n",
              "    </tr>\n",
              "  </tbody>\n",
              "</table>\n",
              "</div>\n",
              "    <div class=\"colab-df-buttons\">\n",
              "\n",
              "  <div class=\"colab-df-container\">\n",
              "    <button class=\"colab-df-convert\" onclick=\"convertToInteractive('df-cd5768da-6cfc-407d-afc4-fee7d4ab2b4a')\"\n",
              "            title=\"Convert this dataframe to an interactive table.\"\n",
              "            style=\"display:none;\">\n",
              "\n",
              "  <svg xmlns=\"http://www.w3.org/2000/svg\" height=\"24px\" viewBox=\"0 -960 960 960\">\n",
              "    <path d=\"M120-120v-720h720v720H120Zm60-500h600v-160H180v160Zm220 220h160v-160H400v160Zm0 220h160v-160H400v160ZM180-400h160v-160H180v160Zm440 0h160v-160H620v160ZM180-180h160v-160H180v160Zm440 0h160v-160H620v160Z\"/>\n",
              "  </svg>\n",
              "    </button>\n",
              "\n",
              "  <style>\n",
              "    .colab-df-container {\n",
              "      display:flex;\n",
              "      gap: 12px;\n",
              "    }\n",
              "\n",
              "    .colab-df-convert {\n",
              "      background-color: #E8F0FE;\n",
              "      border: none;\n",
              "      border-radius: 50%;\n",
              "      cursor: pointer;\n",
              "      display: none;\n",
              "      fill: #1967D2;\n",
              "      height: 32px;\n",
              "      padding: 0 0 0 0;\n",
              "      width: 32px;\n",
              "    }\n",
              "\n",
              "    .colab-df-convert:hover {\n",
              "      background-color: #E2EBFA;\n",
              "      box-shadow: 0px 1px 2px rgba(60, 64, 67, 0.3), 0px 1px 3px 1px rgba(60, 64, 67, 0.15);\n",
              "      fill: #174EA6;\n",
              "    }\n",
              "\n",
              "    .colab-df-buttons div {\n",
              "      margin-bottom: 4px;\n",
              "    }\n",
              "\n",
              "    [theme=dark] .colab-df-convert {\n",
              "      background-color: #3B4455;\n",
              "      fill: #D2E3FC;\n",
              "    }\n",
              "\n",
              "    [theme=dark] .colab-df-convert:hover {\n",
              "      background-color: #434B5C;\n",
              "      box-shadow: 0px 1px 3px 1px rgba(0, 0, 0, 0.15);\n",
              "      filter: drop-shadow(0px 1px 2px rgba(0, 0, 0, 0.3));\n",
              "      fill: #FFFFFF;\n",
              "    }\n",
              "  </style>\n",
              "\n",
              "    <script>\n",
              "      const buttonEl =\n",
              "        document.querySelector('#df-cd5768da-6cfc-407d-afc4-fee7d4ab2b4a button.colab-df-convert');\n",
              "      buttonEl.style.display =\n",
              "        google.colab.kernel.accessAllowed ? 'block' : 'none';\n",
              "\n",
              "      async function convertToInteractive(key) {\n",
              "        const element = document.querySelector('#df-cd5768da-6cfc-407d-afc4-fee7d4ab2b4a');\n",
              "        const dataTable =\n",
              "          await google.colab.kernel.invokeFunction('convertToInteractive',\n",
              "                                                    [key], {});\n",
              "        if (!dataTable) return;\n",
              "\n",
              "        const docLinkHtml = 'Like what you see? Visit the ' +\n",
              "          '<a target=\"_blank\" href=https://colab.research.google.com/notebooks/data_table.ipynb>data table notebook</a>'\n",
              "          + ' to learn more about interactive tables.';\n",
              "        element.innerHTML = '';\n",
              "        dataTable['output_type'] = 'display_data';\n",
              "        await google.colab.output.renderOutput(dataTable, element);\n",
              "        const docLink = document.createElement('div');\n",
              "        docLink.innerHTML = docLinkHtml;\n",
              "        element.appendChild(docLink);\n",
              "      }\n",
              "    </script>\n",
              "  </div>\n",
              "\n",
              "\n",
              "<div id=\"df-9e76b9e7-4fc7-4389-a8be-e12e4bf85343\">\n",
              "  <button class=\"colab-df-quickchart\" onclick=\"quickchart('df-9e76b9e7-4fc7-4389-a8be-e12e4bf85343')\"\n",
              "            title=\"Suggest charts\"\n",
              "            style=\"display:none;\">\n",
              "\n",
              "<svg xmlns=\"http://www.w3.org/2000/svg\" height=\"24px\"viewBox=\"0 0 24 24\"\n",
              "     width=\"24px\">\n",
              "    <g>\n",
              "        <path d=\"M19 3H5c-1.1 0-2 .9-2 2v14c0 1.1.9 2 2 2h14c1.1 0 2-.9 2-2V5c0-1.1-.9-2-2-2zM9 17H7v-7h2v7zm4 0h-2V7h2v10zm4 0h-2v-4h2v4z\"/>\n",
              "    </g>\n",
              "</svg>\n",
              "  </button>\n",
              "\n",
              "<style>\n",
              "  .colab-df-quickchart {\n",
              "      --bg-color: #E8F0FE;\n",
              "      --fill-color: #1967D2;\n",
              "      --hover-bg-color: #E2EBFA;\n",
              "      --hover-fill-color: #174EA6;\n",
              "      --disabled-fill-color: #AAA;\n",
              "      --disabled-bg-color: #DDD;\n",
              "  }\n",
              "\n",
              "  [theme=dark] .colab-df-quickchart {\n",
              "      --bg-color: #3B4455;\n",
              "      --fill-color: #D2E3FC;\n",
              "      --hover-bg-color: #434B5C;\n",
              "      --hover-fill-color: #FFFFFF;\n",
              "      --disabled-bg-color: #3B4455;\n",
              "      --disabled-fill-color: #666;\n",
              "  }\n",
              "\n",
              "  .colab-df-quickchart {\n",
              "    background-color: var(--bg-color);\n",
              "    border: none;\n",
              "    border-radius: 50%;\n",
              "    cursor: pointer;\n",
              "    display: none;\n",
              "    fill: var(--fill-color);\n",
              "    height: 32px;\n",
              "    padding: 0;\n",
              "    width: 32px;\n",
              "  }\n",
              "\n",
              "  .colab-df-quickchart:hover {\n",
              "    background-color: var(--hover-bg-color);\n",
              "    box-shadow: 0 1px 2px rgba(60, 64, 67, 0.3), 0 1px 3px 1px rgba(60, 64, 67, 0.15);\n",
              "    fill: var(--button-hover-fill-color);\n",
              "  }\n",
              "\n",
              "  .colab-df-quickchart-complete:disabled,\n",
              "  .colab-df-quickchart-complete:disabled:hover {\n",
              "    background-color: var(--disabled-bg-color);\n",
              "    fill: var(--disabled-fill-color);\n",
              "    box-shadow: none;\n",
              "  }\n",
              "\n",
              "  .colab-df-spinner {\n",
              "    border: 2px solid var(--fill-color);\n",
              "    border-color: transparent;\n",
              "    border-bottom-color: var(--fill-color);\n",
              "    animation:\n",
              "      spin 1s steps(1) infinite;\n",
              "  }\n",
              "\n",
              "  @keyframes spin {\n",
              "    0% {\n",
              "      border-color: transparent;\n",
              "      border-bottom-color: var(--fill-color);\n",
              "      border-left-color: var(--fill-color);\n",
              "    }\n",
              "    20% {\n",
              "      border-color: transparent;\n",
              "      border-left-color: var(--fill-color);\n",
              "      border-top-color: var(--fill-color);\n",
              "    }\n",
              "    30% {\n",
              "      border-color: transparent;\n",
              "      border-left-color: var(--fill-color);\n",
              "      border-top-color: var(--fill-color);\n",
              "      border-right-color: var(--fill-color);\n",
              "    }\n",
              "    40% {\n",
              "      border-color: transparent;\n",
              "      border-right-color: var(--fill-color);\n",
              "      border-top-color: var(--fill-color);\n",
              "    }\n",
              "    60% {\n",
              "      border-color: transparent;\n",
              "      border-right-color: var(--fill-color);\n",
              "    }\n",
              "    80% {\n",
              "      border-color: transparent;\n",
              "      border-right-color: var(--fill-color);\n",
              "      border-bottom-color: var(--fill-color);\n",
              "    }\n",
              "    90% {\n",
              "      border-color: transparent;\n",
              "      border-bottom-color: var(--fill-color);\n",
              "    }\n",
              "  }\n",
              "</style>\n",
              "\n",
              "  <script>\n",
              "    async function quickchart(key) {\n",
              "      const quickchartButtonEl =\n",
              "        document.querySelector('#' + key + ' button');\n",
              "      quickchartButtonEl.disabled = true;  // To prevent multiple clicks.\n",
              "      quickchartButtonEl.classList.add('colab-df-spinner');\n",
              "      try {\n",
              "        const charts = await google.colab.kernel.invokeFunction(\n",
              "            'suggestCharts', [key], {});\n",
              "      } catch (error) {\n",
              "        console.error('Error during call to suggestCharts:', error);\n",
              "      }\n",
              "      quickchartButtonEl.classList.remove('colab-df-spinner');\n",
              "      quickchartButtonEl.classList.add('colab-df-quickchart-complete');\n",
              "    }\n",
              "    (() => {\n",
              "      let quickchartButtonEl =\n",
              "        document.querySelector('#df-9e76b9e7-4fc7-4389-a8be-e12e4bf85343 button');\n",
              "      quickchartButtonEl.style.display =\n",
              "        google.colab.kernel.accessAllowed ? 'block' : 'none';\n",
              "    })();\n",
              "  </script>\n",
              "</div>\n",
              "\n",
              "    </div>\n",
              "  </div>\n"
            ],
            "application/vnd.google.colaboratory.intrinsic+json": {
              "type": "dataframe",
              "variable_name": "standings",
              "summary": "{\n  \"name\": \"standings\",\n  \"rows\": 440,\n  \"fields\": [\n    {\n      \"column\": \"Season\",\n      \"properties\": {\n        \"dtype\": \"category\",\n        \"num_unique_values\": 22,\n        \"samples\": [\n          \"2000-01\",\n          \"2013-14\",\n          \"2008-09\"\n        ],\n        \"semantic_type\": \"\",\n        \"description\": \"\"\n      }\n    },\n    {\n      \"column\": \"Pos\",\n      \"properties\": {\n        \"dtype\": \"number\",\n        \"std\": 5,\n        \"min\": 1,\n        \"max\": 20,\n        \"num_unique_values\": 20,\n        \"samples\": [\n          1,\n          18,\n          16\n        ],\n        \"semantic_type\": \"\",\n        \"description\": \"\"\n      }\n    },\n    {\n      \"column\": \"Team\",\n      \"properties\": {\n        \"dtype\": \"category\",\n        \"num_unique_values\": 44,\n        \"samples\": [\n          \"Swansea City\",\n          \"West Bromwich Albion\",\n          \"Portsmouth\"\n        ],\n        \"semantic_type\": \"\",\n        \"description\": \"\"\n      }\n    },\n    {\n      \"column\": \"Pld\",\n      \"properties\": {\n        \"dtype\": \"number\",\n        \"std\": 0,\n        \"min\": 38,\n        \"max\": 38,\n        \"num_unique_values\": 1,\n        \"samples\": [\n          38\n        ],\n        \"semantic_type\": \"\",\n        \"description\": \"\"\n      }\n    },\n    {\n      \"column\": \"W\",\n      \"properties\": {\n        \"dtype\": \"number\",\n        \"std\": 5,\n        \"min\": 1,\n        \"max\": 32,\n        \"num_unique_values\": 30,\n        \"samples\": [\n          1\n        ],\n        \"semantic_type\": \"\",\n        \"description\": \"\"\n      }\n    },\n    {\n      \"column\": \"D\",\n      \"properties\": {\n        \"dtype\": \"number\",\n        \"std\": 2,\n        \"min\": 2,\n        \"max\": 17,\n        \"num_unique_values\": 16,\n        \"samples\": [\n          8\n        ],\n        \"semantic_type\": \"\",\n        \"description\": \"\"\n      }\n    },\n    {\n      \"column\": \"L\",\n      \"properties\": {\n        \"dtype\": \"number\",\n        \"std\": 5,\n        \"min\": 0,\n        \"max\": 29,\n        \"num_unique_values\": 29,\n        \"samples\": [\n          26\n        ],\n        \"semantic_type\": \"\",\n        \"description\": \"\"\n      }\n    },\n    {\n      \"column\": \"GF\",\n      \"properties\": {\n        \"dtype\": \"number\",\n        \"std\": 15,\n        \"min\": 20,\n        \"max\": 106,\n        \"num_unique_values\": 72,\n        \"samples\": [\n          57\n        ],\n        \"semantic_type\": \"\",\n        \"description\": \"\"\n      }\n    },\n    {\n      \"column\": \"GA\",\n      \"properties\": {\n        \"dtype\": \"number\",\n        \"std\": 12,\n        \"min\": 15,\n        \"max\": 89,\n        \"num_unique_values\": 64,\n        \"samples\": [\n          71\n        ],\n        \"semantic_type\": \"\",\n        \"description\": \"\"\n      }\n    },\n    {\n      \"column\": \"GD\",\n      \"properties\": {\n        \"dtype\": \"number\",\n        \"std\": 26,\n        \"min\": -69,\n        \"max\": 79,\n        \"num_unique_values\": 112,\n        \"samples\": [\n          -10\n        ],\n        \"semantic_type\": \"\",\n        \"description\": \"\"\n      }\n    },\n    {\n      \"column\": \"Pts\",\n      \"properties\": {\n        \"dtype\": \"number\",\n        \"std\": 17,\n        \"min\": 11,\n        \"max\": 100,\n        \"num_unique_values\": 80,\n        \"samples\": [\n          78\n        ],\n        \"semantic_type\": \"\",\n        \"description\": \"\"\n      }\n    },\n    {\n      \"column\": \"Qualification or relegation\",\n      \"properties\": {\n        \"dtype\": \"category\",\n        \"num_unique_values\": 37,\n        \"samples\": [\n          \"Qualification for the Champions League group stage[a]\"\n        ],\n        \"semantic_type\": \"\",\n        \"description\": \"\"\n      }\n    }\n  ]\n}"
            }
          },
          "metadata": {},
          "execution_count": 29
        }
      ]
    },
    {
      "cell_type": "code",
      "source": [
        "# Análise Descritiva\n",
        "print(standings.describe())"
      ],
      "metadata": {
        "colab": {
          "base_uri": "https://localhost:8080/",
          "height": 0
        },
        "id": "FzqIR7dG5nJC",
        "outputId": "0b971721-9d9d-422a-c877-9d03b0fd854b"
      },
      "execution_count": 30,
      "outputs": [
        {
          "output_type": "stream",
          "name": "stdout",
          "text": [
            "              Pos    Pld           W           D           L          GF  \\\n",
            "count  440.000000  440.0  440.000000  440.000000  440.000000  440.000000   \n",
            "mean    10.500000   38.0   14.261364    9.477273   14.261364   50.863636   \n",
            "std      5.772845    0.0    5.987638    2.856385    5.548080   15.778205   \n",
            "min      1.000000   38.0    1.000000    2.000000    0.000000   20.000000   \n",
            "25%      5.750000   38.0   10.000000    7.000000   10.000000   40.000000   \n",
            "50%     10.500000   38.0   13.000000    9.000000   15.000000   47.000000   \n",
            "75%     15.250000   38.0   18.000000   11.000000   18.000000   60.000000   \n",
            "max     20.000000   38.0   32.000000   17.000000   29.000000  106.000000   \n",
            "\n",
            "               GA         GD         Pts  \n",
            "count  440.000000  440.00000  440.000000  \n",
            "mean    50.863636    0.00000   52.240909  \n",
            "std     12.893450   26.02627   17.097234  \n",
            "min     15.000000  -69.00000   11.000000  \n",
            "25%     42.000000  -19.00000   40.750000  \n",
            "50%     51.000000   -6.00000   48.000000  \n",
            "75%     59.000000   16.00000   63.250000  \n",
            "max     89.000000   79.00000  100.000000  \n"
          ]
        }
      ]
    },
    {
      "cell_type": "markdown",
      "source": [
        "## IC's para cada posição com base na coluna.\n",
        "\n",
        "Aqui utilizamos um bootstrap para calcular um intervalo de confiança de 95% para um determinado atributo, de acordo com a posição que a equipe ficou na tabela de classificação final.\n",
        "\n",
        "No exemplo abaixo, selecionamos a coluna de gols feitos - GF - e calculamos qual o intervalo de confiança de gols feitos para cada posição da tabela. Podemos alterar o valor da variável `column` para o nome de qualquer outra coluna do DataFrame para encontrar o IC de outro atributo."
      ],
      "metadata": {
        "id": "yNWU3h1Yp-e3"
      }
    },
    {
      "cell_type": "code",
      "source": [
        "column = \"GF\" #gols feitos\n",
        "\n",
        "def get_column_values_for_years(df, column) -> list:\n",
        "  \"\"\"Returns a list where each element represents the values\\n\n",
        "     for all years for the position = idx+1.\"\"\"\n",
        "  df = df.copy()\n",
        "\n",
        "  df = df[[\"Pos\", \"Season\", column]]\n",
        "\n",
        "  matrix_of_colum_values = [standings[standings[\"Pos\"] == pos][column].values\n",
        "                            for pos in range(1,21)]\n",
        "\n",
        "  return matrix_of_colum_values\n",
        "\n",
        "def bootstrap_to_compute_IC(values, iters=10000) -> list:\n",
        "  \"\"\"Returns a list of INTERVALOS DE CONFIANÇA.\\n\"\"\"\n",
        "  bootstrap = [[] for _ in range(20)]\n",
        "\n",
        "  for _ in range(iters):\n",
        "    for idx, items in enumerate(values):\n",
        "      sample = np.random.choice(values[idx], 20, replace=True)\n",
        "      bootstrap[idx].append( sample.mean() )\n",
        "\n",
        "  return bootstrap\n",
        "\n",
        "def compute_ICs(bootstrap) -> list:\n",
        "  ICs = []\n",
        "\n",
        "  for item in bootstrap:\n",
        "    ICs.append([np.percentile(item, 2.5), np.percentile(item, 97.5)])\n",
        "\n",
        "  return ICs\n",
        "\n",
        "values = get_column_values_for_years(standings, column)\n",
        "bstrap = bootstrap_to_compute_IC(values)\n",
        "ICs = compute_ICs(bstrap)\n",
        "ICs"
      ],
      "metadata": {
        "id": "m1vUKAY4rWAz",
        "outputId": "106b0685-097a-48b2-8fd7-1ef395aeafaa",
        "colab": {
          "base_uri": "https://localhost:8080/",
          "height": 0
        }
      },
      "execution_count": 31,
      "outputs": [
        {
          "output_type": "execute_result",
          "data": {
            "text/plain": [
              "[[78.7, 88.7],\n",
              " [72.75, 83.6],\n",
              " [66.0, 73.05],\n",
              " [63.54875, 70.3],\n",
              " [56.9, 63.4],\n",
              " [55.24875, 61.45],\n",
              " [49.3, 57.15],\n",
              " [47.85, 53.05],\n",
              " [45.35, 50.2],\n",
              " [43.85, 48.85],\n",
              " [42.4, 49.6],\n",
              " [43.55, 48.0],\n",
              " [39.95, 44.0],\n",
              " [39.6, 45.8],\n",
              " [39.3, 44.65],\n",
              " [38.15, 43.25],\n",
              " [37.25, 41.45],\n",
              " [34.95, 40.45],\n",
              " [33.8, 39.85],\n",
              " [27.5, 34.0]]"
            ]
          },
          "metadata": {},
          "execution_count": 31
        }
      ]
    },
    {
      "cell_type": "markdown",
      "source": [
        "Baseado nos intervalos de confiança expressos acima, podemos tirar algumas conclusões baseadas no número de gols feitos:\n",
        "1. Um time que marca pelo menos 41 gols tem 95% de chance de não ser rebaixado\n",
        "2. Para se classificar para a Champions League, uma equipe deve marcar no mínimo 64 gols, uma média de 1.68 gols por partida\n",
        "3. O campeão marca cerca de 5 gols a mais que o segundo colocado"
      ],
      "metadata": {
        "id": "JGSeNvA_agq8"
      }
    },
    {
      "cell_type": "markdown",
      "source": [
        "## Alguns gráficos relevantes"
      ],
      "metadata": {
        "id": "BANNmeMwEAYC"
      }
    },
    {
      "cell_type": "markdown",
      "source": [
        "Abaixo fazemos um bootstrap que computa os intervalos de confiança de 95%, analisando quantos pontos uma equipe acumula de acordo com a posição final na tabela de classificação."
      ],
      "metadata": {
        "id": "afHJgd6uJz2v"
      }
    },
    {
      "cell_type": "code",
      "source": [
        "column = \"Pts\"\n",
        "values = get_column_values_for_years(standings, column)\n",
        "bstrap = bootstrap_to_compute_IC(values)"
      ],
      "metadata": {
        "id": "NM2W0GZcFRus"
      },
      "execution_count": 32,
      "outputs": []
    },
    {
      "cell_type": "code",
      "source": [
        "# gráfico do bootstrap.\n",
        "for idx, item in enumerate(bstrap):\n",
        "  plt.hist(item, label=str(idx+1), alpha=.5)\n",
        "plt.title(f\"Análise de {column} por posições.\")\n",
        "plt.legend(loc='upper center', bbox_to_anchor=(0.5, -0.15), shadow=True, ncol=2)"
      ],
      "metadata": {
        "id": "pIFaBdGrMCWD",
        "outputId": "88b23ea9-a0db-4ed5-a7ba-0bbb9a1d0328",
        "colab": {
          "base_uri": "https://localhost:8080/",
          "height": 722
        }
      },
      "execution_count": 33,
      "outputs": [
        {
          "output_type": "execute_result",
          "data": {
            "text/plain": [
              "<matplotlib.legend.Legend at 0x7cb7f94d2500>"
            ]
          },
          "metadata": {},
          "execution_count": 33
        },
        {
          "output_type": "display_data",
          "data": {
            "text/plain": [
              "<Figure size 640x480 with 1 Axes>"
            ],
            "image/png": "[encoded data removed]"
          },
          "metadata": {}
        }
      ]
    },
    {
      "cell_type": "markdown",
      "source": [
        "Os gráficos a seguir mostram os dados brutos da nossa base, ilustrando quantas vezes o time que terminou em determinada posição fez aquela quantidade de pontos entre os anos 2000 e 2022."
      ],
      "metadata": {
        "id": "WnZvybvhJ8QU"
      }
    },
    {
      "cell_type": "code",
      "source": [
        "# gráficos dos dados brutos.\n",
        "column = \"Pts\"\n",
        "values = get_column_values_for_years(standings, column)\n",
        "\n",
        "fig, ax = plt.subplots(20, figsize=(6,100))\n",
        "\n",
        "for idx, item in enumerate(values):\n",
        "  ax[idx].set_title(f\"Posição {idx+1}\")\n",
        "  ax[idx].hist(item, label=str(idx+1))"
      ],
      "metadata": {
        "id": "q0SOUDngEC3U",
        "outputId": "e7fcd397-379b-4e08-f058-b63dd0bd9a5c",
        "colab": {
          "base_uri": "https://localhost:8080/",
          "height": 7783
        }
      },
      "execution_count": 34,
      "outputs": [
        {
          "output_type": "display_data",
          "data": {
            "text/plain": [
              "<Figure size 600x10000 with 20 Axes>"
            ],
            "image/png": "[encoded data removed]"
          },
          "metadata": {}
        }
      ]
    },
    {
      "cell_type": "markdown",
      "source": [
        "Na temporada de 2018-19 da Premier League, tivemos dois casos muito intrigantes no topo da tabela. Os dois primeiros colocados fugiram muito do esperado, com o campeão Manchester City fazendo 98 pontos, e o segundo colocado Liverpool chegando a 97 pontos.\n",
        "\n",
        "A probabilidade de tal feito é muito pequena, uma vez que analisando o bootstrap para as duas posições (apresentado abaixo), vemos que chegar aos 98 e 97 pontos é quase impossível caso fosse algo dependente apenas da chance."
      ],
      "metadata": {
        "id": "J_r9DkN4QVuX"
      }
    },
    {
      "cell_type": "code",
      "source": [
        "bins = np.linspace(75, 100, 40)\n",
        "plt.hist(bstrap[0], label=\"1\", bins=bins, color=\"skyblue\")\n",
        "plt.hist(bstrap[1], label=\"2\", bins=bins, color=\"red\")\n",
        "plt.title(\"Bootstrap de pontos de primeiros e segundos colocados\")"
      ],
      "metadata": {
        "colab": {
          "base_uri": "https://localhost:8080/",
          "height": 469
        },
        "id": "g9NlJn3gOj_o",
        "outputId": "ac4571c6-857a-4c61-ab45-fd8920abccd4"
      },
      "execution_count": 35,
      "outputs": [
        {
          "output_type": "execute_result",
          "data": {
            "text/plain": [
              "Text(0.5, 1.0, 'Bootstrap de pontos de primeiros e segundos colocados')"
            ]
          },
          "metadata": {},
          "execution_count": 35
        },
        {
          "output_type": "display_data",
          "data": {
            "text/plain": [
              "<Figure size 640x480 with 1 Axes>"
            ],
            "image/png": "[encoded data removed]"
          },
          "metadata": {}
        }
      ]
    },
    {
      "cell_type": "markdown",
      "source": [
        "Com a análise do gráfico, podemos identificar que uma pontuação de 98 pontos para o primeiro colocado e 97 pontos para o segundo se caracterizam como grandes *outliers*, visto que ambas ocorrem em menos de 2.5% dos casos."
      ],
      "metadata": {
        "id": "C8jY1rmyUQEh"
      }
    },
    {
      "cell_type": "code",
      "source": [
        "print(np.percentile(bstrap[0], 97.5))\n",
        "print(np.percentile(bstrap[1], 97.5))"
      ],
      "metadata": {
        "colab": {
          "base_uri": "https://localhost:8080/",
          "height": 0
        },
        "id": "hYaqmrzxT8gK",
        "outputId": "b07ef39d-5ed8-47af-a340-15e5ddfe7ce6"
      },
      "execution_count": 36,
      "outputs": [
        {
          "output_type": "stream",
          "name": "stdout",
          "text": [
            "91.5\n",
            "84.45\n"
          ]
        }
      ]
    },
    {
      "cell_type": "markdown",
      "source": [
        "A matriz de correlação nos ajuda a visualizar como diferentes aspectos do desempenho de um time estão relacionados. Por exemplo, um saldo de gols (GD) mais alto está fortemente correlacionado com mais pontos (Pts), sugerindo que tanto marcar muitos gols quanto sofrer poucos são importantes para o sucesso na competição."
      ],
      "metadata": {
        "id": "IqZs6Inb8ZoS"
      }
    },
    {
      "cell_type": "code",
      "source": [
        "# Correlação\n",
        "correlation_matrix = standings[['GF', 'GA', 'GD', 'Pts']].corr()\n",
        "print(correlation_matrix)"
      ],
      "metadata": {
        "colab": {
          "base_uri": "https://localhost:8080/",
          "height": 0
        },
        "id": "2WuCGuOu36UB",
        "outputId": "b9c54139-6bf2-4d2a-c29f-25083ee24e1d"
      },
      "execution_count": 37,
      "outputs": [
        {
          "output_type": "stream",
          "name": "stdout",
          "text": [
            "           GF        GA        GD       Pts\n",
            "GF   1.000000 -0.644366  0.925461  0.898749\n",
            "GA  -0.644366  1.000000 -0.886043 -0.849168\n",
            "GD   0.925461 -0.886043  1.000000  0.965538\n",
            "Pts  0.898749 -0.849168  0.965538  1.000000\n"
          ]
        }
      ]
    },
    {
      "cell_type": "markdown",
      "source": [
        "Com gráficos de dispersão, podemos visualizar melhor essas correlações. A relação entre as métricas de desempenho ofensivo e defensivo (gols marcados, gols sofridos e saldo de gols) e a pontuação do time ficam evidentes. Eles ajudam a identificar padrões e a entender melhor como essas variáveis estão correlacionadas com o desempenho geral."
      ],
      "metadata": {
        "id": "EX3pW4nq-Jrg"
      }
    },
    {
      "cell_type": "code",
      "source": [
        "# Gráfico de Dispersão\n",
        "plt.scatter(standings['GF'], standings['Pts'])\n",
        "plt.title('Gols Marcados vs Pontos')\n",
        "plt.xlabel('Gols Marcados (GF)')\n",
        "plt.ylabel('Pontos (Pts)')\n",
        "plt.show()"
      ],
      "metadata": {
        "colab": {
          "base_uri": "https://localhost:8080/",
          "height": 472
        },
        "id": "qa9S6FoZ382d",
        "outputId": "82f24bea-e4c2-49f4-c775-d9e1944361df"
      },
      "execution_count": 38,
      "outputs": [
        {
          "output_type": "display_data",
          "data": {
            "text/plain": [
              "<Figure size 640x480 with 1 Axes>"
            ],
            "image/png": "[encoded data removed]"
          },
          "metadata": {}
        }
      ]
    },
    {
      "cell_type": "code",
      "source": [
        "plt.scatter(standings['GA'], standings['Pts'])\n",
        "plt.title('Gols Sofridos vs Pontos')\n",
        "plt.xlabel('Gols Sofridos (GA)')\n",
        "plt.ylabel('Pontos (Pts)')\n",
        "plt.show()"
      ],
      "metadata": {
        "colab": {
          "base_uri": "https://localhost:8080/",
          "height": 472
        },
        "id": "1nPYyPTu6NK0",
        "outputId": "b988292a-6de0-4bf9-e979-bbea4176571e"
      },
      "execution_count": 39,
      "outputs": [
        {
          "output_type": "display_data",
          "data": {
            "text/plain": [
              "<Figure size 640x480 with 1 Axes>"
            ],
            "image/png": "[encoded data removed]"
          },
          "metadata": {}
        }
      ]
    },
    {
      "cell_type": "code",
      "source": [
        "plt.scatter(standings['GD'], standings['Pts'])\n",
        "plt.title('Saldo de gols vs Pontos')\n",
        "plt.xlabel('Saldo de gols (GD)')\n",
        "plt.ylabel('Pontos (Pts)')\n",
        "plt.show()"
      ],
      "metadata": {
        "colab": {
          "base_uri": "https://localhost:8080/",
          "height": 472
        },
        "id": "yIAKMgGT9FV9",
        "outputId": "2e6414c6-df39-4d86-bde3-5c9ee13507e2"
      },
      "execution_count": 40,
      "outputs": [
        {
          "output_type": "display_data",
          "data": {
            "text/plain": [
              "<Figure size 640x480 with 1 Axes>"
            ],
            "image/png": "[encoded data removed]"
          },
          "metadata": {}
        }
      ]
    },
    {
      "cell_type": "markdown",
      "source": [
        "Os três gráficos acima (Gols Marcados vs Pontos, Gols Sofridos vs Pontos, Saldo de gols vs Pontos) ilustram que uma equipe que marca muitos gols tende a pontuar muito, assim como uma equipe que sofre poucos gols."
      ],
      "metadata": {
        "id": "ilc5glWDKS-s"
      }
    },
    {
      "cell_type": "markdown",
      "source": [
        "Podemos categorizar os times entre campeões, rebaixados e meio da tabela, e assim, visualizar qual a pontuação média de cada categoria. Com isso, é possível fazer uma previsão sobre o time com base na sua pontuação."
      ],
      "metadata": {
        "id": "LcYP2sZKAokx"
      }
    },
    {
      "cell_type": "code",
      "source": [
        "# Cria uma coluna para as categorias: campeão, rebaixado, meio da tabela\n",
        "condicoes = [\n",
        "    (standings['Pos'] == 1),\n",
        "    (standings['Pos'] >= 18)\n",
        "]\n",
        "opcoes = ['Campeão', 'Rebaixado']\n",
        "standings['Categoria'] = np.select(condicoes, opcoes, default='Meio da Tabela')\n",
        "\n",
        "# Calcula médias de desempenho\n",
        "performace = standings.groupby('Categoria')['Pts'].mean().reset_index()\n",
        "\n",
        "# Visualiza os resultados\n",
        "sns.barplot(x='Categoria', y='Pts', data=performace)\n",
        "plt.title('Desempenho Médio por Categoria')\n",
        "plt.show()"
      ],
      "metadata": {
        "colab": {
          "base_uri": "https://localhost:8080/",
          "height": 472
        },
        "id": "3vSubKbO4oNS",
        "outputId": "4bad4df7-879a-495c-d0f8-b179a8b2ca88"
      },
      "execution_count": 41,
      "outputs": [
        {
          "output_type": "display_data",
          "data": {
            "text/plain": [
              "<Figure size 640x480 with 1 Axes>"
            ],
            "image/png": "[encoded data removed]"
          },
          "metadata": {}
        }
      ]
    },
    {
      "cell_type": "markdown",
      "source": [
        "Perguntas 1 e 2. É possível perceber atráves da computação dos e da observação dos ICs e dos gráficos, que existem comportamentos e estatísticas esperadas para times de cada posição.\n",
        "\n",
        "Precisamos agora encontrar uma maneira usar os resultados antigos para prever comportamento (próx etapa), usando regressão.\n",
        "\n",
        "Pergunta 3. Atráves dos mesmos conceitos empregados na duas primeiras perguntas, podemos usar a tabela de partidas que encontramos para enriquecer o futuro modelo de regressão."
      ],
      "metadata": {
        "id": "LPY5Ot0XCAAi"
      }
    },
    {
      "cell_type": "markdown",
      "source": [
        "## Classifição para estimar posição geral (G4*, Z4*, meio de tabela).\n",
        "\n",
        "Muito embora, devido ao campeonato brasileiro, a gente conheça como G4 e Z4, nossos dados são contextualizados, i.e. são referentes a Premier League. Ou seja, são rebaixados somente dois times (equivalente ao Z4), uma quantia variável de times vão para  a Champions League (equivalente ao G4) ao longo dos anos.\n",
        "\n",
        "Para essa análise, consideraremos o G4 na sua definição padrão e o que seria o \"Z2\"."
      ],
      "metadata": {
        "id": "07ZvOQze8MyW"
      }
    },
    {
      "cell_type": "markdown",
      "source": [
        "### Adicionando dados dos jogadores ao nosso df"
      ],
      "metadata": {
        "id": "xzmhlSjvsonh"
      }
    },
    {
      "cell_type": "markdown",
      "source": [
        "Vamos adicionar dados ao nosso df com base nos jogadores do time"
      ],
      "metadata": {
        "id": "nuzAdmdsQACk"
      }
    },
    {
      "cell_type": "code",
      "source": [
        "# Agrupamos informação dos jogadores em cada time\n",
        "players = pd.read_csv(\"all_players.csv\")\n",
        "players = players.groupby(['Year', 'club_name']).agg(\n",
        "    total_value_eur=('value_eur', 'sum'),\n",
        "    mean_overall=('overall', 'mean'),\n",
        "    mean_age=('age', 'mean')\n",
        ").reset_index()\n",
        "players.head()"
      ],
      "metadata": {
        "colab": {
          "base_uri": "https://localhost:8080/",
          "height": 206
        },
        "id": "j_zHDvEIsoKA",
        "outputId": "c8cde225-f396-4041-c321-c23ed20f8f79"
      },
      "execution_count": 42,
      "outputs": [
        {
          "output_type": "execute_result",
          "data": {
            "text/plain": [
              "   Year         club_name  total_value_eur  mean_overall   mean_age\n",
              "0  2015           Arsenal      245075000.0     74.181818  23.818182\n",
              "1  2015       Aston Villa       78505000.0     69.606061  24.636364\n",
              "2  2015   Birmingham City       13840000.0     63.400000  24.000000\n",
              "3  2015  Blackburn Rovers       18795000.0     64.500000  24.566667\n",
              "4  2015         Blackpool       10460000.0     61.814815  24.555556"
            ],
            "text/html": [
              "\n",
              "  <div id=\"df-80201f34-472b-47c5-b5a1-6e9d5deea54d\" class=\"colab-df-container\">\n",
              "    <div>\n",
              "<style scoped>\n",
              "    .dataframe tbody tr th:only-of-type {\n",
              "        vertical-align: middle;\n",
              "    }\n",
              "\n",
              "    .dataframe tbody tr th {\n",
              "        vertical-align: top;\n",
              "    }\n",
              "\n",
              "    .dataframe thead th {\n",
              "        text-align: right;\n",
              "    }\n",
              "</style>\n",
              "<table border=\"1\" class=\"dataframe\">\n",
              "  <thead>\n",
              "    <tr style=\"text-align: right;\">\n",
              "      <th></th>\n",
              "      <th>Year</th>\n",
              "      <th>club_name</th>\n",
              "      <th>total_value_eur</th>\n",
              "      <th>mean_overall</th>\n",
              "      <th>mean_age</th>\n",
              "    </tr>\n",
              "  </thead>\n",
              "  <tbody>\n",
              "    <tr>\n",
              "      <th>0</th>\n",
              "      <td>2015</td>\n",
              "      <td>Arsenal</td>\n",
              "      <td>245075000.0</td>\n",
              "      <td>74.181818</td>\n",
              "      <td>23.818182</td>\n",
              "    </tr>\n",
              "    <tr>\n",
              "      <th>1</th>\n",
              "      <td>2015</td>\n",
              "      <td>Aston Villa</td>\n",
              "      <td>78505000.0</td>\n",
              "      <td>69.606061</td>\n",
              "      <td>24.636364</td>\n",
              "    </tr>\n",
              "    <tr>\n",
              "      <th>2</th>\n",
              "      <td>2015</td>\n",
              "      <td>Birmingham City</td>\n",
              "      <td>13840000.0</td>\n",
              "      <td>63.400000</td>\n",
              "      <td>24.000000</td>\n",
              "    </tr>\n",
              "    <tr>\n",
              "      <th>3</th>\n",
              "      <td>2015</td>\n",
              "      <td>Blackburn Rovers</td>\n",
              "      <td>18795000.0</td>\n",
              "      <td>64.500000</td>\n",
              "      <td>24.566667</td>\n",
              "    </tr>\n",
              "    <tr>\n",
              "      <th>4</th>\n",
              "      <td>2015</td>\n",
              "      <td>Blackpool</td>\n",
              "      <td>10460000.0</td>\n",
              "      <td>61.814815</td>\n",
              "      <td>24.555556</td>\n",
              "    </tr>\n",
              "  </tbody>\n",
              "</table>\n",
              "</div>\n",
              "    <div class=\"colab-df-buttons\">\n",
              "\n",
              "  <div class=\"colab-df-container\">\n",
              "    <button class=\"colab-df-convert\" onclick=\"convertToInteractive('df-80201f34-472b-47c5-b5a1-6e9d5deea54d')\"\n",
              "            title=\"Convert this dataframe to an interactive table.\"\n",
              "            style=\"display:none;\">\n",
              "\n",
              "  <svg xmlns=\"http://www.w3.org/2000/svg\" height=\"24px\" viewBox=\"0 -960 960 960\">\n",
              "    <path d=\"M120-120v-720h720v720H120Zm60-500h600v-160H180v160Zm220 220h160v-160H400v160Zm0 220h160v-160H400v160ZM180-400h160v-160H180v160Zm440 0h160v-160H620v160ZM180-180h160v-160H180v160Zm440 0h160v-160H620v160Z\"/>\n",
              "  </svg>\n",
              "    </button>\n",
              "\n",
              "  <style>\n",
              "    .colab-df-container {\n",
              "      display:flex;\n",
              "      gap: 12px;\n",
              "    }\n",
              "\n",
              "    .colab-df-convert {\n",
              "      background-color: #E8F0FE;\n",
              "      border: none;\n",
              "      border-radius: 50%;\n",
              "      cursor: pointer;\n",
              "      display: none;\n",
              "      fill: #1967D2;\n",
              "      height: 32px;\n",
              "      padding: 0 0 0 0;\n",
              "      width: 32px;\n",
              "    }\n",
              "\n",
              "    .colab-df-convert:hover {\n",
              "      background-color: #E2EBFA;\n",
              "      box-shadow: 0px 1px 2px rgba(60, 64, 67, 0.3), 0px 1px 3px 1px rgba(60, 64, 67, 0.15);\n",
              "      fill: #174EA6;\n",
              "    }\n",
              "\n",
              "    .colab-df-buttons div {\n",
              "      margin-bottom: 4px;\n",
              "    }\n",
              "\n",
              "    [theme=dark] .colab-df-convert {\n",
              "      background-color: #3B4455;\n",
              "      fill: #D2E3FC;\n",
              "    }\n",
              "\n",
              "    [theme=dark] .colab-df-convert:hover {\n",
              "      background-color: #434B5C;\n",
              "      box-shadow: 0px 1px 3px 1px rgba(0, 0, 0, 0.15);\n",
              "      filter: drop-shadow(0px 1px 2px rgba(0, 0, 0, 0.3));\n",
              "      fill: #FFFFFF;\n",
              "    }\n",
              "  </style>\n",
              "\n",
              "    <script>\n",
              "      const buttonEl =\n",
              "        document.querySelector('#df-80201f34-472b-47c5-b5a1-6e9d5deea54d button.colab-df-convert');\n",
              "      buttonEl.style.display =\n",
              "        google.colab.kernel.accessAllowed ? 'block' : 'none';\n",
              "\n",
              "      async function convertToInteractive(key) {\n",
              "        const element = document.querySelector('#df-80201f34-472b-47c5-b5a1-6e9d5deea54d');\n",
              "        const dataTable =\n",
              "          await google.colab.kernel.invokeFunction('convertToInteractive',\n",
              "                                                    [key], {});\n",
              "        if (!dataTable) return;\n",
              "\n",
              "        const docLinkHtml = 'Like what you see? Visit the ' +\n",
              "          '<a target=\"_blank\" href=https://colab.research.google.com/notebooks/data_table.ipynb>data table notebook</a>'\n",
              "          + ' to learn more about interactive tables.';\n",
              "        element.innerHTML = '';\n",
              "        dataTable['output_type'] = 'display_data';\n",
              "        await google.colab.output.renderOutput(dataTable, element);\n",
              "        const docLink = document.createElement('div');\n",
              "        docLink.innerHTML = docLinkHtml;\n",
              "        element.appendChild(docLink);\n",
              "      }\n",
              "    </script>\n",
              "  </div>\n",
              "\n",
              "\n",
              "<div id=\"df-473fe010-8dd8-4b9d-a067-bcd48cf575f9\">\n",
              "  <button class=\"colab-df-quickchart\" onclick=\"quickchart('df-473fe010-8dd8-4b9d-a067-bcd48cf575f9')\"\n",
              "            title=\"Suggest charts\"\n",
              "            style=\"display:none;\">\n",
              "\n",
              "<svg xmlns=\"http://www.w3.org/2000/svg\" height=\"24px\"viewBox=\"0 0 24 24\"\n",
              "     width=\"24px\">\n",
              "    <g>\n",
              "        <path d=\"M19 3H5c-1.1 0-2 .9-2 2v14c0 1.1.9 2 2 2h14c1.1 0 2-.9 2-2V5c0-1.1-.9-2-2-2zM9 17H7v-7h2v7zm4 0h-2V7h2v10zm4 0h-2v-4h2v4z\"/>\n",
              "    </g>\n",
              "</svg>\n",
              "  </button>\n",
              "\n",
              "<style>\n",
              "  .colab-df-quickchart {\n",
              "      --bg-color: #E8F0FE;\n",
              "      --fill-color: #1967D2;\n",
              "      --hover-bg-color: #E2EBFA;\n",
              "      --hover-fill-color: #174EA6;\n",
              "      --disabled-fill-color: #AAA;\n",
              "      --disabled-bg-color: #DDD;\n",
              "  }\n",
              "\n",
              "  [theme=dark] .colab-df-quickchart {\n",
              "      --bg-color: #3B4455;\n",
              "      --fill-color: #D2E3FC;\n",
              "      --hover-bg-color: #434B5C;\n",
              "      --hover-fill-color: #FFFFFF;\n",
              "      --disabled-bg-color: #3B4455;\n",
              "      --disabled-fill-color: #666;\n",
              "  }\n",
              "\n",
              "  .colab-df-quickchart {\n",
              "    background-color: var(--bg-color);\n",
              "    border: none;\n",
              "    border-radius: 50%;\n",
              "    cursor: pointer;\n",
              "    display: none;\n",
              "    fill: var(--fill-color);\n",
              "    height: 32px;\n",
              "    padding: 0;\n",
              "    width: 32px;\n",
              "  }\n",
              "\n",
              "  .colab-df-quickchart:hover {\n",
              "    background-color: var(--hover-bg-color);\n",
              "    box-shadow: 0 1px 2px rgba(60, 64, 67, 0.3), 0 1px 3px 1px rgba(60, 64, 67, 0.15);\n",
              "    fill: var(--button-hover-fill-color);\n",
              "  }\n",
              "\n",
              "  .colab-df-quickchart-complete:disabled,\n",
              "  .colab-df-quickchart-complete:disabled:hover {\n",
              "    background-color: var(--disabled-bg-color);\n",
              "    fill: var(--disabled-fill-color);\n",
              "    box-shadow: none;\n",
              "  }\n",
              "\n",
              "  .colab-df-spinner {\n",
              "    border: 2px solid var(--fill-color);\n",
              "    border-color: transparent;\n",
              "    border-bottom-color: var(--fill-color);\n",
              "    animation:\n",
              "      spin 1s steps(1) infinite;\n",
              "  }\n",
              "\n",
              "  @keyframes spin {\n",
              "    0% {\n",
              "      border-color: transparent;\n",
              "      border-bottom-color: var(--fill-color);\n",
              "      border-left-color: var(--fill-color);\n",
              "    }\n",
              "    20% {\n",
              "      border-color: transparent;\n",
              "      border-left-color: var(--fill-color);\n",
              "      border-top-color: var(--fill-color);\n",
              "    }\n",
              "    30% {\n",
              "      border-color: transparent;\n",
              "      border-left-color: var(--fill-color);\n",
              "      border-top-color: var(--fill-color);\n",
              "      border-right-color: var(--fill-color);\n",
              "    }\n",
              "    40% {\n",
              "      border-color: transparent;\n",
              "      border-right-color: var(--fill-color);\n",
              "      border-top-color: var(--fill-color);\n",
              "    }\n",
              "    60% {\n",
              "      border-color: transparent;\n",
              "      border-right-color: var(--fill-color);\n",
              "    }\n",
              "    80% {\n",
              "      border-color: transparent;\n",
              "      border-right-color: var(--fill-color);\n",
              "      border-bottom-color: var(--fill-color);\n",
              "    }\n",
              "    90% {\n",
              "      border-color: transparent;\n",
              "      border-bottom-color: var(--fill-color);\n",
              "    }\n",
              "  }\n",
              "</style>\n",
              "\n",
              "  <script>\n",
              "    async function quickchart(key) {\n",
              "      const quickchartButtonEl =\n",
              "        document.querySelector('#' + key + ' button');\n",
              "      quickchartButtonEl.disabled = true;  // To prevent multiple clicks.\n",
              "      quickchartButtonEl.classList.add('colab-df-spinner');\n",
              "      try {\n",
              "        const charts = await google.colab.kernel.invokeFunction(\n",
              "            'suggestCharts', [key], {});\n",
              "      } catch (error) {\n",
              "        console.error('Error during call to suggestCharts:', error);\n",
              "      }\n",
              "      quickchartButtonEl.classList.remove('colab-df-spinner');\n",
              "      quickchartButtonEl.classList.add('colab-df-quickchart-complete');\n",
              "    }\n",
              "    (() => {\n",
              "      let quickchartButtonEl =\n",
              "        document.querySelector('#df-473fe010-8dd8-4b9d-a067-bcd48cf575f9 button');\n",
              "      quickchartButtonEl.style.display =\n",
              "        google.colab.kernel.accessAllowed ? 'block' : 'none';\n",
              "    })();\n",
              "  </script>\n",
              "</div>\n",
              "\n",
              "    </div>\n",
              "  </div>\n"
            ],
            "application/vnd.google.colaboratory.intrinsic+json": {
              "type": "dataframe",
              "variable_name": "players",
              "summary": "{\n  \"name\": \"players\",\n  \"rows\": 344,\n  \"fields\": [\n    {\n      \"column\": \"Year\",\n      \"properties\": {\n        \"dtype\": \"number\",\n        \"std\": 2,\n        \"min\": 2015,\n        \"max\": 2022,\n        \"num_unique_values\": 8,\n        \"samples\": [\n          2016,\n          2020,\n          2015\n        ],\n        \"semantic_type\": \"\",\n        \"description\": \"\"\n      }\n    },\n    {\n      \"column\": \"club_name\",\n      \"properties\": {\n        \"dtype\": \"category\",\n        \"num_unique_values\": 43,\n        \"samples\": [\n          \"Tottenham Hotspur\",\n          \"Manchester City\",\n          \"Manchester United\"\n        ],\n        \"semantic_type\": \"\",\n        \"description\": \"\"\n      }\n    },\n    {\n      \"column\": \"total_value_eur\",\n      \"properties\": {\n        \"dtype\": \"number\",\n        \"std\": 303041466.0609612,\n        \"min\": 2447000.0,\n        \"max\": 2851625000.0,\n        \"num_unique_values\": 341,\n        \"samples\": [\n          1046375000.0,\n          53780000.0,\n          118340000.0\n        ],\n        \"semantic_type\": \"\",\n        \"description\": \"\"\n      }\n    },\n    {\n      \"column\": \"mean_overall\",\n      \"properties\": {\n        \"dtype\": \"number\",\n        \"std\": 4.604284839771186,\n        \"min\": 54.2962962962963,\n        \"max\": 79.21212121212122,\n        \"num_unique_values\": 292,\n        \"samples\": [\n          65.52727272727273,\n          65.26666666666667,\n          64.89655172413794\n        ],\n        \"semantic_type\": \"\",\n        \"description\": \"\"\n      }\n    },\n    {\n      \"column\": \"mean_age\",\n      \"properties\": {\n        \"dtype\": \"number\",\n        \"std\": 1.046590717422055,\n        \"min\": 21.76923076923077,\n        \"max\": 27.3,\n        \"num_unique_values\": 242,\n        \"samples\": [\n          24.818181818181817,\n          23.576923076923077,\n          25.818181818181817\n        ],\n        \"semantic_type\": \"\",\n        \"description\": \"\"\n      }\n    }\n  ]\n}"
            }
          },
          "metadata": {},
          "execution_count": 42
        }
      ]
    },
    {
      "cell_type": "code",
      "source": [
        "standings.head()"
      ],
      "metadata": {
        "colab": {
          "base_uri": "https://localhost:8080/",
          "height": 206
        },
        "id": "AO51KS6svBYD",
        "outputId": "486b3cc4-06ca-4976-9cc3-5eae1dcc1206"
      },
      "execution_count": 43,
      "outputs": [
        {
          "output_type": "execute_result",
          "data": {
            "text/plain": [
              "    Season  Pos               Team  Pld   W   D   L  GF  GA  GD  Pts  \\\n",
              "0  2000-01    1  Manchester United   38  24   8   6  79  31  48   80   \n",
              "1  2000-01    2            Arsenal   38  20  10   8  63  38  25   70   \n",
              "2  2000-01    3          Liverpool   38  20   9   9  71  39  32   69   \n",
              "3  2000-01    4       Leeds United   38  20   8  10  64  43  21   68   \n",
              "4  2000-01    5       Ipswich Town   38  20   6  12  57  42  15   66   \n",
              "\n",
              "                         Qualification or relegation       Categoria  \n",
              "0  Qualification for the Champions League first g...         Campeão  \n",
              "1  Qualification for the Champions League first g...  Meio da Tabela  \n",
              "2  Qualification for the Champions League third q...  Meio da Tabela  \n",
              "3      Qualification for the UEFA Cup first round[a]  Meio da Tabela  \n",
              "4      Qualification for the UEFA Cup first round[a]  Meio da Tabela  "
            ],
            "text/html": [
              "\n",
              "  <div id=\"df-bc3608f3-55bf-48c2-a50a-b1a20905f9d4\" class=\"colab-df-container\">\n",
              "    <div>\n",
              "<style scoped>\n",
              "    .dataframe tbody tr th:only-of-type {\n",
              "        vertical-align: middle;\n",
              "    }\n",
              "\n",
              "    .dataframe tbody tr th {\n",
              "        vertical-align: top;\n",
              "    }\n",
              "\n",
              "    .dataframe thead th {\n",
              "        text-align: right;\n",
              "    }\n",
              "</style>\n",
              "<table border=\"1\" class=\"dataframe\">\n",
              "  <thead>\n",
              "    <tr style=\"text-align: right;\">\n",
              "      <th></th>\n",
              "      <th>Season</th>\n",
              "      <th>Pos</th>\n",
              "      <th>Team</th>\n",
              "      <th>Pld</th>\n",
              "      <th>W</th>\n",
              "      <th>D</th>\n",
              "      <th>L</th>\n",
              "      <th>GF</th>\n",
              "      <th>GA</th>\n",
              "      <th>GD</th>\n",
              "      <th>Pts</th>\n",
              "      <th>Qualification or relegation</th>\n",
              "      <th>Categoria</th>\n",
              "    </tr>\n",
              "  </thead>\n",
              "  <tbody>\n",
              "    <tr>\n",
              "      <th>0</th>\n",
              "      <td>2000-01</td>\n",
              "      <td>1</td>\n",
              "      <td>Manchester United</td>\n",
              "      <td>38</td>\n",
              "      <td>24</td>\n",
              "      <td>8</td>\n",
              "      <td>6</td>\n",
              "      <td>79</td>\n",
              "      <td>31</td>\n",
              "      <td>48</td>\n",
              "      <td>80</td>\n",
              "      <td>Qualification for the Champions League first g...</td>\n",
              "      <td>Campeão</td>\n",
              "    </tr>\n",
              "    <tr>\n",
              "      <th>1</th>\n",
              "      <td>2000-01</td>\n",
              "      <td>2</td>\n",
              "      <td>Arsenal</td>\n",
              "      <td>38</td>\n",
              "      <td>20</td>\n",
              "      <td>10</td>\n",
              "      <td>8</td>\n",
              "      <td>63</td>\n",
              "      <td>38</td>\n",
              "      <td>25</td>\n",
              "      <td>70</td>\n",
              "      <td>Qualification for the Champions League first g...</td>\n",
              "      <td>Meio da Tabela</td>\n",
              "    </tr>\n",
              "    <tr>\n",
              "      <th>2</th>\n",
              "      <td>2000-01</td>\n",
              "      <td>3</td>\n",
              "      <td>Liverpool</td>\n",
              "      <td>38</td>\n",
              "      <td>20</td>\n",
              "      <td>9</td>\n",
              "      <td>9</td>\n",
              "      <td>71</td>\n",
              "      <td>39</td>\n",
              "      <td>32</td>\n",
              "      <td>69</td>\n",
              "      <td>Qualification for the Champions League third q...</td>\n",
              "      <td>Meio da Tabela</td>\n",
              "    </tr>\n",
              "    <tr>\n",
              "      <th>3</th>\n",
              "      <td>2000-01</td>\n",
              "      <td>4</td>\n",
              "      <td>Leeds United</td>\n",
              "      <td>38</td>\n",
              "      <td>20</td>\n",
              "      <td>8</td>\n",
              "      <td>10</td>\n",
              "      <td>64</td>\n",
              "      <td>43</td>\n",
              "      <td>21</td>\n",
              "      <td>68</td>\n",
              "      <td>Qualification for the UEFA Cup first round[a]</td>\n",
              "      <td>Meio da Tabela</td>\n",
              "    </tr>\n",
              "    <tr>\n",
              "      <th>4</th>\n",
              "      <td>2000-01</td>\n",
              "      <td>5</td>\n",
              "      <td>Ipswich Town</td>\n",
              "      <td>38</td>\n",
              "      <td>20</td>\n",
              "      <td>6</td>\n",
              "      <td>12</td>\n",
              "      <td>57</td>\n",
              "      <td>42</td>\n",
              "      <td>15</td>\n",
              "      <td>66</td>\n",
              "      <td>Qualification for the UEFA Cup first round[a]</td>\n",
              "      <td>Meio da Tabela</td>\n",
              "    </tr>\n",
              "  </tbody>\n",
              "</table>\n",
              "</div>\n",
              "    <div class=\"colab-df-buttons\">\n",
              "\n",
              "  <div class=\"colab-df-container\">\n",
              "    <button class=\"colab-df-convert\" onclick=\"convertToInteractive('df-bc3608f3-55bf-48c2-a50a-b1a20905f9d4')\"\n",
              "            title=\"Convert this dataframe to an interactive table.\"\n",
              "            style=\"display:none;\">\n",
              "\n",
              "  <svg xmlns=\"http://www.w3.org/2000/svg\" height=\"24px\" viewBox=\"0 -960 960 960\">\n",
              "    <path d=\"M120-120v-720h720v720H120Zm60-500h600v-160H180v160Zm220 220h160v-160H400v160Zm0 220h160v-160H400v160ZM180-400h160v-160H180v160Zm440 0h160v-160H620v160ZM180-180h160v-160H180v160Zm440 0h160v-160H620v160Z\"/>\n",
              "  </svg>\n",
              "    </button>\n",
              "\n",
              "  <style>\n",
              "    .colab-df-container {\n",
              "      display:flex;\n",
              "      gap: 12px;\n",
              "    }\n",
              "\n",
              "    .colab-df-convert {\n",
              "      background-color: #E8F0FE;\n",
              "      border: none;\n",
              "      border-radius: 50%;\n",
              "      cursor: pointer;\n",
              "      display: none;\n",
              "      fill: #1967D2;\n",
              "      height: 32px;\n",
              "      padding: 0 0 0 0;\n",
              "      width: 32px;\n",
              "    }\n",
              "\n",
              "    .colab-df-convert:hover {\n",
              "      background-color: #E2EBFA;\n",
              "      box-shadow: 0px 1px 2px rgba(60, 64, 67, 0.3), 0px 1px 3px 1px rgba(60, 64, 67, 0.15);\n",
              "      fill: #174EA6;\n",
              "    }\n",
              "\n",
              "    .colab-df-buttons div {\n",
              "      margin-bottom: 4px;\n",
              "    }\n",
              "\n",
              "    [theme=dark] .colab-df-convert {\n",
              "      background-color: #3B4455;\n",
              "      fill: #D2E3FC;\n",
              "    }\n",
              "\n",
              "    [theme=dark] .colab-df-convert:hover {\n",
              "      background-color: #434B5C;\n",
              "      box-shadow: 0px 1px 3px 1px rgba(0, 0, 0, 0.15);\n",
              "      filter: drop-shadow(0px 1px 2px rgba(0, 0, 0, 0.3));\n",
              "      fill: #FFFFFF;\n",
              "    }\n",
              "  </style>\n",
              "\n",
              "    <script>\n",
              "      const buttonEl =\n",
              "        document.querySelector('#df-bc3608f3-55bf-48c2-a50a-b1a20905f9d4 button.colab-df-convert');\n",
              "      buttonEl.style.display =\n",
              "        google.colab.kernel.accessAllowed ? 'block' : 'none';\n",
              "\n",
              "      async function convertToInteractive(key) {\n",
              "        const element = document.querySelector('#df-bc3608f3-55bf-48c2-a50a-b1a20905f9d4');\n",
              "        const dataTable =\n",
              "          await google.colab.kernel.invokeFunction('convertToInteractive',\n",
              "                                                    [key], {});\n",
              "        if (!dataTable) return;\n",
              "\n",
              "        const docLinkHtml = 'Like what you see? Visit the ' +\n",
              "          '<a target=\"_blank\" href=https://colab.research.google.com/notebooks/data_table.ipynb>data table notebook</a>'\n",
              "          + ' to learn more about interactive tables.';\n",
              "        element.innerHTML = '';\n",
              "        dataTable['output_type'] = 'display_data';\n",
              "        await google.colab.output.renderOutput(dataTable, element);\n",
              "        const docLink = document.createElement('div');\n",
              "        docLink.innerHTML = docLinkHtml;\n",
              "        element.appendChild(docLink);\n",
              "      }\n",
              "    </script>\n",
              "  </div>\n",
              "\n",
              "\n",
              "<div id=\"df-07f8dee7-881a-48ef-aec8-81c38a3e8531\">\n",
              "  <button class=\"colab-df-quickchart\" onclick=\"quickchart('df-07f8dee7-881a-48ef-aec8-81c38a3e8531')\"\n",
              "            title=\"Suggest charts\"\n",
              "            style=\"display:none;\">\n",
              "\n",
              "<svg xmlns=\"http://www.w3.org/2000/svg\" height=\"24px\"viewBox=\"0 0 24 24\"\n",
              "     width=\"24px\">\n",
              "    <g>\n",
              "        <path d=\"M19 3H5c-1.1 0-2 .9-2 2v14c0 1.1.9 2 2 2h14c1.1 0 2-.9 2-2V5c0-1.1-.9-2-2-2zM9 17H7v-7h2v7zm4 0h-2V7h2v10zm4 0h-2v-4h2v4z\"/>\n",
              "    </g>\n",
              "</svg>\n",
              "  </button>\n",
              "\n",
              "<style>\n",
              "  .colab-df-quickchart {\n",
              "      --bg-color: #E8F0FE;\n",
              "      --fill-color: #1967D2;\n",
              "      --hover-bg-color: #E2EBFA;\n",
              "      --hover-fill-color: #174EA6;\n",
              "      --disabled-fill-color: #AAA;\n",
              "      --disabled-bg-color: #DDD;\n",
              "  }\n",
              "\n",
              "  [theme=dark] .colab-df-quickchart {\n",
              "      --bg-color: #3B4455;\n",
              "      --fill-color: #D2E3FC;\n",
              "      --hover-bg-color: #434B5C;\n",
              "      --hover-fill-color: #FFFFFF;\n",
              "      --disabled-bg-color: #3B4455;\n",
              "      --disabled-fill-color: #666;\n",
              "  }\n",
              "\n",
              "  .colab-df-quickchart {\n",
              "    background-color: var(--bg-color);\n",
              "    border: none;\n",
              "    border-radius: 50%;\n",
              "    cursor: pointer;\n",
              "    display: none;\n",
              "    fill: var(--fill-color);\n",
              "    height: 32px;\n",
              "    padding: 0;\n",
              "    width: 32px;\n",
              "  }\n",
              "\n",
              "  .colab-df-quickchart:hover {\n",
              "    background-color: var(--hover-bg-color);\n",
              "    box-shadow: 0 1px 2px rgba(60, 64, 67, 0.3), 0 1px 3px 1px rgba(60, 64, 67, 0.15);\n",
              "    fill: var(--button-hover-fill-color);\n",
              "  }\n",
              "\n",
              "  .colab-df-quickchart-complete:disabled,\n",
              "  .colab-df-quickchart-complete:disabled:hover {\n",
              "    background-color: var(--disabled-bg-color);\n",
              "    fill: var(--disabled-fill-color);\n",
              "    box-shadow: none;\n",
              "  }\n",
              "\n",
              "  .colab-df-spinner {\n",
              "    border: 2px solid var(--fill-color);\n",
              "    border-color: transparent;\n",
              "    border-bottom-color: var(--fill-color);\n",
              "    animation:\n",
              "      spin 1s steps(1) infinite;\n",
              "  }\n",
              "\n",
              "  @keyframes spin {\n",
              "    0% {\n",
              "      border-color: transparent;\n",
              "      border-bottom-color: var(--fill-color);\n",
              "      border-left-color: var(--fill-color);\n",
              "    }\n",
              "    20% {\n",
              "      border-color: transparent;\n",
              "      border-left-color: var(--fill-color);\n",
              "      border-top-color: var(--fill-color);\n",
              "    }\n",
              "    30% {\n",
              "      border-color: transparent;\n",
              "      border-left-color: var(--fill-color);\n",
              "      border-top-color: var(--fill-color);\n",
              "      border-right-color: var(--fill-color);\n",
              "    }\n",
              "    40% {\n",
              "      border-color: transparent;\n",
              "      border-right-color: var(--fill-color);\n",
              "      border-top-color: var(--fill-color);\n",
              "    }\n",
              "    60% {\n",
              "      border-color: transparent;\n",
              "      border-right-color: var(--fill-color);\n",
              "    }\n",
              "    80% {\n",
              "      border-color: transparent;\n",
              "      border-right-color: var(--fill-color);\n",
              "      border-bottom-color: var(--fill-color);\n",
              "    }\n",
              "    90% {\n",
              "      border-color: transparent;\n",
              "      border-bottom-color: var(--fill-color);\n",
              "    }\n",
              "  }\n",
              "</style>\n",
              "\n",
              "  <script>\n",
              "    async function quickchart(key) {\n",
              "      const quickchartButtonEl =\n",
              "        document.querySelector('#' + key + ' button');\n",
              "      quickchartButtonEl.disabled = true;  // To prevent multiple clicks.\n",
              "      quickchartButtonEl.classList.add('colab-df-spinner');\n",
              "      try {\n",
              "        const charts = await google.colab.kernel.invokeFunction(\n",
              "            'suggestCharts', [key], {});\n",
              "      } catch (error) {\n",
              "        console.error('Error during call to suggestCharts:', error);\n",
              "      }\n",
              "      quickchartButtonEl.classList.remove('colab-df-spinner');\n",
              "      quickchartButtonEl.classList.add('colab-df-quickchart-complete');\n",
              "    }\n",
              "    (() => {\n",
              "      let quickchartButtonEl =\n",
              "        document.querySelector('#df-07f8dee7-881a-48ef-aec8-81c38a3e8531 button');\n",
              "      quickchartButtonEl.style.display =\n",
              "        google.colab.kernel.accessAllowed ? 'block' : 'none';\n",
              "    })();\n",
              "  </script>\n",
              "</div>\n",
              "\n",
              "    </div>\n",
              "  </div>\n"
            ],
            "application/vnd.google.colaboratory.intrinsic+json": {
              "type": "dataframe",
              "variable_name": "standings",
              "summary": "{\n  \"name\": \"standings\",\n  \"rows\": 440,\n  \"fields\": [\n    {\n      \"column\": \"Season\",\n      \"properties\": {\n        \"dtype\": \"category\",\n        \"num_unique_values\": 22,\n        \"samples\": [\n          \"2000-01\",\n          \"2013-14\",\n          \"2008-09\"\n        ],\n        \"semantic_type\": \"\",\n        \"description\": \"\"\n      }\n    },\n    {\n      \"column\": \"Pos\",\n      \"properties\": {\n        \"dtype\": \"number\",\n        \"std\": 5,\n        \"min\": 1,\n        \"max\": 20,\n        \"num_unique_values\": 20,\n        \"samples\": [\n          1,\n          18,\n          16\n        ],\n        \"semantic_type\": \"\",\n        \"description\": \"\"\n      }\n    },\n    {\n      \"column\": \"Team\",\n      \"properties\": {\n        \"dtype\": \"category\",\n        \"num_unique_values\": 44,\n        \"samples\": [\n          \"Swansea City\",\n          \"West Bromwich Albion\",\n          \"Portsmouth\"\n        ],\n        \"semantic_type\": \"\",\n        \"description\": \"\"\n      }\n    },\n    {\n      \"column\": \"Pld\",\n      \"properties\": {\n        \"dtype\": \"number\",\n        \"std\": 0,\n        \"min\": 38,\n        \"max\": 38,\n        \"num_unique_values\": 1,\n        \"samples\": [\n          38\n        ],\n        \"semantic_type\": \"\",\n        \"description\": \"\"\n      }\n    },\n    {\n      \"column\": \"W\",\n      \"properties\": {\n        \"dtype\": \"number\",\n        \"std\": 5,\n        \"min\": 1,\n        \"max\": 32,\n        \"num_unique_values\": 30,\n        \"samples\": [\n          1\n        ],\n        \"semantic_type\": \"\",\n        \"description\": \"\"\n      }\n    },\n    {\n      \"column\": \"D\",\n      \"properties\": {\n        \"dtype\": \"number\",\n        \"std\": 2,\n        \"min\": 2,\n        \"max\": 17,\n        \"num_unique_values\": 16,\n        \"samples\": [\n          8\n        ],\n        \"semantic_type\": \"\",\n        \"description\": \"\"\n      }\n    },\n    {\n      \"column\": \"L\",\n      \"properties\": {\n        \"dtype\": \"number\",\n        \"std\": 5,\n        \"min\": 0,\n        \"max\": 29,\n        \"num_unique_values\": 29,\n        \"samples\": [\n          26\n        ],\n        \"semantic_type\": \"\",\n        \"description\": \"\"\n      }\n    },\n    {\n      \"column\": \"GF\",\n      \"properties\": {\n        \"dtype\": \"number\",\n        \"std\": 15,\n        \"min\": 20,\n        \"max\": 106,\n        \"num_unique_values\": 72,\n        \"samples\": [\n          57\n        ],\n        \"semantic_type\": \"\",\n        \"description\": \"\"\n      }\n    },\n    {\n      \"column\": \"GA\",\n      \"properties\": {\n        \"dtype\": \"number\",\n        \"std\": 12,\n        \"min\": 15,\n        \"max\": 89,\n        \"num_unique_values\": 64,\n        \"samples\": [\n          71\n        ],\n        \"semantic_type\": \"\",\n        \"description\": \"\"\n      }\n    },\n    {\n      \"column\": \"GD\",\n      \"properties\": {\n        \"dtype\": \"number\",\n        \"std\": 26,\n        \"min\": -69,\n        \"max\": 79,\n        \"num_unique_values\": 112,\n        \"samples\": [\n          -10\n        ],\n        \"semantic_type\": \"\",\n        \"description\": \"\"\n      }\n    },\n    {\n      \"column\": \"Pts\",\n      \"properties\": {\n        \"dtype\": \"number\",\n        \"std\": 17,\n        \"min\": 11,\n        \"max\": 100,\n        \"num_unique_values\": 80,\n        \"samples\": [\n          78\n        ],\n        \"semantic_type\": \"\",\n        \"description\": \"\"\n      }\n    },\n    {\n      \"column\": \"Qualification or relegation\",\n      \"properties\": {\n        \"dtype\": \"category\",\n        \"num_unique_values\": 37,\n        \"samples\": [\n          \"Qualification for the Champions League group stage[a]\"\n        ],\n        \"semantic_type\": \"\",\n        \"description\": \"\"\n      }\n    },\n    {\n      \"column\": \"Categoria\",\n      \"properties\": {\n        \"dtype\": \"category\",\n        \"num_unique_values\": 3,\n        \"samples\": [\n          \"Campe\\u00e3o\"\n        ],\n        \"semantic_type\": \"\",\n        \"description\": \"\"\n      }\n    }\n  ]\n}"
            }
          },
          "metadata": {},
          "execution_count": 43
        }
      ]
    },
    {
      "cell_type": "code",
      "source": [
        "# Adicionamos as informações dos jogadores ao df trabalhado\n",
        "standings['Year'] = standings['Season'].str.split('-').str[0].astype(int)\n",
        "standings['club_name'] = standings['Team']\n",
        "\n",
        "stadings_plus = pd.merge(standings, players, on=['Year', 'club_name']).drop(columns=['club_name', \"Year\"])\n",
        "standings = stadings_plus\n",
        "\n",
        "standings.head()"
      ],
      "metadata": {
        "colab": {
          "base_uri": "https://localhost:8080/",
          "height": 206
        },
        "id": "5wWNLLShvGH_",
        "outputId": "cec1dbd9-0263-4b69-e731-99795b91fbab"
      },
      "execution_count": 44,
      "outputs": [
        {
          "output_type": "execute_result",
          "data": {
            "text/plain": [
              "    Season  Pos               Team  Pld   W   D   L  GF  GA  GD  Pts  \\\n",
              "0  2015-16    1     Leicester City   38  23  12   3  68  36  32   81   \n",
              "1  2015-16    2            Arsenal   38  20  11   7  65  36  29   71   \n",
              "2  2015-16    3  Tottenham Hotspur   38  19  13   6  69  35  34   70   \n",
              "3  2015-16    4    Manchester City   38  19   9  10  71  41  30   66   \n",
              "4  2015-16    5  Manchester United   38  19   9  10  49  35  14   66   \n",
              "\n",
              "                         Qualification or relegation       Categoria  \\\n",
              "0  Qualification for the Champions League group s...         Campeão   \n",
              "1  Qualification for the Champions League group s...  Meio da Tabela   \n",
              "2  Qualification for the Champions League group s...  Meio da Tabela   \n",
              "3  Qualification for the Champions League play-of...  Meio da Tabela   \n",
              "4  Qualification for the Europa League group stag...  Meio da Tabela   \n",
              "\n",
              "   total_value_eur  mean_overall   mean_age  \n",
              "0        2447000.0     54.296296  24.037037  \n",
              "1      245075000.0     74.181818  23.818182  \n",
              "2      182925000.0     73.484848  24.393939  \n",
              "3      653180000.0     71.090909  24.818182  \n",
              "4        5020000.0     59.107143  22.250000  "
            ],
            "text/html": [
              "\n",
              "  <div id=\"df-8437519a-50f2-4308-b20e-15945ac4e4f3\" class=\"colab-df-container\">\n",
              "    <div>\n",
              "<style scoped>\n",
              "    .dataframe tbody tr th:only-of-type {\n",
              "        vertical-align: middle;\n",
              "    }\n",
              "\n",
              "    .dataframe tbody tr th {\n",
              "        vertical-align: top;\n",
              "    }\n",
              "\n",
              "    .dataframe thead th {\n",
              "        text-align: right;\n",
              "    }\n",
              "</style>\n",
              "<table border=\"1\" class=\"dataframe\">\n",
              "  <thead>\n",
              "    <tr style=\"text-align: right;\">\n",
              "      <th></th>\n",
              "      <th>Season</th>\n",
              "      <th>Pos</th>\n",
              "      <th>Team</th>\n",
              "      <th>Pld</th>\n",
              "      <th>W</th>\n",
              "      <th>D</th>\n",
              "      <th>L</th>\n",
              "      <th>GF</th>\n",
              "      <th>GA</th>\n",
              "      <th>GD</th>\n",
              "      <th>Pts</th>\n",
              "      <th>Qualification or relegation</th>\n",
              "      <th>Categoria</th>\n",
              "      <th>total_value_eur</th>\n",
              "      <th>mean_overall</th>\n",
              "      <th>mean_age</th>\n",
              "    </tr>\n",
              "  </thead>\n",
              "  <tbody>\n",
              "    <tr>\n",
              "      <th>0</th>\n",
              "      <td>2015-16</td>\n",
              "      <td>1</td>\n",
              "      <td>Leicester City</td>\n",
              "      <td>38</td>\n",
              "      <td>23</td>\n",
              "      <td>12</td>\n",
              "      <td>3</td>\n",
              "      <td>68</td>\n",
              "      <td>36</td>\n",
              "      <td>32</td>\n",
              "      <td>81</td>\n",
              "      <td>Qualification for the Champions League group s...</td>\n",
              "      <td>Campeão</td>\n",
              "      <td>2447000.0</td>\n",
              "      <td>54.296296</td>\n",
              "      <td>24.037037</td>\n",
              "    </tr>\n",
              "    <tr>\n",
              "      <th>1</th>\n",
              "      <td>2015-16</td>\n",
              "      <td>2</td>\n",
              "      <td>Arsenal</td>\n",
              "      <td>38</td>\n",
              "      <td>20</td>\n",
              "      <td>11</td>\n",
              "      <td>7</td>\n",
              "      <td>65</td>\n",
              "      <td>36</td>\n",
              "      <td>29</td>\n",
              "      <td>71</td>\n",
              "      <td>Qualification for the Champions League group s...</td>\n",
              "      <td>Meio da Tabela</td>\n",
              "      <td>245075000.0</td>\n",
              "      <td>74.181818</td>\n",
              "      <td>23.818182</td>\n",
              "    </tr>\n",
              "    <tr>\n",
              "      <th>2</th>\n",
              "      <td>2015-16</td>\n",
              "      <td>3</td>\n",
              "      <td>Tottenham Hotspur</td>\n",
              "      <td>38</td>\n",
              "      <td>19</td>\n",
              "      <td>13</td>\n",
              "      <td>6</td>\n",
              "      <td>69</td>\n",
              "      <td>35</td>\n",
              "      <td>34</td>\n",
              "      <td>70</td>\n",
              "      <td>Qualification for the Champions League group s...</td>\n",
              "      <td>Meio da Tabela</td>\n",
              "      <td>182925000.0</td>\n",
              "      <td>73.484848</td>\n",
              "      <td>24.393939</td>\n",
              "    </tr>\n",
              "    <tr>\n",
              "      <th>3</th>\n",
              "      <td>2015-16</td>\n",
              "      <td>4</td>\n",
              "      <td>Manchester City</td>\n",
              "      <td>38</td>\n",
              "      <td>19</td>\n",
              "      <td>9</td>\n",
              "      <td>10</td>\n",
              "      <td>71</td>\n",
              "      <td>41</td>\n",
              "      <td>30</td>\n",
              "      <td>66</td>\n",
              "      <td>Qualification for the Champions League play-of...</td>\n",
              "      <td>Meio da Tabela</td>\n",
              "      <td>653180000.0</td>\n",
              "      <td>71.090909</td>\n",
              "      <td>24.818182</td>\n",
              "    </tr>\n",
              "    <tr>\n",
              "      <th>4</th>\n",
              "      <td>2015-16</td>\n",
              "      <td>5</td>\n",
              "      <td>Manchester United</td>\n",
              "      <td>38</td>\n",
              "      <td>19</td>\n",
              "      <td>9</td>\n",
              "      <td>10</td>\n",
              "      <td>49</td>\n",
              "      <td>35</td>\n",
              "      <td>14</td>\n",
              "      <td>66</td>\n",
              "      <td>Qualification for the Europa League group stag...</td>\n",
              "      <td>Meio da Tabela</td>\n",
              "      <td>5020000.0</td>\n",
              "      <td>59.107143</td>\n",
              "      <td>22.250000</td>\n",
              "    </tr>\n",
              "  </tbody>\n",
              "</table>\n",
              "</div>\n",
              "    <div class=\"colab-df-buttons\">\n",
              "\n",
              "  <div class=\"colab-df-container\">\n",
              "    <button class=\"colab-df-convert\" onclick=\"convertToInteractive('df-8437519a-50f2-4308-b20e-15945ac4e4f3')\"\n",
              "            title=\"Convert this dataframe to an interactive table.\"\n",
              "            style=\"display:none;\">\n",
              "\n",
              "  <svg xmlns=\"http://www.w3.org/2000/svg\" height=\"24px\" viewBox=\"0 -960 960 960\">\n",
              "    <path d=\"M120-120v-720h720v720H120Zm60-500h600v-160H180v160Zm220 220h160v-160H400v160Zm0 220h160v-160H400v160ZM180-400h160v-160H180v160Zm440 0h160v-160H620v160ZM180-180h160v-160H180v160Zm440 0h160v-160H620v160Z\"/>\n",
              "  </svg>\n",
              "    </button>\n",
              "\n",
              "  <style>\n",
              "    .colab-df-container {\n",
              "      display:flex;\n",
              "      gap: 12px;\n",
              "    }\n",
              "\n",
              "    .colab-df-convert {\n",
              "      background-color: #E8F0FE;\n",
              "      border: none;\n",
              "      border-radius: 50%;\n",
              "      cursor: pointer;\n",
              "      display: none;\n",
              "      fill: #1967D2;\n",
              "      height: 32px;\n",
              "      padding: 0 0 0 0;\n",
              "      width: 32px;\n",
              "    }\n",
              "\n",
              "    .colab-df-convert:hover {\n",
              "      background-color: #E2EBFA;\n",
              "      box-shadow: 0px 1px 2px rgba(60, 64, 67, 0.3), 0px 1px 3px 1px rgba(60, 64, 67, 0.15);\n",
              "      fill: #174EA6;\n",
              "    }\n",
              "\n",
              "    .colab-df-buttons div {\n",
              "      margin-bottom: 4px;\n",
              "    }\n",
              "\n",
              "    [theme=dark] .colab-df-convert {\n",
              "      background-color: #3B4455;\n",
              "      fill: #D2E3FC;\n",
              "    }\n",
              "\n",
              "    [theme=dark] .colab-df-convert:hover {\n",
              "      background-color: #434B5C;\n",
              "      box-shadow: 0px 1px 3px 1px rgba(0, 0, 0, 0.15);\n",
              "      filter: drop-shadow(0px 1px 2px rgba(0, 0, 0, 0.3));\n",
              "      fill: #FFFFFF;\n",
              "    }\n",
              "  </style>\n",
              "\n",
              "    <script>\n",
              "      const buttonEl =\n",
              "        document.querySelector('#df-8437519a-50f2-4308-b20e-15945ac4e4f3 button.colab-df-convert');\n",
              "      buttonEl.style.display =\n",
              "        google.colab.kernel.accessAllowed ? 'block' : 'none';\n",
              "\n",
              "      async function convertToInteractive(key) {\n",
              "        const element = document.querySelector('#df-8437519a-50f2-4308-b20e-15945ac4e4f3');\n",
              "        const dataTable =\n",
              "          await google.colab.kernel.invokeFunction('convertToInteractive',\n",
              "                                                    [key], {});\n",
              "        if (!dataTable) return;\n",
              "\n",
              "        const docLinkHtml = 'Like what you see? Visit the ' +\n",
              "          '<a target=\"_blank\" href=https://colab.research.google.com/notebooks/data_table.ipynb>data table notebook</a>'\n",
              "          + ' to learn more about interactive tables.';\n",
              "        element.innerHTML = '';\n",
              "        dataTable['output_type'] = 'display_data';\n",
              "        await google.colab.output.renderOutput(dataTable, element);\n",
              "        const docLink = document.createElement('div');\n",
              "        docLink.innerHTML = docLinkHtml;\n",
              "        element.appendChild(docLink);\n",
              "      }\n",
              "    </script>\n",
              "  </div>\n",
              "\n",
              "\n",
              "<div id=\"df-3caaf37a-3465-43a4-b672-aa2eb5b20cac\">\n",
              "  <button class=\"colab-df-quickchart\" onclick=\"quickchart('df-3caaf37a-3465-43a4-b672-aa2eb5b20cac')\"\n",
              "            title=\"Suggest charts\"\n",
              "            style=\"display:none;\">\n",
              "\n",
              "<svg xmlns=\"http://www.w3.org/2000/svg\" height=\"24px\"viewBox=\"0 0 24 24\"\n",
              "     width=\"24px\">\n",
              "    <g>\n",
              "        <path d=\"M19 3H5c-1.1 0-2 .9-2 2v14c0 1.1.9 2 2 2h14c1.1 0 2-.9 2-2V5c0-1.1-.9-2-2-2zM9 17H7v-7h2v7zm4 0h-2V7h2v10zm4 0h-2v-4h2v4z\"/>\n",
              "    </g>\n",
              "</svg>\n",
              "  </button>\n",
              "\n",
              "<style>\n",
              "  .colab-df-quickchart {\n",
              "      --bg-color: #E8F0FE;\n",
              "      --fill-color: #1967D2;\n",
              "      --hover-bg-color: #E2EBFA;\n",
              "      --hover-fill-color: #174EA6;\n",
              "      --disabled-fill-color: #AAA;\n",
              "      --disabled-bg-color: #DDD;\n",
              "  }\n",
              "\n",
              "  [theme=dark] .colab-df-quickchart {\n",
              "      --bg-color: #3B4455;\n",
              "      --fill-color: #D2E3FC;\n",
              "      --hover-bg-color: #434B5C;\n",
              "      --hover-fill-color: #FFFFFF;\n",
              "      --disabled-bg-color: #3B4455;\n",
              "      --disabled-fill-color: #666;\n",
              "  }\n",
              "\n",
              "  .colab-df-quickchart {\n",
              "    background-color: var(--bg-color);\n",
              "    border: none;\n",
              "    border-radius: 50%;\n",
              "    cursor: pointer;\n",
              "    display: none;\n",
              "    fill: var(--fill-color);\n",
              "    height: 32px;\n",
              "    padding: 0;\n",
              "    width: 32px;\n",
              "  }\n",
              "\n",
              "  .colab-df-quickchart:hover {\n",
              "    background-color: var(--hover-bg-color);\n",
              "    box-shadow: 0 1px 2px rgba(60, 64, 67, 0.3), 0 1px 3px 1px rgba(60, 64, 67, 0.15);\n",
              "    fill: var(--button-hover-fill-color);\n",
              "  }\n",
              "\n",
              "  .colab-df-quickchart-complete:disabled,\n",
              "  .colab-df-quickchart-complete:disabled:hover {\n",
              "    background-color: var(--disabled-bg-color);\n",
              "    fill: var(--disabled-fill-color);\n",
              "    box-shadow: none;\n",
              "  }\n",
              "\n",
              "  .colab-df-spinner {\n",
              "    border: 2px solid var(--fill-color);\n",
              "    border-color: transparent;\n",
              "    border-bottom-color: var(--fill-color);\n",
              "    animation:\n",
              "      spin 1s steps(1) infinite;\n",
              "  }\n",
              "\n",
              "  @keyframes spin {\n",
              "    0% {\n",
              "      border-color: transparent;\n",
              "      border-bottom-color: var(--fill-color);\n",
              "      border-left-color: var(--fill-color);\n",
              "    }\n",
              "    20% {\n",
              "      border-color: transparent;\n",
              "      border-left-color: var(--fill-color);\n",
              "      border-top-color: var(--fill-color);\n",
              "    }\n",
              "    30% {\n",
              "      border-color: transparent;\n",
              "      border-left-color: var(--fill-color);\n",
              "      border-top-color: var(--fill-color);\n",
              "      border-right-color: var(--fill-color);\n",
              "    }\n",
              "    40% {\n",
              "      border-color: transparent;\n",
              "      border-right-color: var(--fill-color);\n",
              "      border-top-color: var(--fill-color);\n",
              "    }\n",
              "    60% {\n",
              "      border-color: transparent;\n",
              "      border-right-color: var(--fill-color);\n",
              "    }\n",
              "    80% {\n",
              "      border-color: transparent;\n",
              "      border-right-color: var(--fill-color);\n",
              "      border-bottom-color: var(--fill-color);\n",
              "    }\n",
              "    90% {\n",
              "      border-color: transparent;\n",
              "      border-bottom-color: var(--fill-color);\n",
              "    }\n",
              "  }\n",
              "</style>\n",
              "\n",
              "  <script>\n",
              "    async function quickchart(key) {\n",
              "      const quickchartButtonEl =\n",
              "        document.querySelector('#' + key + ' button');\n",
              "      quickchartButtonEl.disabled = true;  // To prevent multiple clicks.\n",
              "      quickchartButtonEl.classList.add('colab-df-spinner');\n",
              "      try {\n",
              "        const charts = await google.colab.kernel.invokeFunction(\n",
              "            'suggestCharts', [key], {});\n",
              "      } catch (error) {\n",
              "        console.error('Error during call to suggestCharts:', error);\n",
              "      }\n",
              "      quickchartButtonEl.classList.remove('colab-df-spinner');\n",
              "      quickchartButtonEl.classList.add('colab-df-quickchart-complete');\n",
              "    }\n",
              "    (() => {\n",
              "      let quickchartButtonEl =\n",
              "        document.querySelector('#df-3caaf37a-3465-43a4-b672-aa2eb5b20cac button');\n",
              "      quickchartButtonEl.style.display =\n",
              "        google.colab.kernel.accessAllowed ? 'block' : 'none';\n",
              "    })();\n",
              "  </script>\n",
              "</div>\n",
              "\n",
              "    </div>\n",
              "  </div>\n"
            ],
            "application/vnd.google.colaboratory.intrinsic+json": {
              "type": "dataframe",
              "variable_name": "standings",
              "summary": "{\n  \"name\": \"standings\",\n  \"rows\": 140,\n  \"fields\": [\n    {\n      \"column\": \"Season\",\n      \"properties\": {\n        \"dtype\": \"category\",\n        \"num_unique_values\": 7,\n        \"samples\": [\n          \"2015-16\",\n          \"2016-17\",\n          \"2020-21\"\n        ],\n        \"semantic_type\": \"\",\n        \"description\": \"\"\n      }\n    },\n    {\n      \"column\": \"Pos\",\n      \"properties\": {\n        \"dtype\": \"number\",\n        \"std\": 5,\n        \"min\": 1,\n        \"max\": 20,\n        \"num_unique_values\": 20,\n        \"samples\": [\n          1,\n          18,\n          16\n        ],\n        \"semantic_type\": \"\",\n        \"description\": \"\"\n      }\n    },\n    {\n      \"column\": \"Team\",\n      \"properties\": {\n        \"dtype\": \"category\",\n        \"num_unique_values\": 31,\n        \"samples\": [\n          \"Fulham\",\n          \"Bournemouth\",\n          \"Brighton & Hove Albion\"\n        ],\n        \"semantic_type\": \"\",\n        \"description\": \"\"\n      }\n    },\n    {\n      \"column\": \"Pld\",\n      \"properties\": {\n        \"dtype\": \"number\",\n        \"std\": 0,\n        \"min\": 38,\n        \"max\": 38,\n        \"num_unique_values\": 1,\n        \"samples\": [\n          38\n        ],\n        \"semantic_type\": \"\",\n        \"description\": \"\"\n      }\n    },\n    {\n      \"column\": \"W\",\n      \"properties\": {\n        \"dtype\": \"number\",\n        \"std\": 6,\n        \"min\": 3,\n        \"max\": 32,\n        \"num_unique_values\": 27,\n        \"samples\": [\n          10\n        ],\n        \"semantic_type\": \"\",\n        \"description\": \"\"\n      }\n    },\n    {\n      \"column\": \"D\",\n      \"properties\": {\n        \"dtype\": \"number\",\n        \"std\": 3,\n        \"min\": 2,\n        \"max\": 15,\n        \"num_unique_values\": 14,\n        \"samples\": [\n          6\n        ],\n        \"semantic_type\": \"\",\n        \"description\": \"\"\n      }\n    },\n    {\n      \"column\": \"L\",\n      \"properties\": {\n        \"dtype\": \"number\",\n        \"std\": 5,\n        \"min\": 1,\n        \"max\": 29,\n        \"num_unique_values\": 27,\n        \"samples\": [\n          13\n        ],\n        \"semantic_type\": \"\",\n        \"description\": \"\"\n      }\n    },\n    {\n      \"column\": \"GF\",\n      \"properties\": {\n        \"dtype\": \"number\",\n        \"std\": 17,\n        \"min\": 20,\n        \"max\": 106,\n        \"num_unique_values\": 60,\n        \"samples\": [\n          68\n        ],\n        \"semantic_type\": \"\",\n        \"description\": \"\"\n      }\n    },\n    {\n      \"column\": \"GA\",\n      \"properties\": {\n        \"dtype\": \"number\",\n        \"std\": 13,\n        \"min\": 22,\n        \"max\": 84,\n        \"num_unique_values\": 49,\n        \"samples\": [\n          33\n        ],\n        \"semantic_type\": \"\",\n        \"description\": \"\"\n      }\n    },\n    {\n      \"column\": \"GD\",\n      \"properties\": {\n        \"dtype\": \"number\",\n        \"std\": 28,\n        \"min\": -61,\n        \"max\": 79,\n        \"num_unique_values\": 75,\n        \"samples\": [\n          14\n        ],\n        \"semantic_type\": \"\",\n        \"description\": \"\"\n      }\n    },\n    {\n      \"column\": \"Pts\",\n      \"properties\": {\n        \"dtype\": \"number\",\n        \"std\": 18,\n        \"min\": 16,\n        \"max\": 100,\n        \"num_unique_values\": 59,\n        \"samples\": [\n          81\n        ],\n        \"semantic_type\": \"\",\n        \"description\": \"\"\n      }\n    },\n    {\n      \"column\": \"Qualification or relegation\",\n      \"properties\": {\n        \"dtype\": \"category\",\n        \"num_unique_values\": 13,\n        \"samples\": [\n          \"Qualification for the Europa Conference League play-off round[b]\"\n        ],\n        \"semantic_type\": \"\",\n        \"description\": \"\"\n      }\n    },\n    {\n      \"column\": \"Categoria\",\n      \"properties\": {\n        \"dtype\": \"category\",\n        \"num_unique_values\": 3,\n        \"samples\": [\n          \"Campe\\u00e3o\"\n        ],\n        \"semantic_type\": \"\",\n        \"description\": \"\"\n      }\n    },\n    {\n      \"column\": \"total_value_eur\",\n      \"properties\": {\n        \"dtype\": \"number\",\n        \"std\": 357356997.466398,\n        \"min\": 2447000.0,\n        \"max\": 2490570000.0,\n        \"num_unique_values\": 140,\n        \"samples\": [\n          71775000.0\n        ],\n        \"semantic_type\": \"\",\n        \"description\": \"\"\n      }\n    },\n    {\n      \"column\": \"mean_overall\",\n      \"properties\": {\n        \"dtype\": \"number\",\n        \"std\": 4.898435496012815,\n        \"min\": 54.2962962962963,\n        \"max\": 79.21212121212122,\n        \"num_unique_values\": 133,\n        \"samples\": [\n          69.06060606060606\n        ],\n        \"semantic_type\": \"\",\n        \"description\": \"\"\n      }\n    },\n    {\n      \"column\": \"mean_age\",\n      \"properties\": {\n        \"dtype\": \"number\",\n        \"std\": 1.0325057100121833,\n        \"min\": 22.25,\n        \"max\": 26.964285714285715,\n        \"num_unique_values\": 116,\n        \"samples\": [\n          25.1\n        ],\n        \"semantic_type\": \"\",\n        \"description\": \"\"\n      }\n    }\n  ]\n}"
            }
          },
          "metadata": {},
          "execution_count": 44
        }
      ]
    },
    {
      "cell_type": "markdown",
      "source": [
        "Agora vamos criar as categorias G4, Parte superior da tabela, Meio de tabela e Parte inferior da tabela com base na posição dos times"
      ],
      "metadata": {
        "id": "WviXkFBpQsbh"
      }
    },
    {
      "cell_type": "code",
      "source": [
        "#Adicionando categorias\n",
        "condicoes = [\n",
        "    (standings['Pos'] <= 4),\n",
        "    (standings['Pos'] <= 10),\n",
        "    (standings['Pos'] <= 15),\n",
        "    (standings['Pos'] <= 18)\n",
        "]\n",
        "opcoes = ['G4', 'Parte superior da tabela', 'Meio de tabela', 'Parte inferior da tabela']\n",
        "standings['Categoria'] = np.select(condicoes, opcoes, default='Z2')"
      ],
      "metadata": {
        "id": "ESi2Frs3Wpm7"
      },
      "execution_count": 45,
      "outputs": []
    },
    {
      "cell_type": "code",
      "source": [
        "# Adequando dados\n",
        "x = standings[['GF', 'GA', \"W\", \"D\", \"total_value_eur\", \"mean_overall\", \"mean_age\"]]\n",
        "y = standings['Categoria']\n",
        "\n",
        "X_train, X_test, y_train, y_test = train_test_split(x, y, test_size=.2, shuffle=True)\n",
        "\n",
        "X_train_mean = X_train.mean()\n",
        "X_train_std = X_train.std()\n",
        "\n",
        "X_train = (X_train-X_train_mean) / X_train_std\n",
        "\n",
        "# fazendo teste com base no treino.\n",
        "X_test = (X_test-X_train_mean) / X_train_std\n",
        "\n",
        "# prints de demonstração parcial dos resultados dessa parte.\n",
        "X_train.size, X_test.size, X_train.mean(), X_train.std()"
      ],
      "metadata": {
        "colab": {
          "base_uri": "https://localhost:8080/",
          "height": 0
        },
        "id": "Rd5EBJfuWYMu",
        "outputId": "6cbf4d56-8740-4baa-b278-5862e320b3f0"
      },
      "execution_count": 46,
      "outputs": [
        {
          "output_type": "execute_result",
          "data": {
            "text/plain": [
              "(784,\n",
              " 196,\n",
              " GF                 0.000000e+00\n",
              " GA                 1.427430e-16\n",
              " W                  1.110223e-16\n",
              " D                 -1.110223e-16\n",
              " total_value_eur    7.930164e-17\n",
              " mean_overall       1.586033e-16\n",
              " mean_age          -1.015061e-15\n",
              " dtype: float64,\n",
              " GF                 1.0\n",
              " GA                 1.0\n",
              " W                  1.0\n",
              " D                  1.0\n",
              " total_value_eur    1.0\n",
              " mean_overall       1.0\n",
              " mean_age           1.0\n",
              " dtype: float64)"
            ]
          },
          "metadata": {},
          "execution_count": 46
        }
      ]
    },
    {
      "cell_type": "markdown",
      "source": [
        "### Criando modelo"
      ],
      "metadata": {
        "id": "7pIPRxO1zXnX"
      }
    },
    {
      "cell_type": "code",
      "source": [
        "# Definir os hiperparâmetros a serem ajustados\n",
        "param_grid = {\n",
        "    'n_estimators': [100, 500],\n",
        "    'max_features': ['sqrt'],\n",
        "    'max_depth': [4, 8,  12],\n",
        "    'min_samples_split': [2, 5],\n",
        "    'min_samples_leaf': [2, 4],\n",
        "    'bootstrap': [True]\n",
        "}\n",
        "\n",
        "# Inicializar o modelo RandomForest\n",
        "rf = RandomForestClassifier()\n",
        "\n",
        "# Inicializar o GridSearchCV\n",
        "grid_search = GridSearchCV(estimator=rf, param_grid=param_grid, cv=5, n_jobs=-1, verbose=2)\n",
        "\n",
        "# Ajustar o GridSearchCV\n",
        "grid_search.fit(X_train, y_train)\n",
        "\n",
        "# Obter os melhores hiperparâmetros\n",
        "best_params = grid_search.best_params_\n",
        "print(\"Melhores hiperparâmetros:\", best_params)\n",
        "\n",
        "# Treinar o modelo com os melhores hiperparâmetros\n",
        "model = grid_search.best_estimator_\n",
        "model.fit(X_train, y_train)\n",
        "\n",
        "# Fazer previsões\n",
        "y_pred = model.predict(X_test)"
      ],
      "metadata": {
        "colab": {
          "base_uri": "https://localhost:8080/",
          "height": 0
        },
        "id": "hJV4PQWmzXQD",
        "outputId": "85676478-41cb-4d5c-9ee2-ce4d86731e72"
      },
      "execution_count": 47,
      "outputs": [
        {
          "output_type": "stream",
          "name": "stdout",
          "text": [
            "Fitting 5 folds for each of 24 candidates, totalling 120 fits\n",
            "Melhores hiperparâmetros: {'bootstrap': True, 'max_depth': 4, 'max_features': 'sqrt', 'min_samples_leaf': 4, 'min_samples_split': 5, 'n_estimators': 500}\n"
          ]
        }
      ]
    },
    {
      "cell_type": "code",
      "source": [
        "def use_model_to_predict(team_name: str, seasons_before:int=3) -> float:\n",
        "    \"\"\"Function that uses the model to predict the category of a team.\\n\n",
        "       team_name: str - The name of the team.\\n\n",
        "       seasons_before: int - The number of seasons to consider.\\n\n",
        "       return: float - The prediction.\"\"\"\n",
        "\n",
        "    # getting only valuable info.\n",
        "    team_info = standings[standings[\"Team\"] == team_name][['GF', 'GA', \"W\", \"D\", \"Season\", \"total_value_eur\", \"mean_overall\", \"mean_age\"]]\n",
        "\n",
        "    # getting the last X seasons.\n",
        "    seasons = standings[\"Season\"].unique().tolist()\n",
        "    seasons.sort()\n",
        "    seasons = seasons[-seasons_before:]\n",
        "\n",
        "    # getting the mean of the valuable info from the last X seasons.\n",
        "    team_info = team_info[team_info[\"Season\"].isin(seasons)][['GF', 'GA', \"W\", \"D\", \"total_value_eur\", \"mean_overall\", \"mean_age\"]]\n",
        "\n",
        "    # predicting\n",
        "    return model.predict(team_info.mean().values.reshape(1, -1))\n",
        "\n",
        "use_model_to_predict(\"Chelsea\", 3)"
      ],
      "metadata": {
        "id": "53As7mNM8Xpl",
        "colab": {
          "base_uri": "https://localhost:8080/",
          "height": 0
        },
        "outputId": "b5118dfc-83e5-4cda-cc7d-6fc3e556b131"
      },
      "execution_count": 49,
      "outputs": [
        {
          "output_type": "stream",
          "name": "stderr",
          "text": [
            "/usr/local/lib/python3.10/dist-packages/sklearn/base.py:465: UserWarning: X does not have valid feature names, but RandomForestClassifier was fitted with feature names\n",
            "  warnings.warn(\n"
          ]
        },
        {
          "output_type": "execute_result",
          "data": {
            "text/plain": [
              "array(['G4'], dtype=object)"
            ]
          },
          "metadata": {},
          "execution_count": 49
        }
      ]
    },
    {
      "cell_type": "markdown",
      "source": [
        "### Categorização Tática do Time"
      ],
      "metadata": {
        "id": "JD__JmN4zW6g"
      }
    },
    {
      "cell_type": "markdown",
      "source": [
        "Com base no número de gols sofridos e número de gols marcados por cada time, conseguimos categoriza-los em Ofensivos (para aqueles que marcaram mais gols do que sofreram), Defensivos (para os que sofreram mais gols do que marcaram) e Equilibrados (para aqueles que marcaram e sofreram o mesmo número de gols)."
      ],
      "metadata": {
        "id": "fjzGT3HDRTGE"
      }
    },
    {
      "cell_type": "code",
      "source": [
        "# Define a classificação tática\n",
        "def classify_tactic(row):\n",
        "    if row['GF'] > row['GA']:\n",
        "        return 'Ofensivo'\n",
        "    elif row['GF'] < row['GA']:\n",
        "        return 'Defensivo'\n",
        "    else:\n",
        "        return 'Equilibrado'\n",
        "\n",
        "# Aplica a classificação tática ao dataset\n",
        "standings['Tactic'] = standings.apply(classify_tactic, axis=1)\n",
        "\n",
        "# Verifica a nova coluna\n",
        "standings.head()"
      ],
      "metadata": {
        "id": "wokLS43WzWfD",
        "colab": {
          "base_uri": "https://localhost:8080/",
          "height": 206
        },
        "outputId": "c0c20735-3dd1-4023-92ef-0d9be65cc13e"
      },
      "execution_count": 50,
      "outputs": [
        {
          "output_type": "execute_result",
          "data": {
            "text/plain": [
              "    Season  Pos               Team  Pld   W   D   L  GF  GA  GD  Pts  \\\n",
              "0  2015-16    1     Leicester City   38  23  12   3  68  36  32   81   \n",
              "1  2015-16    2            Arsenal   38  20  11   7  65  36  29   71   \n",
              "2  2015-16    3  Tottenham Hotspur   38  19  13   6  69  35  34   70   \n",
              "3  2015-16    4    Manchester City   38  19   9  10  71  41  30   66   \n",
              "4  2015-16    5  Manchester United   38  19   9  10  49  35  14   66   \n",
              "\n",
              "                         Qualification or relegation  \\\n",
              "0  Qualification for the Champions League group s...   \n",
              "1  Qualification for the Champions League group s...   \n",
              "2  Qualification for the Champions League group s...   \n",
              "3  Qualification for the Champions League play-of...   \n",
              "4  Qualification for the Europa League group stag...   \n",
              "\n",
              "                  Categoria  total_value_eur  mean_overall   mean_age  \\\n",
              "0                        G4        2447000.0     54.296296  24.037037   \n",
              "1                        G4      245075000.0     74.181818  23.818182   \n",
              "2                        G4      182925000.0     73.484848  24.393939   \n",
              "3                        G4      653180000.0     71.090909  24.818182   \n",
              "4  Parte superior da tabela        5020000.0     59.107143  22.250000   \n",
              "\n",
              "     Tactic  \n",
              "0  Ofensivo  \n",
              "1  Ofensivo  \n",
              "2  Ofensivo  \n",
              "3  Ofensivo  \n",
              "4  Ofensivo  "
            ],
            "text/html": [
              "\n",
              "  <div id=\"df-992cdf3f-77b2-4587-a43a-7f4b07270c81\" class=\"colab-df-container\">\n",
              "    <div>\n",
              "<style scoped>\n",
              "    .dataframe tbody tr th:only-of-type {\n",
              "        vertical-align: middle;\n",
              "    }\n",
              "\n",
              "    .dataframe tbody tr th {\n",
              "        vertical-align: top;\n",
              "    }\n",
              "\n",
              "    .dataframe thead th {\n",
              "        text-align: right;\n",
              "    }\n",
              "</style>\n",
              "<table border=\"1\" class=\"dataframe\">\n",
              "  <thead>\n",
              "    <tr style=\"text-align: right;\">\n",
              "      <th></th>\n",
              "      <th>Season</th>\n",
              "      <th>Pos</th>\n",
              "      <th>Team</th>\n",
              "      <th>Pld</th>\n",
              "      <th>W</th>\n",
              "      <th>D</th>\n",
              "      <th>L</th>\n",
              "      <th>GF</th>\n",
              "      <th>GA</th>\n",
              "      <th>GD</th>\n",
              "      <th>Pts</th>\n",
              "      <th>Qualification or relegation</th>\n",
              "      <th>Categoria</th>\n",
              "      <th>total_value_eur</th>\n",
              "      <th>mean_overall</th>\n",
              "      <th>mean_age</th>\n",
              "      <th>Tactic</th>\n",
              "    </tr>\n",
              "  </thead>\n",
              "  <tbody>\n",
              "    <tr>\n",
              "      <th>0</th>\n",
              "      <td>2015-16</td>\n",
              "      <td>1</td>\n",
              "      <td>Leicester City</td>\n",
              "      <td>38</td>\n",
              "      <td>23</td>\n",
              "      <td>12</td>\n",
              "      <td>3</td>\n",
              "      <td>68</td>\n",
              "      <td>36</td>\n",
              "      <td>32</td>\n",
              "      <td>81</td>\n",
              "      <td>Qualification for the Champions League group s...</td>\n",
              "      <td>G4</td>\n",
              "      <td>2447000.0</td>\n",
              "      <td>54.296296</td>\n",
              "      <td>24.037037</td>\n",
              "      <td>Ofensivo</td>\n",
              "    </tr>\n",
              "    <tr>\n",
              "      <th>1</th>\n",
              "      <td>2015-16</td>\n",
              "      <td>2</td>\n",
              "      <td>Arsenal</td>\n",
              "      <td>38</td>\n",
              "      <td>20</td>\n",
              "      <td>11</td>\n",
              "      <td>7</td>\n",
              "      <td>65</td>\n",
              "      <td>36</td>\n",
              "      <td>29</td>\n",
              "      <td>71</td>\n",
              "      <td>Qualification for the Champions League group s...</td>\n",
              "      <td>G4</td>\n",
              "      <td>245075000.0</td>\n",
              "      <td>74.181818</td>\n",
              "      <td>23.818182</td>\n",
              "      <td>Ofensivo</td>\n",
              "    </tr>\n",
              "    <tr>\n",
              "      <th>2</th>\n",
              "      <td>2015-16</td>\n",
              "      <td>3</td>\n",
              "      <td>Tottenham Hotspur</td>\n",
              "      <td>38</td>\n",
              "      <td>19</td>\n",
              "      <td>13</td>\n",
              "      <td>6</td>\n",
              "      <td>69</td>\n",
              "      <td>35</td>\n",
              "      <td>34</td>\n",
              "      <td>70</td>\n",
              "      <td>Qualification for the Champions League group s...</td>\n",
              "      <td>G4</td>\n",
              "      <td>182925000.0</td>\n",
              "      <td>73.484848</td>\n",
              "      <td>24.393939</td>\n",
              "      <td>Ofensivo</td>\n",
              "    </tr>\n",
              "    <tr>\n",
              "      <th>3</th>\n",
              "      <td>2015-16</td>\n",
              "      <td>4</td>\n",
              "      <td>Manchester City</td>\n",
              "      <td>38</td>\n",
              "      <td>19</td>\n",
              "      <td>9</td>\n",
              "      <td>10</td>\n",
              "      <td>71</td>\n",
              "      <td>41</td>\n",
              "      <td>30</td>\n",
              "      <td>66</td>\n",
              "      <td>Qualification for the Champions League play-of...</td>\n",
              "      <td>G4</td>\n",
              "      <td>653180000.0</td>\n",
              "      <td>71.090909</td>\n",
              "      <td>24.818182</td>\n",
              "      <td>Ofensivo</td>\n",
              "    </tr>\n",
              "    <tr>\n",
              "      <th>4</th>\n",
              "      <td>2015-16</td>\n",
              "      <td>5</td>\n",
              "      <td>Manchester United</td>\n",
              "      <td>38</td>\n",
              "      <td>19</td>\n",
              "      <td>9</td>\n",
              "      <td>10</td>\n",
              "      <td>49</td>\n",
              "      <td>35</td>\n",
              "      <td>14</td>\n",
              "      <td>66</td>\n",
              "      <td>Qualification for the Europa League group stag...</td>\n",
              "      <td>Parte superior da tabela</td>\n",
              "      <td>5020000.0</td>\n",
              "      <td>59.107143</td>\n",
              "      <td>22.250000</td>\n",
              "      <td>Ofensivo</td>\n",
              "    </tr>\n",
              "  </tbody>\n",
              "</table>\n",
              "</div>\n",
              "    <div class=\"colab-df-buttons\">\n",
              "\n",
              "  <div class=\"colab-df-container\">\n",
              "    <button class=\"colab-df-convert\" onclick=\"convertToInteractive('df-992cdf3f-77b2-4587-a43a-7f4b07270c81')\"\n",
              "            title=\"Convert this dataframe to an interactive table.\"\n",
              "            style=\"display:none;\">\n",
              "\n",
              "  <svg xmlns=\"http://www.w3.org/2000/svg\" height=\"24px\" viewBox=\"0 -960 960 960\">\n",
              "    <path d=\"M120-120v-720h720v720H120Zm60-500h600v-160H180v160Zm220 220h160v-160H400v160Zm0 220h160v-160H400v160ZM180-400h160v-160H180v160Zm440 0h160v-160H620v160ZM180-180h160v-160H180v160Zm440 0h160v-160H620v160Z\"/>\n",
              "  </svg>\n",
              "    </button>\n",
              "\n",
              "  <style>\n",
              "    .colab-df-container {\n",
              "      display:flex;\n",
              "      gap: 12px;\n",
              "    }\n",
              "\n",
              "    .colab-df-convert {\n",
              "      background-color: #E8F0FE;\n",
              "      border: none;\n",
              "      border-radius: 50%;\n",
              "      cursor: pointer;\n",
              "      display: none;\n",
              "      fill: #1967D2;\n",
              "      height: 32px;\n",
              "      padding: 0 0 0 0;\n",
              "      width: 32px;\n",
              "    }\n",
              "\n",
              "    .colab-df-convert:hover {\n",
              "      background-color: #E2EBFA;\n",
              "      box-shadow: 0px 1px 2px rgba(60, 64, 67, 0.3), 0px 1px 3px 1px rgba(60, 64, 67, 0.15);\n",
              "      fill: #174EA6;\n",
              "    }\n",
              "\n",
              "    .colab-df-buttons div {\n",
              "      margin-bottom: 4px;\n",
              "    }\n",
              "\n",
              "    [theme=dark] .colab-df-convert {\n",
              "      background-color: #3B4455;\n",
              "      fill: #D2E3FC;\n",
              "    }\n",
              "\n",
              "    [theme=dark] .colab-df-convert:hover {\n",
              "      background-color: #434B5C;\n",
              "      box-shadow: 0px 1px 3px 1px rgba(0, 0, 0, 0.15);\n",
              "      filter: drop-shadow(0px 1px 2px rgba(0, 0, 0, 0.3));\n",
              "      fill: #FFFFFF;\n",
              "    }\n",
              "  </style>\n",
              "\n",
              "    <script>\n",
              "      const buttonEl =\n",
              "        document.querySelector('#df-992cdf3f-77b2-4587-a43a-7f4b07270c81 button.colab-df-convert');\n",
              "      buttonEl.style.display =\n",
              "        google.colab.kernel.accessAllowed ? 'block' : 'none';\n",
              "\n",
              "      async function convertToInteractive(key) {\n",
              "        const element = document.querySelector('#df-992cdf3f-77b2-4587-a43a-7f4b07270c81');\n",
              "        const dataTable =\n",
              "          await google.colab.kernel.invokeFunction('convertToInteractive',\n",
              "                                                    [key], {});\n",
              "        if (!dataTable) return;\n",
              "\n",
              "        const docLinkHtml = 'Like what you see? Visit the ' +\n",
              "          '<a target=\"_blank\" href=https://colab.research.google.com/notebooks/data_table.ipynb>data table notebook</a>'\n",
              "          + ' to learn more about interactive tables.';\n",
              "        element.innerHTML = '';\n",
              "        dataTable['output_type'] = 'display_data';\n",
              "        await google.colab.output.renderOutput(dataTable, element);\n",
              "        const docLink = document.createElement('div');\n",
              "        docLink.innerHTML = docLinkHtml;\n",
              "        element.appendChild(docLink);\n",
              "      }\n",
              "    </script>\n",
              "  </div>\n",
              "\n",
              "\n",
              "<div id=\"df-e20b4db0-45e0-49cc-bc00-fc0185069dd0\">\n",
              "  <button class=\"colab-df-quickchart\" onclick=\"quickchart('df-e20b4db0-45e0-49cc-bc00-fc0185069dd0')\"\n",
              "            title=\"Suggest charts\"\n",
              "            style=\"display:none;\">\n",
              "\n",
              "<svg xmlns=\"http://www.w3.org/2000/svg\" height=\"24px\"viewBox=\"0 0 24 24\"\n",
              "     width=\"24px\">\n",
              "    <g>\n",
              "        <path d=\"M19 3H5c-1.1 0-2 .9-2 2v14c0 1.1.9 2 2 2h14c1.1 0 2-.9 2-2V5c0-1.1-.9-2-2-2zM9 17H7v-7h2v7zm4 0h-2V7h2v10zm4 0h-2v-4h2v4z\"/>\n",
              "    </g>\n",
              "</svg>\n",
              "  </button>\n",
              "\n",
              "<style>\n",
              "  .colab-df-quickchart {\n",
              "      --bg-color: #E8F0FE;\n",
              "      --fill-color: #1967D2;\n",
              "      --hover-bg-color: #E2EBFA;\n",
              "      --hover-fill-color: #174EA6;\n",
              "      --disabled-fill-color: #AAA;\n",
              "      --disabled-bg-color: #DDD;\n",
              "  }\n",
              "\n",
              "  [theme=dark] .colab-df-quickchart {\n",
              "      --bg-color: #3B4455;\n",
              "      --fill-color: #D2E3FC;\n",
              "      --hover-bg-color: #434B5C;\n",
              "      --hover-fill-color: #FFFFFF;\n",
              "      --disabled-bg-color: #3B4455;\n",
              "      --disabled-fill-color: #666;\n",
              "  }\n",
              "\n",
              "  .colab-df-quickchart {\n",
              "    background-color: var(--bg-color);\n",
              "    border: none;\n",
              "    border-radius: 50%;\n",
              "    cursor: pointer;\n",
              "    display: none;\n",
              "    fill: var(--fill-color);\n",
              "    height: 32px;\n",
              "    padding: 0;\n",
              "    width: 32px;\n",
              "  }\n",
              "\n",
              "  .colab-df-quickchart:hover {\n",
              "    background-color: var(--hover-bg-color);\n",
              "    box-shadow: 0 1px 2px rgba(60, 64, 67, 0.3), 0 1px 3px 1px rgba(60, 64, 67, 0.15);\n",
              "    fill: var(--button-hover-fill-color);\n",
              "  }\n",
              "\n",
              "  .colab-df-quickchart-complete:disabled,\n",
              "  .colab-df-quickchart-complete:disabled:hover {\n",
              "    background-color: var(--disabled-bg-color);\n",
              "    fill: var(--disabled-fill-color);\n",
              "    box-shadow: none;\n",
              "  }\n",
              "\n",
              "  .colab-df-spinner {\n",
              "    border: 2px solid var(--fill-color);\n",
              "    border-color: transparent;\n",
              "    border-bottom-color: var(--fill-color);\n",
              "    animation:\n",
              "      spin 1s steps(1) infinite;\n",
              "  }\n",
              "\n",
              "  @keyframes spin {\n",
              "    0% {\n",
              "      border-color: transparent;\n",
              "      border-bottom-color: var(--fill-color);\n",
              "      border-left-color: var(--fill-color);\n",
              "    }\n",
              "    20% {\n",
              "      border-color: transparent;\n",
              "      border-left-color: var(--fill-color);\n",
              "      border-top-color: var(--fill-color);\n",
              "    }\n",
              "    30% {\n",
              "      border-color: transparent;\n",
              "      border-left-color: var(--fill-color);\n",
              "      border-top-color: var(--fill-color);\n",
              "      border-right-color: var(--fill-color);\n",
              "    }\n",
              "    40% {\n",
              "      border-color: transparent;\n",
              "      border-right-color: var(--fill-color);\n",
              "      border-top-color: var(--fill-color);\n",
              "    }\n",
              "    60% {\n",
              "      border-color: transparent;\n",
              "      border-right-color: var(--fill-color);\n",
              "    }\n",
              "    80% {\n",
              "      border-color: transparent;\n",
              "      border-right-color: var(--fill-color);\n",
              "      border-bottom-color: var(--fill-color);\n",
              "    }\n",
              "    90% {\n",
              "      border-color: transparent;\n",
              "      border-bottom-color: var(--fill-color);\n",
              "    }\n",
              "  }\n",
              "</style>\n",
              "\n",
              "  <script>\n",
              "    async function quickchart(key) {\n",
              "      const quickchartButtonEl =\n",
              "        document.querySelector('#' + key + ' button');\n",
              "      quickchartButtonEl.disabled = true;  // To prevent multiple clicks.\n",
              "      quickchartButtonEl.classList.add('colab-df-spinner');\n",
              "      try {\n",
              "        const charts = await google.colab.kernel.invokeFunction(\n",
              "            'suggestCharts', [key], {});\n",
              "      } catch (error) {\n",
              "        console.error('Error during call to suggestCharts:', error);\n",
              "      }\n",
              "      quickchartButtonEl.classList.remove('colab-df-spinner');\n",
              "      quickchartButtonEl.classList.add('colab-df-quickchart-complete');\n",
              "    }\n",
              "    (() => {\n",
              "      let quickchartButtonEl =\n",
              "        document.querySelector('#df-e20b4db0-45e0-49cc-bc00-fc0185069dd0 button');\n",
              "      quickchartButtonEl.style.display =\n",
              "        google.colab.kernel.accessAllowed ? 'block' : 'none';\n",
              "    })();\n",
              "  </script>\n",
              "</div>\n",
              "\n",
              "    </div>\n",
              "  </div>\n"
            ],
            "application/vnd.google.colaboratory.intrinsic+json": {
              "type": "dataframe",
              "variable_name": "standings",
              "summary": "{\n  \"name\": \"standings\",\n  \"rows\": 140,\n  \"fields\": [\n    {\n      \"column\": \"Season\",\n      \"properties\": {\n        \"dtype\": \"category\",\n        \"num_unique_values\": 7,\n        \"samples\": [\n          \"2015-16\",\n          \"2016-17\",\n          \"2020-21\"\n        ],\n        \"semantic_type\": \"\",\n        \"description\": \"\"\n      }\n    },\n    {\n      \"column\": \"Pos\",\n      \"properties\": {\n        \"dtype\": \"number\",\n        \"std\": 5,\n        \"min\": 1,\n        \"max\": 20,\n        \"num_unique_values\": 20,\n        \"samples\": [\n          1,\n          18,\n          16\n        ],\n        \"semantic_type\": \"\",\n        \"description\": \"\"\n      }\n    },\n    {\n      \"column\": \"Team\",\n      \"properties\": {\n        \"dtype\": \"category\",\n        \"num_unique_values\": 31,\n        \"samples\": [\n          \"Fulham\",\n          \"Bournemouth\",\n          \"Brighton & Hove Albion\"\n        ],\n        \"semantic_type\": \"\",\n        \"description\": \"\"\n      }\n    },\n    {\n      \"column\": \"Pld\",\n      \"properties\": {\n        \"dtype\": \"number\",\n        \"std\": 0,\n        \"min\": 38,\n        \"max\": 38,\n        \"num_unique_values\": 1,\n        \"samples\": [\n          38\n        ],\n        \"semantic_type\": \"\",\n        \"description\": \"\"\n      }\n    },\n    {\n      \"column\": \"W\",\n      \"properties\": {\n        \"dtype\": \"number\",\n        \"std\": 6,\n        \"min\": 3,\n        \"max\": 32,\n        \"num_unique_values\": 27,\n        \"samples\": [\n          10\n        ],\n        \"semantic_type\": \"\",\n        \"description\": \"\"\n      }\n    },\n    {\n      \"column\": \"D\",\n      \"properties\": {\n        \"dtype\": \"number\",\n        \"std\": 3,\n        \"min\": 2,\n        \"max\": 15,\n        \"num_unique_values\": 14,\n        \"samples\": [\n          6\n        ],\n        \"semantic_type\": \"\",\n        \"description\": \"\"\n      }\n    },\n    {\n      \"column\": \"L\",\n      \"properties\": {\n        \"dtype\": \"number\",\n        \"std\": 5,\n        \"min\": 1,\n        \"max\": 29,\n        \"num_unique_values\": 27,\n        \"samples\": [\n          13\n        ],\n        \"semantic_type\": \"\",\n        \"description\": \"\"\n      }\n    },\n    {\n      \"column\": \"GF\",\n      \"properties\": {\n        \"dtype\": \"number\",\n        \"std\": 17,\n        \"min\": 20,\n        \"max\": 106,\n        \"num_unique_values\": 60,\n        \"samples\": [\n          68\n        ],\n        \"semantic_type\": \"\",\n        \"description\": \"\"\n      }\n    },\n    {\n      \"column\": \"GA\",\n      \"properties\": {\n        \"dtype\": \"number\",\n        \"std\": 13,\n        \"min\": 22,\n        \"max\": 84,\n        \"num_unique_values\": 49,\n        \"samples\": [\n          33\n        ],\n        \"semantic_type\": \"\",\n        \"description\": \"\"\n      }\n    },\n    {\n      \"column\": \"GD\",\n      \"properties\": {\n        \"dtype\": \"number\",\n        \"std\": 28,\n        \"min\": -61,\n        \"max\": 79,\n        \"num_unique_values\": 75,\n        \"samples\": [\n          14\n        ],\n        \"semantic_type\": \"\",\n        \"description\": \"\"\n      }\n    },\n    {\n      \"column\": \"Pts\",\n      \"properties\": {\n        \"dtype\": \"number\",\n        \"std\": 18,\n        \"min\": 16,\n        \"max\": 100,\n        \"num_unique_values\": 59,\n        \"samples\": [\n          81\n        ],\n        \"semantic_type\": \"\",\n        \"description\": \"\"\n      }\n    },\n    {\n      \"column\": \"Qualification or relegation\",\n      \"properties\": {\n        \"dtype\": \"category\",\n        \"num_unique_values\": 13,\n        \"samples\": [\n          \"Qualification for the Europa Conference League play-off round[b]\"\n        ],\n        \"semantic_type\": \"\",\n        \"description\": \"\"\n      }\n    },\n    {\n      \"column\": \"Categoria\",\n      \"properties\": {\n        \"dtype\": \"category\",\n        \"num_unique_values\": 5,\n        \"samples\": [\n          \"Parte superior da tabela\"\n        ],\n        \"semantic_type\": \"\",\n        \"description\": \"\"\n      }\n    },\n    {\n      \"column\": \"total_value_eur\",\n      \"properties\": {\n        \"dtype\": \"number\",\n        \"std\": 357356997.466398,\n        \"min\": 2447000.0,\n        \"max\": 2490570000.0,\n        \"num_unique_values\": 140,\n        \"samples\": [\n          71775000.0\n        ],\n        \"semantic_type\": \"\",\n        \"description\": \"\"\n      }\n    },\n    {\n      \"column\": \"mean_overall\",\n      \"properties\": {\n        \"dtype\": \"number\",\n        \"std\": 4.898435496012815,\n        \"min\": 54.2962962962963,\n        \"max\": 79.21212121212122,\n        \"num_unique_values\": 133,\n        \"samples\": [\n          69.06060606060606\n        ],\n        \"semantic_type\": \"\",\n        \"description\": \"\"\n      }\n    },\n    {\n      \"column\": \"mean_age\",\n      \"properties\": {\n        \"dtype\": \"number\",\n        \"std\": 1.0325057100121833,\n        \"min\": 22.25,\n        \"max\": 26.964285714285715,\n        \"num_unique_values\": 116,\n        \"samples\": [\n          25.1\n        ],\n        \"semantic_type\": \"\",\n        \"description\": \"\"\n      }\n    },\n    {\n      \"column\": \"Tactic\",\n      \"properties\": {\n        \"dtype\": \"category\",\n        \"num_unique_values\": 3,\n        \"samples\": [\n          \"Ofensivo\"\n        ],\n        \"semantic_type\": \"\",\n        \"description\": \"\"\n      }\n    }\n  ]\n}"
            }
          },
          "metadata": {},
          "execution_count": 50
        }
      ]
    },
    {
      "cell_type": "markdown",
      "source": [
        "## KNN"
      ],
      "metadata": {
        "id": "ggCXLO3gLCLo"
      }
    },
    {
      "cell_type": "code",
      "source": [
        "import math\n",
        "\n",
        "X = standings[['W', 'D', 'L', 'GF', 'GA', 'GD', 'Pts', 'total_value_eur']]\n",
        "y = standings['Pos']\n",
        "\n",
        "# Dividindo os dados em conjunto de treino e teste\n",
        "X_train, X_test, y_train, y_test = train_test_split(X, y, test_size=0.2, random_state=42)\n",
        "\n",
        "# Normalizando os dados\n",
        "scaler = StandardScaler()\n",
        "X_train = scaler.fit_transform(X_train)\n",
        "X_test = scaler.transform(X_test)\n",
        "\n",
        "# Treinando o modelo KNN\n",
        "knn = KNeighborsRegressor(n_neighbors=7)\n",
        "knn.fit(X_train, y_train)\n",
        "\n",
        "# Fazendo previsões\n",
        "y_pred = knn.predict(X_test)\n",
        "\n",
        "# Avaliando o modelo\n",
        "mse = mean_squared_error(y_test, y_pred)\n",
        "print(f'Mean Squared Error: {mse}')"
      ],
      "metadata": {
        "colab": {
          "base_uri": "https://localhost:8080/",
          "height": 0
        },
        "id": "8zPIr6i4MFGB",
        "outputId": "3dc73192-8e57-4c94-93c2-9b1ea6a287a3"
      },
      "execution_count": 53,
      "outputs": [
        {
          "output_type": "stream",
          "name": "stdout",
          "text": [
            "Mean Squared Error: 1.6005830903790084\n"
          ]
        }
      ]
    },
    {
      "cell_type": "markdown",
      "source": [
        "A utilização do pacote de KNN do sklearn permite que façamos uma predição da posição final de um time de acordo com atributos em comum e comparemos com os dados reais. Ao utilizar os parâmetros de vitórias, empates, derrotas, gols feitos e sofridos, pontos e valor em euros do elenco, podemos estimar com um erro quadrático médio de 1.6 a posição final de uma equipe. Esse exemplo do KNN utiliza os 7 vizinhos mais próximos no espaço vetorial."
      ],
      "metadata": {
        "id": "TSyNwzgOj-Uz"
      }
    },
    {
      "cell_type": "markdown",
      "source": [
        "## Avaliação dos Resultados"
      ],
      "metadata": {
        "id": "XWhxPZzi0L1v"
      }
    },
    {
      "cell_type": "code",
      "source": [
        "# Prepara a matriz de recursos X\n",
        "features = ['GF', 'GA', 'W', 'D', 'total_value_eur', 'mean_overall', 'mean_age']\n",
        "X = standings[features]\n",
        "\n",
        "# Matriz de confusão para verificar interações\n",
        "cm = confusion_matrix(y_test, y_pred)\n",
        "disp = ConfusionMatrixDisplay(confusion_matrix=cm)\n",
        "disp.plot()\n",
        "\n",
        "# Verifica classificações dos tipos ofensivos, defensivos e equilibrados\n",
        "tactic_predictions = standings.copy()\n",
        "tactic_predictions['Predicted_Tactic'] = model.predict(X)\n",
        "\n",
        "# Tabela de contingência\n",
        "contingency_table = pd.crosstab(tactic_predictions['Tactic'], tactic_predictions['Predicted_Tactic'])\n",
        "print(contingency_table)\n",
        "\n",
        "# Analisando desempenho\n",
        "print_classification_metrics(y_test, y_pred)"
      ],
      "metadata": {
        "colab": {
          "base_uri": "https://localhost:8080/",
          "height": 611
        },
        "id": "f5kvmap00MLf",
        "outputId": "6e6ef12d-fcb9-47ed-83e9-63750af3b42d"
      },
      "execution_count": 52,
      "outputs": [
        {
          "output_type": "stream",
          "name": "stdout",
          "text": [
            "Predicted_Tactic  G4\n",
            "Tactic              \n",
            "Defensivo         80\n",
            "Equilibrado        2\n",
            "Ofensivo          58\n",
            "Acurácia: 0.61\n",
            "Precisão: 0.79\n",
            "Recall: 0.61\n",
            "F1-Score: 0.61\n"
          ]
        },
        {
          "output_type": "display_data",
          "data": {
            "text/plain": [
              "<Figure size 640x480 with 2 Axes>"
            ],
            "image/png": "[encoded data removed]"
          },
          "metadata": {}
        }
      ]
    },
    {
      "cell_type": "markdown",
      "source": [
        "Os resultados indicam que o classificador tem uma precisão e recall moderados, sugerindo que ele está balanceado entre evitar falsos positivos e falsos negativos.\n",
        "\n",
        "Interpretação dos resultados:\n",
        "\n",
        "Distribuição das táticas: A maioria dos times classificados como G4 são defensivos (80), seguido de ofensivos (58), e apenas 2 times são equilibrados. Isso pode indicar uma tendência dos times defensivos em alcançar melhores posições, ou que o classificador tem uma propensão a classificar times de sucesso como defensivos.\n",
        "\n",
        "Desempenho dos classificadores: Com uma acurácia de 68%, o modelo não é perfeito, mas pode fornecer uma boa visão geral. A precisão de 74% sugere que a maioria das previsões positivas são corretas, enquanto o recall de 68% indica que o modelo consegue identificar a maioria dos casos reais."
      ],
      "metadata": {
        "id": "69YtowGeS-d9"
      }
    },
    {
      "cell_type": "markdown",
      "source": [
        "# Resultados:"
      ],
      "metadata": {
        "id": "I2pE_39dMgyl"
      }
    },
    {
      "cell_type": "markdown",
      "source": [
        "Os resultados indicam que o classificador utilizado no trabalho apresenta uma precisão e recall moderados, com uma acurácia geral de 68%. Isso sugere que o modelo é balanceado e pode fornecer uma visão geral razoável do desempenho das equipes. Além disso, os dados mostraram que a maioria dos times classificados como G4 (os melhores classificados) tendem a ser defensivos, com 80 times classificados como defensivos, 58 como ofensivos e apenas 2 como equilibrados.\n",
        "\n",
        "Essa distribuição pode indicar que times com uma abordagem defensiva têm maior sucesso em alcançar posições de destaque, ou que o modelo tem uma propensão a classificar times de sucesso como defensivos."
      ],
      "metadata": {
        "id": "9M7JM02wUTTY"
      }
    },
    {
      "cell_type": "markdown",
      "source": [
        "## 1. É possível prever quem será o campeão de uma competição baseado no desempenho de competições anteriores?"
      ],
      "metadata": {
        "id": "CrddGSHeUjMG"
      }
    },
    {
      "cell_type": "markdown",
      "source": [
        "A previsão do campeão com base em competições anteriores é desafiadora, dado que a acurácia do modelo é de 68%. Embora o modelo possa fornecer insights sobre quais times têm maior probabilidade de sucesso, ele não é suficientemente preciso para prever com certeza quem será o campeão."
      ],
      "metadata": {
        "id": "CxeH9RdtUoLk"
      }
    },
    {
      "cell_type": "markdown",
      "source": [
        "## 2. Ser rebaixado/campeão/meio de tabela é um indicador relevante para o futuro de uma equipe?"
      ],
      "metadata": {
        "id": "CXj4mzz8UscT"
      }
    },
    {
      "cell_type": "markdown",
      "source": [
        "Os resultados sugerem que a classificação anterior (como ser rebaixado ou ser campeão) pode ter alguma relevância, especialmente se considerarmos a tendência observada de que times defensivos são mais propensos a alcançar melhores posições. No entanto, outras variáveis, como a mudança tática e o desenvolvimento da equipe, também desempenham um papel importante e não devem ser ignoradas."
      ],
      "metadata": {
        "id": "F7DLllYtUxJw"
      }
    },
    {
      "cell_type": "markdown",
      "source": [
        "## 3. Se a ofensividade/defensividade, ou qualquer outra característica tática marcante de um time, é um indicador relevante para o futuro da equipe?"
      ],
      "metadata": {
        "id": "zFbSN51UUzL1"
      }
    },
    {
      "cell_type": "markdown",
      "source": [
        "A análise sugere que a defensividade é uma característica tática relevante, uma vez que a maioria dos times bem-sucedidos foram classificados como defensivos. Isso pode ser um indicador importante para prever o futuro desempenho da equipe, especialmente em ligas onde a solidez defensiva é valorizada."
      ],
      "metadata": {
        "id": "JxUfKVFyU2Q0"
      }
    }
  ]
}