{
  "nbformat": 4,
  "nbformat_minor": 0,
  "metadata": {
    "colab": {
      "provenance": []
    },
    "kernelspec": {
      "name": "python3",
      "display_name": "Python 3"
    },
    "language_info": {
      "name": "python"
    }
  },
  "cells": [
    {
      "cell_type": "code",
      "source": [
        "!pip install sympy gmpy2 numpy\n"
      ],
      "metadata": {
        "colab": {
          "base_uri": "https://localhost:8080/"
        },
        "id": "BzrVJLf1YpsY",
        "outputId": "962e6e3a-06b7-4346-d86e-37500ad68c6d"
      },
      "execution_count": null,
      "outputs": [
        {
          "output_type": "stream",
          "name": "stdout",
          "text": [
            "Requirement already satisfied: sympy in /usr/local/lib/python3.10/dist-packages (1.13.1)\n",
            "Requirement already satisfied: gmpy2 in /usr/local/lib/python3.10/dist-packages (2.2.1)\n",
            "Requirement already satisfied: numpy in /usr/local/lib/python3.10/dist-packages (1.26.4)\n",
            "Requirement already satisfied: mpmath<1.4,>=1.1.0 in /usr/local/lib/python3.10/dist-packages (from sympy) (1.3.0)\n"
          ]
        }
      ]
    },
    {
      "cell_type": "code",
      "source": [
        "import gmpy2\n",
        "from gmpy2 import mpz, is_prime, gcd, isqrt, log, exp, sqrt\n",
        "import numpy as np\n",
        "\n",
        "def calcular_B(N):\n",
        "    logN = log(N)\n",
        "    loglogN = log(logN)\n",
        "    B = exp(0.5 * sqrt(logN * loglogN))\n",
        "    return int(B)\n",
        "\n",
        "def quadratic_sieve(n, M=2000):\n",
        "    n = mpz(n)  # Converter para mpz para lidar com números grandes\n",
        "\n",
        "    # Passo 1: Calcular o limite superior B para os primos\n",
        "    B = calcular_B(n)\n",
        "    primes = [mpz(p) for p in range(2, B + 1) if is_prime(p)]\n",
        "\n",
        "    # Informações solicitadas\n",
        "    limite_superior = B\n",
        "    num_primos = len(primes)\n",
        "\n",
        "    # Passo 2: Escolher M valores de x e calcular f(x) = (x + sqrt(n))^2 - n\n",
        "    sqrt_n = isqrt(n)\n",
        "    x_values = [sqrt_n + i for i in range(M)]\n",
        "    f_values = [(x**2 - n) for x in x_values]\n",
        "\n",
        "    # Tamanho do vetor de índices j\n",
        "    tamanho_vetor_j = len(f_values)\n",
        "\n",
        "    # Passo 3: Fatorar f(x) na base escolhida\n",
        "    factor_matrix = []\n",
        "    for f in f_values:\n",
        "        factorization = []\n",
        "        for p in primes:\n",
        "            exp = 0\n",
        "            while f % p == 0:\n",
        "                f //= p\n",
        "                exp += 1\n",
        "            factorization.append(exp % 2)  # modulo 2\n",
        "        factor_matrix.append(factorization)\n",
        "    factor_matrix = np.array(factor_matrix)\n",
        "\n",
        "    # Passo 4: Resolver o sistema linear para encontrar uma combinação de fatores\n",
        "    _, _, v = np.linalg.svd(factor_matrix)\n",
        "    solution = v[-1]  # menor vetor singular\n",
        "\n",
        "    # Evitar a solução trivial\n",
        "    if not any(solution):\n",
        "        solution = v[-2]  # usar outro vetor singular\n",
        "\n",
        "    # Passo 5: Determinar os fatores de n\n",
        "    factors = []\n",
        "    for i, bit in enumerate(solution):\n",
        "        if bit != 0:\n",
        "            factors.append(x_values[i])\n",
        "    if not factors:\n",
        "        raise ValueError(\"Nenhuma solução não-trivial encontrada.\")\n",
        "\n",
        "    x_prod = np.prod(factors) % n\n",
        "\n",
        "    # Usando a função isqrt para lidar com números grandes\n",
        "    y_squared = abs(np.prod([pow(x, 2) - n for x in factors])) % n\n",
        "    y_prod = isqrt(y_squared) % n\n",
        "\n",
        "    factor1 = gcd(x_prod - y_prod, n)\n",
        "    factor2 = gcd(x_prod + y_prod, n)\n",
        "\n",
        "    # Saídas solicitadas\n",
        "    print(f\"Limite superior para os primos: {limite_superior}\")\n",
        "    print(f\"Número de primos: {num_primos}\")\n",
        "    print(f\"Tamanho do vetor de índices j: {tamanho_vetor_j}\")\n",
        "    print(f\"x = {x_prod}, y = {y_prod}\")\n",
        "    print(f\"mdc(x - y, N) = {factor1}\")\n",
        "    print(f\"mdc(x + y, N) = {factor2}\")\n",
        "\n",
        "    return x_prod, y_prod, factor1, factor2\n",
        "\n",
        "# Teste com o número a ser fatorado\n",
        "n = '999999999000000001'  # Exemplo de número a ser fatorado\n",
        "quadratic_sieve(n)\n"
      ],
      "metadata": {
        "colab": {
          "base_uri": "https://localhost:8080/"
        },
        "id": "zi3V-gu1EjLd",
        "outputId": "1109a823-4a72-463b-87ed-bf492d0a6e47"
      },
      "execution_count": null,
      "outputs": [
        {
          "output_type": "stream",
          "name": "stdout",
          "text": [
            "Limite superior para os primos: 499\n",
            "Número de primos: 95\n",
            "Tamanho do vetor de índices j: 2000\n",
            "x = 629727864227498253, y = 941873193\n",
            "mdc(x - y, N) = 1\n",
            "mdc(x + y, N) = 1\n"
          ]
        },
        {
          "output_type": "execute_result",
          "data": {
            "text/plain": [
              "(mpz(629727864227498253), mpz(941873193), mpz(1), mpz(1))"
            ]
          },
          "metadata": {},
          "execution_count": 9
        }
      ]
    }
  ]
}